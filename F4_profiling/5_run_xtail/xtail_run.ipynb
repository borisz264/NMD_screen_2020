{
 "cells": [
  {
   "cell_type": "code",
   "execution_count": 1,
   "metadata": {
    "ExecuteTime": {
     "end_time": "2020-11-26T14:49:12.448881Z",
     "start_time": "2020-11-26T14:49:12.275Z"
    }
   },
   "outputs": [],
   "source": [
    "#if insatllation needed, better to do the following in R terminal\n",
    "#* Users should install DESeq2 before using Xtail:\n",
    "#start R and enter:\n",
    "#    source(\"https://bioconductor.org/biocLite.R\")\n",
    "#    biocLite(\"DESeq2\")\n",
    "#    install.packages(\"devtools\")\n",
    "#    library(\"devtools\")\n",
    "#    install_github(\"xryanglab/xtail\")\n",
    "# This no longer works on R 4.0 - have to edit the source due to changes in dataframe code in r 4.0 - see xtail issues page on github\n",
    "#CoreFuns.R#57 and CoreFuns#58 : add withDimnames=FALSE within assays()\n",
    "#methods.R#19 : add withDimnames=FALSE within assays()\n",
    "#Then open all .R files and do this for every instace of assays or assay\n",
    "\n",
    "#This worked by still gave warnings that DESeq2 converted strings to factors in the formula.:\n",
    "#changing xtail.R#48 with : condition=as.factor(condition) fixed those warnings."
   ]
  },
  {
   "cell_type": "code",
   "execution_count": 2,
   "metadata": {
    "ExecuteTime": {
     "end_time": "2020-11-26T14:49:17.161015Z",
     "start_time": "2020-11-26T14:49:12.276Z"
    }
   },
   "outputs": [],
   "source": [
    "suppressPackageStartupMessages(library(xtail))"
   ]
  },
  {
   "cell_type": "code",
   "execution_count": 3,
   "metadata": {
    "ExecuteTime": {
     "end_time": "2020-11-26T14:49:17.931810Z",
     "start_time": "2020-11-26T14:49:12.277Z"
    },
    "scrolled": false
   },
   "outputs": [],
   "source": [
    "#import data\n",
    "all_counts = read.csv(\"../4_salmon_quant/all_datasets_stop_collapsed_counts.tsv\", row.names='tx_id', sep='\\t')\n",
    "all_counts = all_counts[1:(length(all_counts)-2)]\n",
    "all_counts = round(all_counts)\n",
    "#all_counts"
   ]
  },
  {
   "cell_type": "markdown",
   "metadata": {},
   "source": [
    "# monosomes vs RNA"
   ]
  },
  {
   "cell_type": "code",
   "execution_count": 4,
   "metadata": {
    "ExecuteTime": {
     "end_time": "2020-11-26T14:52:38.900458Z",
     "start_time": "2020-11-26T14:49:12.278Z"
    }
   },
   "outputs": [
    {
     "name": "stderr",
     "output_type": "stream",
     "text": [
      "Calculating the library size factors\n",
      "\n",
      "1. Estimate the log2 fold change in mrna\n",
      "\n",
      "converting counts to integer mode\n",
      "\n",
      "2. Estimate the log2 fold change in rpf\n",
      "\n",
      "converting counts to integer mode\n",
      "\n",
      "3. Estimate the difference between two log2 fold changes\n",
      "\n",
      "4. Estimate the log2 ratio in first condition\n",
      "\n",
      "converting counts to integer mode\n",
      "\n",
      "5. Estimate the log2 ratio in second condition\n",
      "\n",
      "converting counts to integer mode\n",
      "\n",
      "6. Estimate the difference between two log2 ratios\n",
      "\n",
      "Number of the log2FC and log2R used in determining the final p-value\n",
      "\n",
      " log2FC: 3305\n",
      "\n",
      " log2R: 6815\n",
      "\n"
     ]
    }
   ],
   "source": [
    "mrna = all_counts[ ,c(\"WT_DMSO_1_RNA\", \"WT_DMSO_2_RNA\",\"WT_SMG1i_1_RNA\",\"WT_SMG1i_2_RNA\")]\n",
    "rpf = all_counts[ ,c(\"WT_DMSO_1_mono\",\"WT_DMSO_2_mono\",\"WT_SMG1i_1_mono\",\"WT_SMG1i_2_mono\")]\n",
    "condition <- c(\"WT_DMSO\", \"WT_DMSO\",\"WT_SMG1i\",\"WT_SMG1i\")\n",
    "test.results <- xtail(mrna,rpf,condition, minMeanCount=16)\n",
    "test.tab <- resultsTable(test.results, log2FCs=TRUE, log2Rs=TRUE)\n",
    "write.table(test.tab,\"xtail_results/xtail_SMG1i_mono_RNA.tsv\",quote=F, sep='\\t', col.names=NA)"
   ]
  },
  {
   "cell_type": "code",
   "execution_count": 5,
   "metadata": {
    "ExecuteTime": {
     "end_time": "2020-11-26T14:56:07.683536Z",
     "start_time": "2020-11-26T14:49:12.279Z"
    }
   },
   "outputs": [
    {
     "name": "stderr",
     "output_type": "stream",
     "text": [
      "Calculating the library size factors\n",
      "\n",
      "1. Estimate the log2 fold change in mrna\n",
      "\n",
      "converting counts to integer mode\n",
      "\n",
      "2. Estimate the log2 fold change in rpf\n",
      "\n",
      "converting counts to integer mode\n",
      "\n",
      "3. Estimate the difference between two log2 fold changes\n",
      "\n",
      "4. Estimate the log2 ratio in first condition\n",
      "\n",
      "converting counts to integer mode\n",
      "\n",
      "5. Estimate the log2 ratio in second condition\n",
      "\n",
      "converting counts to integer mode\n",
      "\n",
      "6. Estimate the difference between two log2 ratios\n",
      "\n",
      "Number of the log2FC and log2R used in determining the final p-value\n",
      "\n",
      " log2FC: 2958\n",
      "\n",
      " log2R: 7784\n",
      "\n"
     ]
    }
   ],
   "source": [
    "mrna = all_counts[ ,c('WT_DMSO_1_RNA', 'WT_DMSO_2_RNA','eIF4E2_4_DMSO_1_RNA','eIF4E2_4_DMSO_2_RNA')]\n",
    "rpf = all_counts[ ,c('WT_DMSO_1_mono', 'WT_DMSO_2_mono','eIF4E2_4_DMSO_1_mono','eIF4E2_4_DMSO_2_mono')]\n",
    "condition <- c(\"WT_DMSO\", \"WT_DMSO\",\"EIF4E2_DMSO\",'EIF4E2_DMSO')\n",
    "test.results <- xtail(mrna,rpf,condition, minMeanCount=16)\n",
    "test.tab <- resultsTable(test.results, log2FCs=TRUE, log2Rs=TRUE)\n",
    "write.table(test.tab,\"xtail_results/xtail_eIF4E2_in_DMSO_mono_RNA.tsv\",quote=F, sep='\\t', col.names=NA)"
   ]
  },
  {
   "cell_type": "code",
   "execution_count": 6,
   "metadata": {
    "ExecuteTime": {
     "end_time": "2020-11-26T14:59:29.697357Z",
     "start_time": "2020-11-26T14:49:12.280Z"
    }
   },
   "outputs": [
    {
     "name": "stderr",
     "output_type": "stream",
     "text": [
      "Calculating the library size factors\n",
      "\n",
      "1. Estimate the log2 fold change in mrna\n",
      "\n",
      "converting counts to integer mode\n",
      "\n",
      "2. Estimate the log2 fold change in rpf\n",
      "\n",
      "converting counts to integer mode\n",
      "\n",
      "3. Estimate the difference between two log2 fold changes\n",
      "\n",
      "4. Estimate the log2 ratio in first condition\n",
      "\n",
      "converting counts to integer mode\n",
      "\n",
      "5. Estimate the log2 ratio in second condition\n",
      "\n",
      "converting counts to integer mode\n",
      "\n",
      "6. Estimate the difference between two log2 ratios\n",
      "\n",
      "Number of the log2FC and log2R used in determining the final p-value\n",
      "\n",
      " log2FC: 2330\n",
      "\n",
      " log2R: 7990\n",
      "\n"
     ]
    }
   ],
   "source": [
    "mrna = all_counts[ ,c('WT_DMSO_1_RNA', 'WT_DMSO_2_RNA','GIGYF2_4_DMSO_1_RNA','GIGYF2_4_DMSO_2_RNA')]\n",
    "rpf = all_counts[ ,c('WT_DMSO_1_mono', 'WT_DMSO_2_mono','GIGYF2_4_DMSO_1_mono','GIGYF2_4_DMSO_2_mono')]\n",
    "condition <- c(\"WT_DMSO\", \"WT_DMSO\",\"GIGYF2_DMSO\",'GIGYF2_DMSO')\n",
    "test.results <- xtail(mrna,rpf,condition, minMeanCount=16)\n",
    "test.tab <- resultsTable(test.results, log2FCs=TRUE, log2Rs=TRUE)\n",
    "write.table(test.tab,\"xtail_results/xtail_GIGYF2_in_DMSO_mono_RNA.tsv\",quote=F, sep='\\t', col.names=NA)"
   ]
  },
  {
   "cell_type": "code",
   "execution_count": 7,
   "metadata": {
    "ExecuteTime": {
     "end_time": "2020-11-26T15:03:02.189415Z",
     "start_time": "2020-11-26T14:49:12.281Z"
    }
   },
   "outputs": [
    {
     "name": "stderr",
     "output_type": "stream",
     "text": [
      "Calculating the library size factors\n",
      "\n",
      "1. Estimate the log2 fold change in mrna\n",
      "\n",
      "converting counts to integer mode\n",
      "\n",
      "2. Estimate the log2 fold change in rpf\n",
      "\n",
      "converting counts to integer mode\n",
      "\n",
      "3. Estimate the difference between two log2 fold changes\n",
      "\n",
      "4. Estimate the log2 ratio in first condition\n",
      "\n",
      "converting counts to integer mode\n",
      "\n",
      "5. Estimate the log2 ratio in second condition\n",
      "\n",
      "converting counts to integer mode\n",
      "\n",
      "6. Estimate the difference between two log2 ratios\n",
      "\n",
      "Number of the log2FC and log2R used in determining the final p-value\n",
      "\n",
      " log2FC: 4830\n",
      "\n",
      " log2R: 6046\n",
      "\n"
     ]
    }
   ],
   "source": [
    "mrna = all_counts[ ,c('WT_SMG1i_1_RNA', 'WT_SMG1i_2_RNA','eIF4E2_4_SMG1i_1_RNA','eIF4E2_4_SMG1i_2_RNA')]\n",
    "rpf = all_counts[ ,c('WT_SMG1i_1_mono', 'WT_SMG1i_2_mono','eIF4E2_4_SMG1i_1_mono','eIF4E2_4_SMG1i_2_mono')]\n",
    "condition <- c(\"WT_SMG1i\", \"WT_SMG1i\",\"EIF4E2_SMG1i\",'EIF4E2_SMG1i')\n",
    "test.results <- xtail(mrna,rpf,condition, minMeanCount=16)\n",
    "test.tab <- resultsTable(test.results, log2FCs=TRUE, log2Rs=TRUE)\n",
    "write.table(test.tab,\"xtail_results/xtail_eIF4E2_in_SMG1i_mono_RNA.tsv\",quote=F, sep='\\t', col.names=NA)"
   ]
  },
  {
   "cell_type": "code",
   "execution_count": 8,
   "metadata": {
    "ExecuteTime": {
     "end_time": "2020-11-26T15:06:33.848474Z",
     "start_time": "2020-11-26T14:49:12.282Z"
    }
   },
   "outputs": [
    {
     "name": "stderr",
     "output_type": "stream",
     "text": [
      "Calculating the library size factors\n",
      "\n",
      "1. Estimate the log2 fold change in mrna\n",
      "\n",
      "converting counts to integer mode\n",
      "\n",
      "2. Estimate the log2 fold change in rpf\n",
      "\n",
      "converting counts to integer mode\n",
      "\n",
      "3. Estimate the difference between two log2 fold changes\n",
      "\n",
      "4. Estimate the log2 ratio in first condition\n",
      "\n",
      "converting counts to integer mode\n",
      "\n",
      "5. Estimate the log2 ratio in second condition\n",
      "\n",
      "converting counts to integer mode\n",
      "\n",
      "6. Estimate the difference between two log2 ratios\n",
      "\n",
      "Number of the log2FC and log2R used in determining the final p-value\n",
      "\n",
      " log2FC: 5245\n",
      "\n",
      " log2R: 5586\n",
      "\n"
     ]
    }
   ],
   "source": [
    "mrna = all_counts[ ,c('WT_DMSO_1_RNA', 'WT_DMSO_2_RNA','eIF4E2_4_SMG1i_1_RNA','eIF4E2_4_SMG1i_2_RNA')]\n",
    "rpf = all_counts[ ,c('WT_DMSO_1_mono', 'WT_DMSO_2_mono','eIF4E2_4_SMG1i_1_mono','eIF4E2_4_SMG1i_2_mono')]\n",
    "condition <- c(\"WT_SMG1i\", \"WT_SMG1i\",\"EIF4E2_SMG1i\",'EIF4E2_SMG1i')\n",
    "test.results <- xtail(mrna,rpf,condition, minMeanCount=16)\n",
    "test.tab <- resultsTable(test.results, log2FCs=TRUE, log2Rs=TRUE)\n",
    "write.table(test.tab,\"xtail_results/xtail_eIF4E2_SMG1i_v_WT_mono_RNA.tsv\",quote=F, sep='\\t', col.names=NA)"
   ]
  },
  {
   "cell_type": "code",
   "execution_count": 9,
   "metadata": {
    "ExecuteTime": {
     "end_time": "2020-11-26T15:10:08.462053Z",
     "start_time": "2020-11-26T14:49:12.282Z"
    }
   },
   "outputs": [
    {
     "name": "stderr",
     "output_type": "stream",
     "text": [
      "Calculating the library size factors\n",
      "\n",
      "1. Estimate the log2 fold change in mrna\n",
      "\n",
      "converting counts to integer mode\n",
      "\n",
      "2. Estimate the log2 fold change in rpf\n",
      "\n",
      "converting counts to integer mode\n",
      "\n",
      "3. Estimate the difference between two log2 fold changes\n",
      "\n",
      "4. Estimate the log2 ratio in first condition\n",
      "\n",
      "converting counts to integer mode\n",
      "\n",
      "5. Estimate the log2 ratio in second condition\n",
      "\n",
      "converting counts to integer mode\n",
      "\n",
      "6. Estimate the difference between two log2 ratios\n",
      "\n",
      "Number of the log2FC and log2R used in determining the final p-value\n",
      "\n",
      " log2FC: 2468\n",
      "\n",
      " log2R: 8457\n",
      "\n"
     ]
    }
   ],
   "source": [
    "mrna = all_counts[ ,c('WT_SMG1i_1_RNA', 'WT_SMG1i_2_RNA','GIGYF2_4_SMG1i_1_RNA','GIGYF2_4_SMG1i_2_RNA')]\n",
    "rpf = all_counts[ ,c('WT_SMG1i_1_mono', 'WT_SMG1i_2_mono','GIGYF2_4_SMG1i_1_mono','GIGYF2_4_SMG1i_2_mono')]\n",
    "condition <- c(\"WT_SMG1i\", \"WT_SMG1i\",\"GIGYF2_SMG1i\",'GIGYF2_SMG1i')\n",
    "test.results <- xtail(mrna,rpf,condition, minMeanCount=16)\n",
    "test.tab <- resultsTable(test.results, log2FCs=TRUE, log2Rs=TRUE)\n",
    "write.table(test.tab,\"xtail_results/xtail_GIGYF2_in_SMG1i_mono_RNA.tsv\",quote=F, sep='\\t', col.names=NA)"
   ]
  },
  {
   "cell_type": "code",
   "execution_count": 10,
   "metadata": {
    "ExecuteTime": {
     "end_time": "2020-11-26T15:13:43.887262Z",
     "start_time": "2020-11-26T14:49:12.283Z"
    }
   },
   "outputs": [
    {
     "name": "stderr",
     "output_type": "stream",
     "text": [
      "Calculating the library size factors\n",
      "\n",
      "1. Estimate the log2 fold change in mrna\n",
      "\n",
      "converting counts to integer mode\n",
      "\n",
      "2. Estimate the log2 fold change in rpf\n",
      "\n",
      "converting counts to integer mode\n",
      "\n",
      "3. Estimate the difference between two log2 fold changes\n",
      "\n",
      "4. Estimate the log2 ratio in first condition\n",
      "\n",
      "converting counts to integer mode\n",
      "\n",
      "5. Estimate the log2 ratio in second condition\n",
      "\n",
      "converting counts to integer mode\n",
      "\n",
      "6. Estimate the difference between two log2 ratios\n",
      "\n",
      "Number of the log2FC and log2R used in determining the final p-value\n",
      "\n",
      " log2FC: 3164\n",
      "\n",
      " log2R: 7749\n",
      "\n"
     ]
    }
   ],
   "source": [
    "mrna = all_counts[ ,c('WT_DMSO_1_RNA', 'WT_DMSO_2_RNA','GIGYF2_4_SMG1i_1_RNA','GIGYF2_4_SMG1i_2_RNA')]\n",
    "rpf = all_counts[ ,c('WT_DMSO_1_mono', 'WT_DMSO_2_mono','GIGYF2_4_SMG1i_1_mono','GIGYF2_4_SMG1i_2_mono')]\n",
    "condition <- c(\"WT_SMG1i\", \"WT_SMG1i\",\"GIGYF2_SMG1i\",'GIGYF2_SMG1i')\n",
    "test.results <- xtail(mrna,rpf,condition, minMeanCount=16)\n",
    "test.tab <- resultsTable(test.results, log2FCs=TRUE, log2Rs=TRUE)\n",
    "write.table(test.tab,\"xtail_results/xtail_GIGYF2_SMG1i_v_WT_mono_RNA.tsv\",quote=F, sep='\\t', col.names=NA)"
   ]
  },
  {
   "cell_type": "code",
   "execution_count": null,
   "metadata": {},
   "outputs": [],
   "source": []
  }
 ],
 "metadata": {
  "kernelspec": {
   "display_name": "R",
   "language": "R",
   "name": "ir"
  },
  "language_info": {
   "codemirror_mode": "r",
   "file_extension": ".r",
   "mimetype": "text/x-r-source",
   "name": "R",
   "pygments_lexer": "r",
   "version": "4.0.3"
  }
 },
 "nbformat": 4,
 "nbformat_minor": 2
}
