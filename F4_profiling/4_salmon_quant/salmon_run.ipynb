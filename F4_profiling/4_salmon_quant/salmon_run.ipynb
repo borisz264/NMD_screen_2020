{
 "cells": [
  {
   "cell_type": "markdown",
   "metadata": {},
   "source": [
    "Want to run salmon on my RNA-seq and profiling datasets, with RNA-seq mapped to transcriptome, and profiling mapped to CDS sequences\n",
    "with orfquant transcriptome where I have picked a single transcript with each stop codon"
   ]
  },
  {
   "cell_type": "markdown",
   "metadata": {},
   "source": [
    "First I need to assemble the list of FASTQ files from the pipeline"
   ]
  },
  {
   "cell_type": "code",
   "execution_count": null,
   "metadata": {
    "ExecuteTime": {
     "end_time": "2020-11-26T02:47:33.853509Z",
     "start_time": "2020-11-26T02:47:33.338931Z"
    }
   },
   "outputs": [],
   "source": [
    "#add pipeline to path\n",
    "import sys\n",
    "import datetime\n",
    "\n",
    "\n",
    "pipeline_dir = '../ribo_seq/'\n",
    "if pipeline_dir not in sys.path:\n",
    "    sys.path.append(pipeline_dir)\n",
    "\n",
    "import ribo_seq_main\n",
    "import ribo_settings\n",
    "import ribo_utils\n",
    "import ribo_lib\n",
    "import ribo_qc\n",
    "import ribo_plotting\n",
    "import ribo_tables\n",
    "\n",
    "def current_time():\n",
    "    return datetime.datetime.now().strftime(\"%Y%m%d_%H%M\")\n",
    "def current_date():\n",
    "    return datetime.datetime.now().strftime(\"%Y%m%d\")"
   ]
  },
  {
   "cell_type": "code",
   "execution_count": 2,
   "metadata": {
    "ExecuteTime": {
     "end_time": "2020-11-26T02:47:34.388676Z",
     "start_time": "2020-11-26T02:47:34.374433Z"
    }
   },
   "outputs": [
    {
     "name": "stdout",
     "output_type": "stream",
     "text": [
      "created data-free shell for WT_DMSO_1_mono\n",
      "created data-free shell for WT_DMSO_2_mono\n",
      "created data-free shell for WT_SMG1i_1_mono\n",
      "created data-free shell for WT_SMG1i_2_mono\n",
      "created data-free shell for eIF4E2_4_DMSO_1_mono\n",
      "created data-free shell for eIF4E2_4_DMSO_2_mono\n",
      "created data-free shell for eIF4E2_4_SMG1i_1_mono\n",
      "created data-free shell for eIF4E2_4_SMG1i_2_mono\n",
      "created data-free shell for GIGYF2_4_DMSO_1_mono\n",
      "created data-free shell for GIGYF2_4_DMSO_2_mono\n",
      "created data-free shell for GIGYF2_4_SMG1i_1_mono\n",
      "created data-free shell for GIGYF2_4_SMG1i_2_mono\n",
      "created data-free shell for WT_DMSO_1_RNA\n",
      "created data-free shell for WT_DMSO_2_RNA\n",
      "created data-free shell for WT_SMG1i_1_RNA\n",
      "created data-free shell for WT_SMG1i_2_RNA\n",
      "created data-free shell for eIF4E2_4_DMSO_1_RNA\n",
      "created data-free shell for eIF4E2_4_DMSO_2_RNA\n",
      "created data-free shell for eIF4E2_4_SMG1i_1_RNA\n",
      "created data-free shell for eIF4E2_4_SMG1i_2_RNA\n",
      "created data-free shell for GIGYF2_4_DMSO_1_RNA\n",
      "created data-free shell for GIGYF2_4_DMSO_2_RNA\n",
      "created data-free shell for GIGYF2_4_SMG1i_1_RNA\n",
      "created data-free shell for GIGYF2_4_SMG1i_2_RNA\n"
     ]
    }
   ],
   "source": [
    "## Now import the pickled read count library objects\n",
    "import os\n",
    "import os.path as path\n",
    "\n",
    "threads = 48\n",
    "\n",
    "mono_settings_file = '../0_initial_mapping/8.019_mono_settings_genome.json.txt'\n",
    "mono_settings = ribo_settings.ribo_settings(mono_settings_file)\n",
    "mono_experiment = ribo_seq_main.experiment(mono_settings, threads, process_data=False)\n",
    "\n",
    "RNA_settings_file = '../0_initial_mapping/8.019_RNA_settings_genome.json.txt'\n",
    "RNA_settings = ribo_settings.ribo_settings(RNA_settings_file)\n",
    "RNA_experiment = ribo_seq_main.experiment(RNA_settings, threads, process_data=False)"
   ]
  },
  {
   "cell_type": "code",
   "execution_count": 3,
   "metadata": {
    "ExecuteTime": {
     "end_time": "2020-11-26T02:47:35.676508Z",
     "start_time": "2020-11-26T02:47:35.537703Z"
    }
   },
   "outputs": [
    {
     "name": "stdout",
     "output_type": "stream",
     "text": [
      "mkdir: cannot create directory ‘salmon_results’: File exists\n",
      "salmon quant -i ../2_make_salmon_indices/indices/orfquant_CDS_15_15_k13/ -l SF -p 40 -r <(cat /home/boris/gigy_paper_compiled_analysis/F4_profiling/0_initial_mapping/pipeline_output_ribo/ncrna_mapped_reads/WT_DMSO_1_monoUnmapped.out.mate1) --validateMappings -o salmon_results/WT_DMSO_1_mono\n",
      "salmon quant -i ../2_make_salmon_indices/indices/orfquant_CDS_15_15_k13/ -l SF -p 40 -r <(cat /home/boris/gigy_paper_compiled_analysis/F4_profiling/0_initial_mapping/pipeline_output_ribo/ncrna_mapped_reads/WT_DMSO_2_monoUnmapped.out.mate1) --validateMappings -o salmon_results/WT_DMSO_2_mono\n",
      "salmon quant -i ../2_make_salmon_indices/indices/orfquant_CDS_15_15_k13/ -l SF -p 40 -r <(cat /home/boris/gigy_paper_compiled_analysis/F4_profiling/0_initial_mapping/pipeline_output_ribo/ncrna_mapped_reads/WT_SMG1i_1_monoUnmapped.out.mate1) --validateMappings -o salmon_results/WT_SMG1i_1_mono\n",
      "salmon quant -i ../2_make_salmon_indices/indices/orfquant_CDS_15_15_k13/ -l SF -p 40 -r <(cat /home/boris/gigy_paper_compiled_analysis/F4_profiling/0_initial_mapping/pipeline_output_ribo/ncrna_mapped_reads/WT_SMG1i_2_monoUnmapped.out.mate1) --validateMappings -o salmon_results/WT_SMG1i_2_mono\n",
      "salmon quant -i ../2_make_salmon_indices/indices/orfquant_CDS_15_15_k13/ -l SF -p 40 -r <(cat /home/boris/gigy_paper_compiled_analysis/F4_profiling/0_initial_mapping/pipeline_output_ribo/ncrna_mapped_reads/eIF4E2_4_DMSO_1_monoUnmapped.out.mate1) --validateMappings -o salmon_results/eIF4E2_4_DMSO_1_mono\n",
      "salmon quant -i ../2_make_salmon_indices/indices/orfquant_CDS_15_15_k13/ -l SF -p 40 -r <(cat /home/boris/gigy_paper_compiled_analysis/F4_profiling/0_initial_mapping/pipeline_output_ribo/ncrna_mapped_reads/eIF4E2_4_DMSO_2_monoUnmapped.out.mate1) --validateMappings -o salmon_results/eIF4E2_4_DMSO_2_mono\n",
      "salmon quant -i ../2_make_salmon_indices/indices/orfquant_CDS_15_15_k13/ -l SF -p 40 -r <(cat /home/boris/gigy_paper_compiled_analysis/F4_profiling/0_initial_mapping/pipeline_output_ribo/ncrna_mapped_reads/eIF4E2_4_SMG1i_1_monoUnmapped.out.mate1) --validateMappings -o salmon_results/eIF4E2_4_SMG1i_1_mono\n",
      "salmon quant -i ../2_make_salmon_indices/indices/orfquant_CDS_15_15_k13/ -l SF -p 40 -r <(cat /home/boris/gigy_paper_compiled_analysis/F4_profiling/0_initial_mapping/pipeline_output_ribo/ncrna_mapped_reads/eIF4E2_4_SMG1i_2_monoUnmapped.out.mate1) --validateMappings -o salmon_results/eIF4E2_4_SMG1i_2_mono\n",
      "salmon quant -i ../2_make_salmon_indices/indices/orfquant_CDS_15_15_k13/ -l SF -p 40 -r <(cat /home/boris/gigy_paper_compiled_analysis/F4_profiling/0_initial_mapping/pipeline_output_ribo/ncrna_mapped_reads/GIGYF2_4_DMSO_1_monoUnmapped.out.mate1) --validateMappings -o salmon_results/GIGYF2_4_DMSO_1_mono\n",
      "salmon quant -i ../2_make_salmon_indices/indices/orfquant_CDS_15_15_k13/ -l SF -p 40 -r <(cat /home/boris/gigy_paper_compiled_analysis/F4_profiling/0_initial_mapping/pipeline_output_ribo/ncrna_mapped_reads/GIGYF2_4_DMSO_2_monoUnmapped.out.mate1) --validateMappings -o salmon_results/GIGYF2_4_DMSO_2_mono\n",
      "salmon quant -i ../2_make_salmon_indices/indices/orfquant_CDS_15_15_k13/ -l SF -p 40 -r <(cat /home/boris/gigy_paper_compiled_analysis/F4_profiling/0_initial_mapping/pipeline_output_ribo/ncrna_mapped_reads/GIGYF2_4_SMG1i_1_monoUnmapped.out.mate1) --validateMappings -o salmon_results/GIGYF2_4_SMG1i_1_mono\n",
      "salmon quant -i ../2_make_salmon_indices/indices/orfquant_CDS_15_15_k13/ -l SF -p 40 -r <(cat /home/boris/gigy_paper_compiled_analysis/F4_profiling/0_initial_mapping/pipeline_output_ribo/ncrna_mapped_reads/GIGYF2_4_SMG1i_2_monoUnmapped.out.mate1) --validateMappings -o salmon_results/GIGYF2_4_SMG1i_2_mono\n"
     ]
    }
   ],
   "source": [
    "import os\n",
    "import subprocess\n",
    "logfile = open('salmon_run.log', 'w')\n",
    "index_folder = '../2_make_salmon_indices/indices/orfquant_CDS_15_15_k13/'\n",
    "! mkdir salmon_results \n",
    "for lib in mono_experiment.libs:\n",
    "    fastq_file = lib.lib_settings.get_ncrna_unmapped_reads()\n",
    "    out_folder = os.path.join('salmon_results', lib.lib_settings.sample_name)\n",
    "    salmon_cmd=\"salmon quant -i {index_folder} -l SF -p 40 -r <(cat {fastq_file}) --validateMappings -o {out_folder}\".format(**locals())\n",
    "    logfile.write('%s\\n' % salmon_cmd)\n",
    "    print(salmon_cmd)\n",
    "    #subprocess.Popen(salmon_cmd, shell=True).wait()\n",
    "    #s = subprocess.Popen(salmon_cmd, shell=False)\n",
    "    #out, err = s.communicate()\n",
    "    #logfile.write(out)\n",
    "    #logfile.write(err)\n",
    "#logfile.close()\n",
    "#something is wrong, so just pasted the commands to the command line and it worked"
   ]
  },
  {
   "cell_type": "code",
   "execution_count": 5,
   "metadata": {
    "ExecuteTime": {
     "end_time": "2020-11-26T02:50:59.249841Z",
     "start_time": "2020-11-26T02:50:59.234052Z"
    }
   },
   "outputs": [
    {
     "name": "stdout",
     "output_type": "stream",
     "text": [
      "salmon quant -i ../2_make_salmon_indices/indices/orfquant_tx_k31/ -l ISR -p 40 -1 <(cat /home/boris/gigy_paper_compiled_analysis/F4_profiling/0_initial_mapping/pipeline_output_RNA/ncrna_mapped_reads/WT_DMSO_1_RNAUnmapped.out.mate1) -2 <(cat /home/boris/gigy_paper_compiled_analysis/F4_profiling/0_initial_mapping/pipeline_output_RNA/ncrna_mapped_reads/WT_DMSO_1_RNAUnmapped.out.mate2) --gcBias --seqBias --validateMappings -o salmon_results/WT_DMSO_1_RNA\n",
      "salmon quant -i ../2_make_salmon_indices/indices/orfquant_tx_k31/ -l ISR -p 40 -1 <(cat /home/boris/gigy_paper_compiled_analysis/F4_profiling/0_initial_mapping/pipeline_output_RNA/ncrna_mapped_reads/WT_DMSO_2_RNAUnmapped.out.mate1) -2 <(cat /home/boris/gigy_paper_compiled_analysis/F4_profiling/0_initial_mapping/pipeline_output_RNA/ncrna_mapped_reads/WT_DMSO_2_RNAUnmapped.out.mate2) --gcBias --seqBias --validateMappings -o salmon_results/WT_DMSO_2_RNA\n",
      "salmon quant -i ../2_make_salmon_indices/indices/orfquant_tx_k31/ -l ISR -p 40 -1 <(cat /home/boris/gigy_paper_compiled_analysis/F4_profiling/0_initial_mapping/pipeline_output_RNA/ncrna_mapped_reads/WT_SMG1i_1_RNAUnmapped.out.mate1) -2 <(cat /home/boris/gigy_paper_compiled_analysis/F4_profiling/0_initial_mapping/pipeline_output_RNA/ncrna_mapped_reads/WT_SMG1i_1_RNAUnmapped.out.mate2) --gcBias --seqBias --validateMappings -o salmon_results/WT_SMG1i_1_RNA\n",
      "salmon quant -i ../2_make_salmon_indices/indices/orfquant_tx_k31/ -l ISR -p 40 -1 <(cat /home/boris/gigy_paper_compiled_analysis/F4_profiling/0_initial_mapping/pipeline_output_RNA/ncrna_mapped_reads/WT_SMG1i_2_RNAUnmapped.out.mate1) -2 <(cat /home/boris/gigy_paper_compiled_analysis/F4_profiling/0_initial_mapping/pipeline_output_RNA/ncrna_mapped_reads/WT_SMG1i_2_RNAUnmapped.out.mate2) --gcBias --seqBias --validateMappings -o salmon_results/WT_SMG1i_2_RNA\n",
      "salmon quant -i ../2_make_salmon_indices/indices/orfquant_tx_k31/ -l ISR -p 40 -1 <(cat /home/boris/gigy_paper_compiled_analysis/F4_profiling/0_initial_mapping/pipeline_output_RNA/ncrna_mapped_reads/eIF4E2_4_DMSO_1_RNAUnmapped.out.mate1) -2 <(cat /home/boris/gigy_paper_compiled_analysis/F4_profiling/0_initial_mapping/pipeline_output_RNA/ncrna_mapped_reads/eIF4E2_4_DMSO_1_RNAUnmapped.out.mate2) --gcBias --seqBias --validateMappings -o salmon_results/eIF4E2_4_DMSO_1_RNA\n",
      "salmon quant -i ../2_make_salmon_indices/indices/orfquant_tx_k31/ -l ISR -p 40 -1 <(cat /home/boris/gigy_paper_compiled_analysis/F4_profiling/0_initial_mapping/pipeline_output_RNA/ncrna_mapped_reads/eIF4E2_4_DMSO_2_RNAUnmapped.out.mate1) -2 <(cat /home/boris/gigy_paper_compiled_analysis/F4_profiling/0_initial_mapping/pipeline_output_RNA/ncrna_mapped_reads/eIF4E2_4_DMSO_2_RNAUnmapped.out.mate2) --gcBias --seqBias --validateMappings -o salmon_results/eIF4E2_4_DMSO_2_RNA\n",
      "salmon quant -i ../2_make_salmon_indices/indices/orfquant_tx_k31/ -l ISR -p 40 -1 <(cat /home/boris/gigy_paper_compiled_analysis/F4_profiling/0_initial_mapping/pipeline_output_RNA/ncrna_mapped_reads/eIF4E2_4_SMG1i_1_RNAUnmapped.out.mate1) -2 <(cat /home/boris/gigy_paper_compiled_analysis/F4_profiling/0_initial_mapping/pipeline_output_RNA/ncrna_mapped_reads/eIF4E2_4_SMG1i_1_RNAUnmapped.out.mate2) --gcBias --seqBias --validateMappings -o salmon_results/eIF4E2_4_SMG1i_1_RNA\n",
      "salmon quant -i ../2_make_salmon_indices/indices/orfquant_tx_k31/ -l ISR -p 40 -1 <(cat /home/boris/gigy_paper_compiled_analysis/F4_profiling/0_initial_mapping/pipeline_output_RNA/ncrna_mapped_reads/eIF4E2_4_SMG1i_2_RNAUnmapped.out.mate1) -2 <(cat /home/boris/gigy_paper_compiled_analysis/F4_profiling/0_initial_mapping/pipeline_output_RNA/ncrna_mapped_reads/eIF4E2_4_SMG1i_2_RNAUnmapped.out.mate2) --gcBias --seqBias --validateMappings -o salmon_results/eIF4E2_4_SMG1i_2_RNA\n",
      "salmon quant -i ../2_make_salmon_indices/indices/orfquant_tx_k31/ -l ISR -p 40 -1 <(cat /home/boris/gigy_paper_compiled_analysis/F4_profiling/0_initial_mapping/pipeline_output_RNA/ncrna_mapped_reads/GIGYF2_4_DMSO_1_RNAUnmapped.out.mate1) -2 <(cat /home/boris/gigy_paper_compiled_analysis/F4_profiling/0_initial_mapping/pipeline_output_RNA/ncrna_mapped_reads/GIGYF2_4_DMSO_1_RNAUnmapped.out.mate2) --gcBias --seqBias --validateMappings -o salmon_results/GIGYF2_4_DMSO_1_RNA\n",
      "salmon quant -i ../2_make_salmon_indices/indices/orfquant_tx_k31/ -l ISR -p 40 -1 <(cat /home/boris/gigy_paper_compiled_analysis/F4_profiling/0_initial_mapping/pipeline_output_RNA/ncrna_mapped_reads/GIGYF2_4_DMSO_2_RNAUnmapped.out.mate1) -2 <(cat /home/boris/gigy_paper_compiled_analysis/F4_profiling/0_initial_mapping/pipeline_output_RNA/ncrna_mapped_reads/GIGYF2_4_DMSO_2_RNAUnmapped.out.mate2) --gcBias --seqBias --validateMappings -o salmon_results/GIGYF2_4_DMSO_2_RNA\n",
      "salmon quant -i ../2_make_salmon_indices/indices/orfquant_tx_k31/ -l ISR -p 40 -1 <(cat /home/boris/gigy_paper_compiled_analysis/F4_profiling/0_initial_mapping/pipeline_output_RNA/ncrna_mapped_reads/GIGYF2_4_SMG1i_1_RNAUnmapped.out.mate1) -2 <(cat /home/boris/gigy_paper_compiled_analysis/F4_profiling/0_initial_mapping/pipeline_output_RNA/ncrna_mapped_reads/GIGYF2_4_SMG1i_1_RNAUnmapped.out.mate2) --gcBias --seqBias --validateMappings -o salmon_results/GIGYF2_4_SMG1i_1_RNA\n",
      "salmon quant -i ../2_make_salmon_indices/indices/orfquant_tx_k31/ -l ISR -p 40 -1 <(cat /home/boris/gigy_paper_compiled_analysis/F4_profiling/0_initial_mapping/pipeline_output_RNA/ncrna_mapped_reads/GIGYF2_4_SMG1i_2_RNAUnmapped.out.mate1) -2 <(cat /home/boris/gigy_paper_compiled_analysis/F4_profiling/0_initial_mapping/pipeline_output_RNA/ncrna_mapped_reads/GIGYF2_4_SMG1i_2_RNAUnmapped.out.mate2) --gcBias --seqBias --validateMappings -o salmon_results/GIGYF2_4_SMG1i_2_RNA\n"
     ]
    }
   ],
   "source": [
    "import os\n",
    "import subprocess\n",
    "#logfile = open('20200720_salmon_run_RNA.log', 'w')\n",
    "index_folder = '../2_make_salmon_indices/indices/orfquant_tx_k31/'\n",
    "for lib in RNA_experiment.libs:\n",
    "    read1_file, read2_file = lib.lib_settings.get_ncrna_unmapped_reads()\n",
    "    out_folder = os.path.join('salmon_results', lib.lib_settings.sample_name)\n",
    "    salmon_cmd=\"salmon quant -i {index_folder} -l ISR -p 40 -1 <(cat {read1_file}) -2 <(cat {read2_file}) --gcBias --seqBias --validateMappings -o {out_folder}\".format(**locals())\n",
    "    logfile.write('%s\\n' % salmon_cmd)\n",
    "    print(salmon_cmd)\n",
    "    #! {salmon_cmd}\n",
    "    #subprocess.Popen(salmon_cmd, shell=True).wait()\n",
    "    #s = subprocess.Popen(salmon_cmd, shell=False)\n",
    "    #out, err = s.communicate()\n",
    "    #logfile.write(out)\n",
    "    #logfile.write(err)\n",
    "#logfile.close()\n",
    "#something is wrong, so just pasted the commands to the command line and it worked"
   ]
  },
  {
   "cell_type": "markdown",
   "metadata": {},
   "source": [
    "Now compile the counts from Salmon output files into a single dataframe"
   ]
  },
  {
   "cell_type": "code",
   "execution_count": 6,
   "metadata": {
    "ExecuteTime": {
     "end_time": "2020-11-26T14:10:31.875090Z",
     "start_time": "2020-11-26T14:10:17.379615Z"
    }
   },
   "outputs": [],
   "source": [
    "#code to add gene names and ids to files\n",
    "comprehensive_gtf_data = ribo_utils.gtf_data('../annotations/orfquant_stops_collapsed.gtf')"
   ]
  },
  {
   "cell_type": "code",
   "execution_count": 7,
   "metadata": {
    "ExecuteTime": {
     "end_time": "2020-11-26T14:10:31.891299Z",
     "start_time": "2020-11-26T14:10:31.879442Z"
    }
   },
   "outputs": [],
   "source": [
    "def get_nmd_status(x):\n",
    "    if '|' in x:\n",
    "        return get_nmd_status(x.split('|')[0])\n",
    "    return sorted(comprehensive_gtf_data.transcript_to_entries[x])[0].get_value('transcript_type') == 'nonsense_mediated_decay'\n",
    "\n",
    "def get_gene_id(x):\n",
    "    if '|' in x:\n",
    "        return get_gene_id(x.split('|')[0])\n",
    "    return comprehensive_gtf_data.tx_to_genes[x]\n",
    "\n",
    "def get_gene_name(x):\n",
    "    if '|' in x:\n",
    "        return get_gene_name(x.split('|')[0])\n",
    "    return comprehensive_gtf_data.tx_to_gene_names[x]\n",
    "\n",
    "def log_trans(x):\n",
    "    try:\n",
    "        return math.log(x, 10)\n",
    "    except:\n",
    "        return float('NaN')"
   ]
  },
  {
   "cell_type": "code",
   "execution_count": 8,
   "metadata": {
    "ExecuteTime": {
     "end_time": "2020-11-26T14:10:43.877967Z",
     "start_time": "2020-11-26T14:10:31.895520Z"
    }
   },
   "outputs": [],
   "source": [
    "import pandas as pd\n",
    "dfs = []\n",
    "\n",
    "for lib in mono_experiment.libs+RNA_experiment.libs:\n",
    "    expression_file = os.path.join('salmon_results', lib.lib_settings.sample_name, 'quant.sf')\n",
    "    df = pd.read_csv(expression_file, sep='\\t')\n",
    "    df = df[['Name', 'NumReads']]\n",
    "    df.rename(columns = {'Name':'tx_id', 'NumReads':lib.lib_settings.sample_name}, inplace = True)\n",
    "    dfs.append(df)\n",
    "combined_read_counts_df = reduce(lambda x, y: pd.merge(x, y, on = 'tx_id', how='outer'), dfs)\n",
    "combined_read_counts_df['gene_id'] = combined_read_counts_df['tx_id'].apply(get_gene_id)\n",
    "combined_read_counts_df['gene_name'] = combined_read_counts_df['tx_id'].apply(get_gene_name)\n",
    "combined_read_counts_df.dropna().to_csv('all_datasets_stop_collapsed_counts.tsv', index=False, sep='\\t')"
   ]
  },
  {
   "cell_type": "code",
   "execution_count": 9,
   "metadata": {
    "ExecuteTime": {
     "end_time": "2020-11-26T14:10:55.514933Z",
     "start_time": "2020-11-26T14:10:43.882515Z"
    }
   },
   "outputs": [],
   "source": [
    "import pandas as pd\n",
    "dfs = []\n",
    "    \n",
    "for lib in mono_experiment.libs + RNA_experiment.libs:\n",
    "    expression_file = os.path.join('salmon_results', lib.lib_settings.sample_name, 'quant.sf')\n",
    "    df = pd.read_csv(expression_file, sep='\\t')\n",
    "    df = df[['Name', 'TPM']]\n",
    "    df.rename(columns = {'Name':'tx_id', 'TPM':lib.lib_settings.sample_name}, inplace = True)\n",
    "    dfs.append(df)\n",
    "    \n",
    "combined_read_TPM_df = reduce(lambda x, y: pd.merge(x, y, on = 'tx_id', how='outer'), dfs)\n",
    "combined_read_TPM_df['gene_id'] = combined_read_TPM_df['tx_id'].apply(get_gene_id)\n",
    "combined_read_TPM_df['gene_name'] = combined_read_TPM_df['tx_id'].apply(get_gene_name)\n",
    "combined_read_TPM_df.dropna().to_csv('all_datasets_stop_collapsed_tpm.tsv', index=False, sep='\\t')"
   ]
  },
  {
   "cell_type": "code",
   "execution_count": 10,
   "metadata": {
    "ExecuteTime": {
     "end_time": "2020-11-26T14:10:55.532583Z",
     "start_time": "2020-11-26T14:10:55.518936Z"
    }
   },
   "outputs": [
    {
     "data": {
      "text/plain": [
       "Index([u'WT_DMSO_1_mono', u'WT_DMSO_2_mono', u'WT_SMG1i_1_mono',\n",
       "       u'WT_SMG1i_2_mono', u'eIF4E2_4_DMSO_1_mono', u'eIF4E2_4_DMSO_2_mono',\n",
       "       u'eIF4E2_4_SMG1i_1_mono', u'eIF4E2_4_SMG1i_2_mono',\n",
       "       u'GIGYF2_4_DMSO_1_mono', u'GIGYF2_4_DMSO_2_mono',\n",
       "       u'GIGYF2_4_SMG1i_1_mono', u'GIGYF2_4_SMG1i_2_mono', u'WT_DMSO_1_RNA',\n",
       "       u'WT_DMSO_2_RNA', u'WT_SMG1i_1_RNA', u'WT_SMG1i_2_RNA',\n",
       "       u'eIF4E2_4_DMSO_1_RNA', u'eIF4E2_4_DMSO_2_RNA', u'eIF4E2_4_SMG1i_1_RNA',\n",
       "       u'eIF4E2_4_SMG1i_2_RNA', u'GIGYF2_4_DMSO_1_RNA', u'GIGYF2_4_DMSO_2_RNA',\n",
       "       u'GIGYF2_4_SMG1i_1_RNA', u'GIGYF2_4_SMG1i_2_RNA'],\n",
       "      dtype='object')"
      ]
     },
     "execution_count": 10,
     "metadata": {},
     "output_type": "execute_result"
    }
   ],
   "source": [
    "combined_read_counts_df.columns[1:-2]"
   ]
  },
  {
   "cell_type": "code",
   "execution_count": 15,
   "metadata": {
    "ExecuteTime": {
     "end_time": "2020-11-26T14:16:19.628301Z",
     "start_time": "2020-11-26T14:16:19.311043Z"
    }
   },
   "outputs": [
    {
     "name": "stdout",
     "output_type": "stream",
     "text": [
      "mkdir: cannot create directory ‘tpms_for_prism’: File exists\n",
      "['WT_DMSO_1', 'WT_DMSO_2', 'eIF4E2_4_DMSO_1', 'eIF4E2_4_DMSO_2', 'GIGYF2_4_DMSO_1', 'GIGYF2_4_DMSO_2', 'WT_SMG1i_1', 'WT_SMG1i_2', 'eIF4E2_4_SMG1i_1', 'eIF4E2_4_SMG1i_2', 'GIGYF2_4_SMG1i_1', 'GIGYF2_4_SMG1i_2']\n",
      "UGAC_reporter\n"
     ]
    }
   ],
   "source": [
    "! mkdir tpms_for_prism\n",
    "\n",
    "def format_for_prism(subset_df, output_prefix):\n",
    "    treatments = ['DMSO', 'SMG1i']\n",
    "    genotypes = ['WT', 'eIF4E2_4', 'GIGYF2_4']\n",
    "    replicates = ['1', '2']\n",
    "    molecules = ['RNA', 'mono', 'di']\n",
    "    headers = []\n",
    "    for treatment in treatments:\n",
    "        for genotype in genotypes:\n",
    "            for replicate in replicates:\n",
    "                headers.append('%s_%s_%s' % (genotype, treatment, replicate))\n",
    "    print headers\n",
    "    \n",
    "    for tx_id in subset_df['tx_id'].unique():\n",
    "        print tx_id\n",
    "        single_tx =  subset_df[subset_df['tx_id'] == tx_id]\n",
    "        out_file=open('%s_%s.tsv' % (output_prefix, tx_id.replace('|','_')), 'w')\n",
    "        out_file.write('%s\\t%s\\n' % (tx_id,'\\t'.join(headers)))\n",
    "        for molecule in molecules:\n",
    "            data = []\n",
    "            for header in headers:\n",
    "                if '%s_%s' % (header, molecule) in single_tx.columns:\n",
    "                    data.append(single_tx['%s_%s' % (header, molecule)].tolist()[0])\n",
    "            out_file.write('%s\\t%s\\n' % (molecule, '\\t'.join(['%f' % datum for datum in data])))        \n",
    "        out_file.close()\n",
    "\n",
    "format_for_prism(combined_read_TPM_df[combined_read_TPM_df['gene_name']=='UGAC_reporter'], 'tpms_for_prism/UGAC_reporter_TPMs')"
   ]
  },
  {
   "cell_type": "code",
   "execution_count": 16,
   "metadata": {
    "ExecuteTime": {
     "end_time": "2020-11-26T14:16:23.867740Z",
     "start_time": "2020-11-26T14:16:23.841911Z"
    }
   },
   "outputs": [],
   "source": [
    "def format_for_prism_normed(subset_df, output_prefix):\n",
    "    treatments = ['DMSO', 'SMG1i']\n",
    "    genotypes = ['WT', 'eIF4E2_4', 'GIGYF2_4']\n",
    "    replicates = ['1', '2']\n",
    "    molecules = ['RNA', 'mono']\n",
    "    headers = []\n",
    "    for treatment in treatments:\n",
    "        for genotype in genotypes:\n",
    "            for replicate in replicates:\n",
    "                headers.append('%s_%s_%s' % (genotype, treatment, replicate)) \n",
    "    \n",
    "    for molecule in molecules:\n",
    "        out_file=open('%s_%s.tsv' % (output_prefix, molecule), 'w')\n",
    "        out_file.write('%s\\t%s\\n' % ('tx_id', '\\t'.join(headers)))\n",
    "        for tx_id in subset_df['tx_id'].unique():\n",
    "            single_tx =  subset_df[subset_df['tx_id'] == tx_id]\n",
    "            NT_average = (single_tx['WT_DMSO_1_%s' % (molecule)].tolist()[0]+single_tx['WT_DMSO_2_%s' % (molecule)].tolist()[0])/2.0\n",
    "            data = []\n",
    "            for header in headers:\n",
    "                if '%s_%s' % (header, molecule) in single_tx.columns:\n",
    "                    if NT_average == 0:\n",
    "                        data.append(float('inf'))\n",
    "                    else:\n",
    "                        data.append(single_tx['%s_%s' % (header, molecule)].tolist()[0]/NT_average)\n",
    "            out_file.write('%s\\t%s\\n' % (tx_id, '\\t'.join(['%f' % datum for datum in data])))        \n",
    "        out_file.close()"
   ]
  },
  {
   "cell_type": "code",
   "execution_count": 17,
   "metadata": {
    "ExecuteTime": {
     "end_time": "2020-11-26T14:16:26.387648Z",
     "start_time": "2020-11-26T14:16:26.370372Z"
    }
   },
   "outputs": [],
   "source": [
    "def format_for_prism_counts(subset_df, output_prefix):\n",
    "    treatments = ['DMSO', 'SMG1i']\n",
    "    genotypes = ['WT', 'eIF4E2_4', 'GIGYF2_4']\n",
    "    replicates = ['1', '2']\n",
    "    molecules = ['RNA', 'mono']\n",
    "    headers = []\n",
    "    for treatment in treatments:\n",
    "        for genotype in genotypes:\n",
    "            for replicate in replicates:\n",
    "                headers.append('%s_%s_%s' % (genotype, treatment, replicate)) \n",
    "    \n",
    "    for molecule in molecules:\n",
    "        out_file=open('%s_%s.tsv' % (output_prefix, molecule), 'w')\n",
    "        out_file.write('%s\\t%s\\n' % ('tx_id', '\\t'.join(headers)))\n",
    "        for tx_id in subset_df['tx_id'].unique():\n",
    "            single_tx =  subset_df[subset_df['tx_id'] == tx_id]\n",
    "            data = []\n",
    "            for header in headers:\n",
    "                if '%s_%s' % (header, molecule) in single_tx.columns:\n",
    "                    data.append(single_tx['%s_%s' % (header, molecule)].tolist()[0])\n",
    "            out_file.write('%s\\t%s\\n' % (tx_id, '\\t'.join(['%f' % datum for datum in data])))        \n",
    "        out_file.close()"
   ]
  },
  {
   "cell_type": "code",
   "execution_count": 18,
   "metadata": {
    "ExecuteTime": {
     "end_time": "2020-11-26T14:16:35.789218Z",
     "start_time": "2020-11-26T14:16:35.719266Z"
    }
   },
   "outputs": [],
   "source": [
    "for gene_name in ['UGAC_reporter', 'SRSF3', 'ARIH1', 'RPLP0', 'HNRNPH1']:\n",
    "    format_for_prism_normed(combined_read_TPM_df[combined_read_TPM_df['gene_name']==gene_name], 'tpms_for_prism/%s_TPMs' % gene_name)"
   ]
  },
  {
   "cell_type": "code",
   "execution_count": null,
   "metadata": {},
   "outputs": [],
   "source": []
  }
 ],
 "metadata": {
  "kernelspec": {
   "display_name": "Python 3",
   "language": "python",
   "name": "python3"
  },
  "language_info": {
   "codemirror_mode": {
    "name": "ipython",
    "version": 2
   },
   "file_extension": ".py",
   "mimetype": "text/x-python",
   "name": "python",
   "nbconvert_exporter": "python",
   "pygments_lexer": "ipython2",
   "version": "2.7.12"
  }
 },
 "nbformat": 4,
 "nbformat_minor": 2
}
