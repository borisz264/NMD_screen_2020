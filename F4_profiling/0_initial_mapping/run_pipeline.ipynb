{
 "cells": [
  {
   "cell_type": "markdown",
   "metadata": {},
   "source": [
    "Set up imports and annotations for all analyses"
   ]
  },
  {
   "cell_type": "code",
   "execution_count": 1,
   "metadata": {
    "ExecuteTime": {
     "end_time": "2020-11-20T21:34:35.205493Z",
     "start_time": "2020-11-20T21:34:34.597621Z"
    },
    "code_folding": []
   },
   "outputs": [],
   "source": [
    "#add pipeline to path\n",
    "import sys\n",
    "import datetime\n",
    "pipeline_dir = '../ribo_seq/'\n",
    "if pipeline_dir not in sys.path:\n",
    "    sys.path.append(pipeline_dir)\n",
    "    \n",
    "import ribo_seq_main\n",
    "import ribo_settings\n",
    "import ribo_utils\n",
    "import ribo_lib\n",
    "import ribo_qc\n",
    "import ribo_plotting\n",
    "import ribo_tables\n",
    "\n",
    "def current_time():\n",
    "    return datetime.datetime.now().strftime(\"%Y%m%d_%H%M\")\n",
    "def current_date():\n",
    "    return datetime.datetime.now().strftime(\"%Y%m%d\")"
   ]
  },
  {
   "cell_type": "code",
   "execution_count": 2,
   "metadata": {
    "ExecuteTime": {
     "end_time": "2020-11-20T21:36:14.330087Z",
     "start_time": "2020-11-20T21:34:35.459941Z"
    }
   },
   "outputs": [
    {
     "name": "stdout",
     "output_type": "stream",
     "text": [
      "  % Total    % Received % Xferd  Average Speed   Time    Time     Time  Current\n",
      "                                 Dload  Upload   Total   Spent    Left  Speed\n",
      "100  805M  100  805M    0     0  12.4M      0  0:01:04  0:01:04 --:--:-- 17.8M0:00:38  0:00:41 11.7M\n",
      "  % Total    % Received % Xferd  Average Speed   Time    Time     Time  Current\n",
      "                                 Dload  Upload   Total   Spent    Left  Speed\n",
      "100 41.7M  100 41.7M    0     0  3887k      0  0:00:11  0:00:11 --:--:-- 5509k\n"
     ]
    }
   ],
   "source": [
    "#dowload some annotaions from gencode and add reporter sequence and annotations\n",
    "import os.path\n",
    "#annotations folder should already exist since reporter plasmid sequences need to be in there\n",
    "if not os.path.isdir('../annotations'):\n",
    "    os.mkdir('../annotations')\n",
    "if not os.path.isdir('../annotations/genome'):\n",
    "    os.mkdir('../annotations/genome')\n",
    "#download genome from gencode\n",
    "! curl -o ../annotations/GRCh38.primary_assembly.genome.fa.gz ftp://ftp.ebi.ac.uk/pub/databases/gencode/Gencode_human/release_35/GRCh38.primary_assembly.genome.fa.gz \n",
    "! gunzip -c ../annotations/GRCh38.primary_assembly.genome.fa.gz | cat - ../annotations/reporter/pBZ105_tagBFP_2A_UGAC_tdTomato.fa  > ../annotations/genome/GRCh38.primary_assembly.genome.pBZ105.fa\n",
    "#download gencode 35 annotations\n",
    "! curl -o ../annotations/gencode.v35.annotation.gtf.gz ftp://ftp.ebi.ac.uk/pub/databases/gencode/Gencode_human/release_35/gencode.v35.annotation.gtf.gz\n",
    "! gunzip -c ../annotations/gencode.v35.annotation.gtf.gz | cat - ../annotations/reporter/pBZ105.gtf  > ../annotations/gencode.v35.annotation.pBZ105.gtf"
   ]
  },
  {
   "cell_type": "code",
   "execution_count": 27,
   "metadata": {
    "ExecuteTime": {
     "end_time": "2020-11-21T17:28:21.650888Z",
     "start_time": "2020-11-21T17:26:36.609466Z"
    }
   },
   "outputs": [],
   "source": [
    "# make a version of the GTF file where all transcripts without an annotated stop codon have been removed\n",
    "comprehensive_gtf_data = ribo_utils.gtf_data('../annotations/gencode.v35.annotation.pBZ105.gtf', add_3_for_stop = True, store_lines=True)\n",
    "def get_genomic_stop_coords(x):\n",
    "    stop_entry = comprehensive_gtf_data.sorted_exons(x, exon_type='stop_codon')\n",
    "    if len(stop_entry) == 0:\n",
    "        return 'not annotated'\n",
    "    stop = '%s %s %s %s' % (stop_entry[0].get_value('chr'), stop_entry[0].get_value('strand'), \n",
    "                             stop_entry[0].get_value('start'), stop_entry[0].get_value('end'))\n",
    "    return stop\n",
    "\n",
    "no_nonstop = [tx for tx in comprehensive_gtf_data.transcript_to_entries.keys() if not get_genomic_stop_coords(tx)=='not annotated']\n",
    "\n",
    "comprehensive_gtf_data.write_transcript_entries_to_file('../annotations/gencode.v35.annotation.pBZ105.no_nonstop.gtf', transcript_ids=no_nonstop)"
   ]
  },
  {
   "cell_type": "code",
   "execution_count": 22,
   "metadata": {
    "ExecuteTime": {
     "end_time": "2020-11-21T16:37:22.208117Z",
     "start_time": "2020-11-21T16:36:49.673773Z"
    }
   },
   "outputs": [],
   "source": [
    "#make a 2-bit file from the genome fasta\n",
    "! faToTwoBit ../annotations/genome/GRCh38.primary_assembly.genome.pBZ105.fa ../annotations/GRCh38.primary_assembly.genome.pBZ105.2bit"
   ]
  },
  {
   "cell_type": "markdown",
   "metadata": {},
   "source": [
    "Trim and map reads"
   ]
  },
  {
   "cell_type": "code",
   "execution_count": null,
   "metadata": {
    "ExecuteTime": {
     "start_time": "2020-11-20T21:37:07.633Z"
    },
    "code_folding": []
   },
   "outputs": [
    {
     "name": "stdout",
     "output_type": "stream",
     "text": [
      "unpickling WT_DMSO_1_mono counts\n",
      "unpickling WT_DMSO_2_mono counts\n",
      "unpickling WT_SMG1i_1_mono counts\n",
      "unpickling WT_SMG1i_2_mono counts\n",
      "unpickling eIF4E2_4_DMSO_1_mono counts\n",
      "unpickling eIF4E2_4_DMSO_2_mono counts\n",
      "unpickling eIF4E2_4_SMG1i_1_mono counts\n",
      "unpickling eIF4E2_4_SMG1i_2_mono counts\n",
      "unpickling GIGYF2_4_DMSO_1_mono counts\n"
     ]
    }
   ],
   "source": [
    "#run pipeline\n",
    "import os\n",
    "import os.path as path\n",
    "\n",
    "settings_file = '8.019_mono_settings_genome.json.txt'\n",
    "threads = 40\n",
    "settings = ribo_settings.ribo_settings(settings_file)\n",
    "mono_experiment = ribo_seq_main.experiment(settings, threads)\n",
    "\n",
    "settings_file = '8.019_RNA_settings_genome.json.txt'\n",
    "threads = 40\n",
    "settings = ribo_settings.ribo_settings(settings_file)\n",
    "RNA_experiment = ribo_seq_main.experiment(settings, threads)\n"
   ]
  },
  {
   "cell_type": "code",
   "execution_count": 14,
   "metadata": {
    "ExecuteTime": {
     "end_time": "2020-11-21T15:54:26.416483Z",
     "start_time": "2020-11-21T15:44:45.321734Z"
    }
   },
   "outputs": [
    {
     "name": "stdout",
     "output_type": "stream",
     "text": [
      "['merged_mapping.bam', 'pipeline_output_ribo/genome_mapped_reads/WT_DMSO_1_monoAligned.sortedByCoord.out.bam', 'pipeline_output_ribo/genome_mapped_reads/WT_DMSO_2_monoAligned.sortedByCoord.out.bam', 'pipeline_output_ribo/genome_mapped_reads/WT_SMG1i_1_monoAligned.sortedByCoord.out.bam', 'pipeline_output_ribo/genome_mapped_reads/WT_SMG1i_2_monoAligned.sortedByCoord.out.bam', 'pipeline_output_ribo/genome_mapped_reads/eIF4E2_4_DMSO_1_monoAligned.sortedByCoord.out.bam', 'pipeline_output_ribo/genome_mapped_reads/eIF4E2_4_DMSO_2_monoAligned.sortedByCoord.out.bam', 'pipeline_output_ribo/genome_mapped_reads/eIF4E2_4_SMG1i_1_monoAligned.sortedByCoord.out.bam', 'pipeline_output_ribo/genome_mapped_reads/eIF4E2_4_SMG1i_2_monoAligned.sortedByCoord.out.bam', 'pipeline_output_ribo/genome_mapped_reads/GIGYF2_4_DMSO_1_monoAligned.sortedByCoord.out.bam', 'pipeline_output_ribo/genome_mapped_reads/GIGYF2_4_DMSO_2_monoAligned.sortedByCoord.out.bam', 'pipeline_output_ribo/genome_mapped_reads/GIGYF2_4_SMG1i_1_monoAligned.sortedByCoord.out.bam', 'pipeline_output_ribo/genome_mapped_reads/GIGYF2_4_SMG1i_2_monoAligned.sortedByCoord.out.bam']\n"
     ]
    },
    {
     "data": {
      "text/plain": [
       "''"
      ]
     },
     "execution_count": 14,
     "metadata": {},
     "output_type": "execute_result"
    }
   ],
   "source": [
    "#make combined BAM files\n",
    "import pysam\n",
    "bam_files = [lib.lib_settings.get_genome_mapped_reads() for lib in mono_experiment.libs]\n",
    "arguments = ['merged_mapping.bam']+bam_files\n",
    "print arguments\n",
    "pysam.merge(*arguments)"
   ]
  },
  {
   "cell_type": "code",
   "execution_count": 16,
   "metadata": {
    "ExecuteTime": {
     "end_time": "2020-11-21T16:02:55.737248Z",
     "start_time": "2020-11-21T16:01:42.521328Z"
    }
   },
   "outputs": [
    {
     "data": {
      "text/plain": [
       "''"
      ]
     },
     "execution_count": 16,
     "metadata": {},
     "output_type": "execute_result"
    }
   ],
   "source": [
    "pysam.sort( 'merged_mapping.bam', '-o', 'merged_mapping_sorted.bam','-@','40',)\n",
    "pysam.index('merged_mapping_sorted.bam', '-@','4')"
   ]
  },
  {
   "cell_type": "markdown",
   "metadata": {},
   "source": [
    "## Make RNA-seq plots of reporter to check splicing (figure S2)"
   ]
  },
  {
   "cell_type": "code",
   "execution_count": 17,
   "metadata": {
    "ExecuteTime": {
     "end_time": "2020-11-21T16:26:34.607766Z",
     "start_time": "2020-11-21T16:24:51.409550Z"
    }
   },
   "outputs": [
    {
     "name": "stdout",
     "output_type": "stream",
     "text": [
      "samtools view -u pipeline_output_RNA/genome_mapped_reads/WT_DMSO_1_RNAAligned.sortedByCoord.out.bam \"pBZ105_tagBFP_2A_UGAC_tdTomato\" | bedtools genomecov -ibam stdin -dz -split -strand + | grep pBZ > WT_DMSO_1_RNA.cov.txt\n",
      "samtools view -u pipeline_output_RNA/genome_mapped_reads/WT_DMSO_2_RNAAligned.sortedByCoord.out.bam \"pBZ105_tagBFP_2A_UGAC_tdTomato\" | bedtools genomecov -ibam stdin -dz -split -strand + | grep pBZ > WT_DMSO_2_RNA.cov.txt\n",
      "samtools view -u pipeline_output_RNA/genome_mapped_reads/WT_SMG1i_1_RNAAligned.sortedByCoord.out.bam \"pBZ105_tagBFP_2A_UGAC_tdTomato\" | bedtools genomecov -ibam stdin -dz -split -strand + | grep pBZ > WT_SMG1i_1_RNA.cov.txt\n",
      "samtools view -u pipeline_output_RNA/genome_mapped_reads/WT_SMG1i_2_RNAAligned.sortedByCoord.out.bam \"pBZ105_tagBFP_2A_UGAC_tdTomato\" | bedtools genomecov -ibam stdin -dz -split -strand + | grep pBZ > WT_SMG1i_2_RNA.cov.txt\n"
     ]
    }
   ],
   "source": [
    "import subprocess\n",
    "reference = 'pBZ105_tagBFP_2A_UGAC_tdTomato'\n",
    "for lib in RNA_experiment.libs[:4]:\n",
    "    bam_file = lib.lib_settings.get_genome_mapped_reads()\n",
    "    name = lib.lib_settings.sample_name\n",
    "    cmd='samtools view -u {bam_file} \"{reference}\" | bedtools genomecov -ibam stdin -dz -split -strand + | grep pBZ > {name}.cov.txt'.format(**locals())\n",
    "    print(cmd)\n",
    "    subprocess.Popen(cmd, shell=True).wait()\n",
    "    #bedtools genomecov -ibam NA18152.bam -bg -strand + | head"
   ]
  },
  {
   "cell_type": "code",
   "execution_count": 18,
   "metadata": {
    "ExecuteTime": {
     "end_time": "2020-11-21T16:26:34.681832Z",
     "start_time": "2020-11-21T16:26:34.612953Z"
    }
   },
   "outputs": [],
   "source": [
    "from collections import defaultdict\n",
    "def get_coverage(coverage_file, reference):\n",
    "    coverage_dict = defaultdict(int)\n",
    "    f = open(coverage_file)\n",
    "    for line in f:\n",
    "        chrom, position, coverage = line.strip().split()\n",
    "        if chrom == reference:\n",
    "            coverage_dict[int(position)] = int(coverage)\n",
    "    return coverage_dict\n",
    "pBZ105_coverage = {}\n",
    "for lib in RNA_experiment.libs[:4]:\n",
    "    name = lib.lib_settings.sample_name\n",
    "    cov_file = '{name}.cov.txt'.format(**locals())\n",
    "    pBZ105_coverage[lib.lib_settings.sample_name] = get_coverage(cov_file, reference)"
   ]
  },
  {
   "cell_type": "code",
   "execution_count": 19,
   "metadata": {
    "ExecuteTime": {
     "end_time": "2020-11-21T16:26:35.305644Z",
     "start_time": "2020-11-21T16:26:34.686102Z"
    }
   },
   "outputs": [],
   "source": [
    "#get introns\n",
    "import operator\n",
    "\n",
    "def get_introns(intron_file, reference):\n",
    "    intron_dict = defaultdict(int)\n",
    "    f = open(intron_file)\n",
    "    for line in f:\n",
    "        chrom, start, end, strand, motif, annotated, unique_reads, multi_reads, max_overhang = line.strip().split()\n",
    "        if chrom == reference and strand=='1' and motif=='1':\n",
    "            intron_dict[(int(start), int(end))] = int(unique_reads)\n",
    "    return intron_dict\n",
    "\n",
    "pBZ105_introns = {}\n",
    "for lib in RNA_experiment.libs[:4]:\n",
    "    name = lib.lib_settings.sample_name\n",
    "    sj_file = os.path.join(os.path.dirname(lib.lib_settings.get_genome_mapped_reads()), '{name}SJ.out.tab'.format(**locals()))\n",
    "    pBZ105_introns[lib.lib_settings.sample_name] = get_introns(sj_file, reference)"
   ]
  },
  {
   "cell_type": "code",
   "execution_count": 20,
   "metadata": {
    "ExecuteTime": {
     "end_time": "2020-11-21T16:26:35.322816Z",
     "start_time": "2020-11-21T16:26:35.310924Z"
    }
   },
   "outputs": [],
   "source": [
    "black = (0,0,0)\n",
    "gray = (0.5,0.5,0.5)\n",
    "orange = (230/255.0,159/255.0,0)\n",
    "skyBlue = (86/255.0,180/255.0,233/255.0)\n",
    "bluishGreen = (0,158/255.0,115/255.0)\n",
    "yellow = (240/255.0,228/255.0,66/255.0)\n",
    "blue = (0,114/255.0,178/255.0)\n",
    "vermillion = (213/255.0,94/255.0,0)\n",
    "reddishPurple = (204/255.0,121/255.0,167/255.0)\n",
    "white = (255/255.0,255/255.0,255/255.0)"
   ]
  },
  {
   "cell_type": "code",
   "execution_count": 23,
   "metadata": {
    "ExecuteTime": {
     "end_time": "2020-11-21T17:11:02.191872Z",
     "start_time": "2020-11-21T17:11:01.017169Z"
    }
   },
   "outputs": [
    {
     "data": {
      "image/png": "[encoded data removed]",
      "text/plain": [
       "<Figure size 720x360 with 5 Axes>"
      ]
     },
     "metadata": {
      "needs_background": "light"
     },
     "output_type": "display_data"
    }
   ],
   "source": [
    "%matplotlib inline\n",
    "import warnings\n",
    "warnings.filterwarnings(\"ignore\")\n",
    "\n",
    "import matplotlib.pyplot as plt\n",
    "import matplotlib.patches as patches\n",
    "import scipy.stats as stats\n",
    "import numpy as np\n",
    "plt.rcParams['pdf.fonttype'] = 42 #leaves most text as actual text in PDFs, not outlines\n",
    "plt.rc('font',**{'family':'sans-serif','sans-serif':['Helvetica']})\n",
    "\n",
    "plots=[]\n",
    "num_plots_wide = 1\n",
    "num_plots_high = 5\n",
    "fig, plots = plt.subplots(num_plots_high, figsize=(10*num_plots_wide, 1*num_plots_high), sharex=True)\n",
    "\n",
    "positions = np.arange(5200)\n",
    "plot_index = 0\n",
    "for lib in RNA_experiment.libs[:4]:\n",
    "    name = lib.lib_settings.sample_name\n",
    "    coverage = np.array([float(pBZ105_coverage[name][pos]) for pos in positions])\n",
    "    #plots[2].bar(positions-0.5, coverage, color=gray, linewidth=0, width=1, align='edge', alpha=0.5, snap=False, label='fractional coverage')\n",
    "    plots[plot_index].fill_between(positions, coverage, color=gray, linewidth=0, alpha=0.5, label='coverage')\n",
    "    plots[plot_index].set_ylabel('read\\ncoverage', fontsize=8)\n",
    "    plots[plot_index].set_title(name)\n",
    "    for intron in pBZ105_introns[name].keys():\n",
    "        radius = pBZ105_introns[name][intron]\n",
    "        if radius>4: #require more than 4 reads\n",
    "            #add 1 since STAR was 0-indexed and genomecov was 1-indexed\n",
    "            arc = patches.Arc(((intron[1]+1+intron[0]+1)/2., 0), intron[1]-intron[0], 2*radius, linewidth=1, theta1=0.0, theta2=180)\n",
    "            plots[plot_index].add_patch(arc)\n",
    "    plot_index += 1\n",
    "\n",
    "for plot in plots:\n",
    "    plot.spines[\"top\"].set_visible(False)\n",
    "    plot.spines[\"right\"].set_visible(False)\n",
    "    #plot.set_ylim(-1000, 3000)\n",
    "\n",
    "#draw transcript\n",
    "plots[-1].set_ylim(0, 100)\n",
    "transcript_bottom = 50\n",
    "\n",
    "plots[-1].plot([136, 4046], [transcript_bottom+15, transcript_bottom+15], color=black)\n",
    "plots[-1].add_patch(patches.Rectangle((136, transcript_bottom), (577+1)-(136), 35, facecolor=\"white\", edgecolor = \"black\", zorder=10))\n",
    "plots[-1].add_patch(patches.Rectangle((1516, transcript_bottom), (5064+1)-(1516), 35, facecolor=\"white\", edgecolor = \"black\", zorder=10))\n",
    "plots[-1].add_patch(patches.Rectangle((1724, transcript_bottom), (2422+1)-(1724), 35, facecolor=blue, edgecolor = \"black\", zorder=10)) \n",
    "plots[-1].add_patch(patches.Rectangle((2609, transcript_bottom), 753+684, 35, facecolor=vermillion, edgecolor = \"black\", zorder=10)) \n",
    "#plots[3].add_patch(patches.Rectangle((3362, transcript_bottom), 684, 35, facecolor=vermillion, edgecolor = \"black\", zorder=10, hatch='\\\\\\\\\\\\')) \n",
    "plots[-1].plot([1724], [85], marker=7, color=\"green\")\n",
    "plots[-1].plot([2521], [85], marker=7, color=\"red\")\n",
    "plots[-1].plot([4045], [85], marker=7, color=\"red\")\n",
    "\n",
    "\n",
    "plots[-1].spines[\"bottom\"].set_visible(False)\n",
    "plots[-1].spines[\"left\"].set_visible(False)\n",
    "plots[-1].set_xlabel('UGAC reporter')\n",
    "plots[-1].set_yticks([])\n",
    "plots[-1].set_xticks([])\n",
    "\n",
    "plots[-1].set_xlim(0, 5100)\n",
    "size_of_scale = 1000\n",
    "plots[-1].plot([136, 136+size_of_scale], [40, 40], color=black)\n",
    "plots[-1].text(136+(size_of_scale/2),  0, \"{} kbp\".format(size_of_scale/1000), size=9, horizontalalignment='center', verticalalignment='bottom')\n",
    "\n",
    "plt.savefig('FS2E_pBZ105_RNA_Seq_introns.pdf', transparent=True)"
   ]
  },
  {
   "cell_type": "code",
   "execution_count": null,
   "metadata": {},
   "outputs": [],
   "source": []
  }
 ],
 "metadata": {
  "kernelspec": {
   "display_name": "Python 2",
   "language": "python",
   "name": "python2"
  },
  "language_info": {
   "codemirror_mode": {
    "name": "ipython",
    "version": 2
   },
   "file_extension": ".py",
   "mimetype": "text/x-python",
   "name": "python",
   "nbconvert_exporter": "python",
   "pygments_lexer": "ipython2",
   "version": "2.7.12"
  }
 },
 "nbformat": 4,
 "nbformat_minor": 2
}
