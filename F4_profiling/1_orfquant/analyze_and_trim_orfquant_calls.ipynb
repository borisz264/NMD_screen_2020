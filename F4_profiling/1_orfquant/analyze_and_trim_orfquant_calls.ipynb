{
 "cells": [
  {
   "cell_type": "markdown",
   "metadata": {},
   "source": [
    "Look at transcript selections from ORFquant (previously satann)"
   ]
  },
  {
   "cell_type": "code",
   "execution_count": 1,
   "metadata": {
    "ExecuteTime": {
     "end_time": "2020-11-23T21:59:05.443769Z",
     "start_time": "2020-11-23T21:59:01.612750Z"
    }
   },
   "outputs": [],
   "source": [
    "import pandas as pd\n",
    "import numpy as np\n",
    "import math\n",
    "import sys\n",
    "sys.path.append('../ribo_seq/')\n",
    "import ribo_utils"
   ]
  },
  {
   "cell_type": "markdown",
   "metadata": {},
   "source": [
    "### Import transcript info"
   ]
  },
  {
   "cell_type": "code",
   "execution_count": 2,
   "metadata": {
    "ExecuteTime": {
     "end_time": "2020-11-23T22:00:44.355964Z",
     "start_time": "2020-11-23T21:59:44.336874Z"
    }
   },
   "outputs": [],
   "source": [
    "comprehensive_gtf_data = ribo_utils.gtf_data('../annotations/gencode.v35.annotation.pBZ105.no_nonstop.gtf', add_3_for_stop = True, store_lines=True)"
   ]
  },
  {
   "cell_type": "code",
   "execution_count": 3,
   "metadata": {
    "ExecuteTime": {
     "end_time": "2020-11-23T22:00:44.394603Z",
     "start_time": "2020-11-23T22:00:44.360400Z"
    }
   },
   "outputs": [
    {
     "data": {
      "text/plain": [
       "80675"
      ]
     },
     "execution_count": 3,
     "metadata": {},
     "output_type": "execute_result"
    }
   ],
   "source": [
    "#get list of all tx in annotations\n",
    "all_tx = comprehensive_gtf_data.transcript_to_entries.keys()\n",
    "len(all_tx)"
   ]
  },
  {
   "cell_type": "code",
   "execution_count": 28,
   "metadata": {
    "ExecuteTime": {
     "end_time": "2020-11-23T22:13:58.718883Z",
     "start_time": "2020-11-23T22:13:58.681983Z"
    }
   },
   "outputs": [
    {
     "name": "stdout",
     "output_type": "stream",
     "text": [
      "['mono']\n"
     ]
    }
   ],
   "source": [
    "#get transcripts output by ORFquant\n",
    "import os\n",
    "orfquant_tx_files = [file_name for file_name in os.listdir('.') if file_name.endswith('.selected_tx.txt') and not file_name.startswith('.')]\n",
    "sample_names = [file_name[:-27] for file_name in orfquant_tx_files]\n",
    "print sample_names\n",
    "orfquant_tx_file_paths = [file_name for file_name in orfquant_tx_files]\n",
    "\n",
    "def tx_from_file(file_name):\n",
    "    txs = []\n",
    "    f = open(file_name)\n",
    "    for line in f:\n",
    "        txs.append(line.strip())\n",
    "    f.close()\n",
    "    return set(txs)\n",
    "\n",
    "sample_to_tx = {}\n",
    "for i in range(len(orfquant_tx_file_paths)):\n",
    "    sample_to_tx[sample_names[i]] = tx_from_file(orfquant_tx_file_paths[i])"
   ]
  },
  {
   "cell_type": "code",
   "execution_count": 29,
   "metadata": {
    "ExecuteTime": {
     "end_time": "2020-11-23T22:13:59.827479Z",
     "start_time": "2020-11-23T22:13:59.755667Z"
    }
   },
   "outputs": [],
   "source": [
    "sample_tx_histograms = {}\n",
    "for dataset in sample_to_tx.keys():\n",
    "    sample_tx_histograms[dataset] = comprehensive_gtf_data.get_transcript_multiplicity(gene_type=None, transcript_subset=sample_to_tx[dataset])"
   ]
  },
  {
   "cell_type": "code",
   "execution_count": 30,
   "metadata": {
    "ExecuteTime": {
     "end_time": "2020-11-23T22:14:00.375275Z",
     "start_time": "2020-11-23T22:14:00.350462Z"
    }
   },
   "outputs": [],
   "source": [
    "sample_tx_histograms['all'] = comprehensive_gtf_data.get_transcript_multiplicity()"
   ]
  },
  {
   "cell_type": "code",
   "execution_count": 31,
   "metadata": {
    "ExecuteTime": {
     "end_time": "2020-11-23T22:14:00.899600Z",
     "start_time": "2020-11-23T22:14:00.891868Z"
    }
   },
   "outputs": [
    {
     "data": {
      "text/plain": [
       "['mono', 'all']"
      ]
     },
     "execution_count": 31,
     "metadata": {},
     "output_type": "execute_result"
    }
   ],
   "source": [
    "sample_tx_histograms.keys()"
   ]
  },
  {
   "cell_type": "code",
   "execution_count": 32,
   "metadata": {
    "ExecuteTime": {
     "end_time": "2020-11-23T22:14:01.714929Z",
     "start_time": "2020-11-23T22:14:01.705304Z"
    }
   },
   "outputs": [],
   "source": [
    "import numpy\n",
    "def hist_to_step(histogram, exclude=[], normalize = False):\n",
    "    #x=[]\n",
    "    x = [num_tx for num_tx in sorted(histogram.keys()) if num_tx not in exclude]\n",
    "    y = [histogram[num_tx] for num_tx in x]\n",
    "    if normalize:\n",
    "        y = numpy.array(y)/float(sum(y))\n",
    "    return x, list(y)"
   ]
  },
  {
   "cell_type": "code",
   "execution_count": 33,
   "metadata": {
    "ExecuteTime": {
     "end_time": "2020-11-23T22:14:02.537123Z",
     "start_time": "2020-11-23T22:14:02.506836Z"
    }
   },
   "outputs": [],
   "source": [
    "#set up plotting\n",
    "%matplotlib inline\n",
    "import matplotlib as mpl\n",
    "import matplotlib.pyplot as plt\n",
    "import scipy.stats as stats\n",
    "import numpy as np\n",
    "plt.rcParams['pdf.fonttype'] = 42 #leaves most text as actual text in PDFs, not outlines\n",
    "# Say, \"the default sans-serif font is arial\"\n",
    "mpl.rcParams['font.sans-serif'] = \"Arial\"\n",
    "# Then, \"ALWAYS use sans-serif fonts\"\n",
    "mpl.rcParams['font.family'] = \"sans-serif\"\n",
    "#colorblind safe colors\n",
    "black = (0,0,0)\n",
    "gray = (0.5,0.5,0.5)\n",
    "orange = (230/255.0,159/255.0,0)\n",
    "skyBlue = (86/255.0,180/255.0,233/255.0)\n",
    "bluishGreen = (0,158/255.0,115/255.0)\n",
    "yellow = (240/255.0,228/255.0,66/255.0)\n",
    "blue = (0,114/255.0,178/255.0)\n",
    "vermillion = (213/255.0,94/255.0,0)\n",
    "reddishPurple = (204/255.0,121/255.0,167/255.0)\n",
    "colors = [gray, black, blue, orange, bluishGreen, skyBlue, vermillion, reddishPurple, yellow, 'red', 'green']\n",
    "rainbow = [black, vermillion, orange, bluishGreen, blue, reddishPurple, 'violet']"
   ]
  },
  {
   "cell_type": "code",
   "execution_count": 34,
   "metadata": {
    "ExecuteTime": {
     "end_time": "2020-11-23T22:14:03.539938Z",
     "start_time": "2020-11-23T22:14:03.254017Z"
    }
   },
   "outputs": [
    {
     "data": {
      "image/png": "[encoded data removed]",
      "text/plain": [
       "<Figure size 432x432 with 1 Axes>"
      ]
     },
     "metadata": {
      "needs_background": "light"
     },
     "output_type": "display_data"
    }
   ],
   "source": [
    "#histograms of transcript numbers\n",
    "#with and w/o zeros\n",
    "\n",
    "plot_index = 1\n",
    "num_plots_wide = 1\n",
    "num_plots_high = 1\n",
    "\n",
    "fig = plt.figure(figsize=(6*num_plots_wide, 6*num_plots_high))\n",
    "plot = fig.add_subplot(num_plots_high, num_plots_wide, plot_index)\n",
    "color_index = 0\n",
    "for dataset in sorted(sample_tx_histograms.keys()):\n",
    "        #if dataset not in [\"all\"]:\n",
    "            x, y = hist_to_step(sample_tx_histograms[dataset], exclude=[0], normalize=False)\n",
    "            plot.step([0.5]+x, [y[0]]+y, color=colors[color_index], label='%s' %(dataset), lw=2, where='mid')\n",
    "            color_index += 1\n",
    "\n",
    "            plot.set_xlabel(\"# transcripts detected per gene\")\n",
    "            plot.set_ylabel(\"number of detected genes\")\n",
    "            plot.set_title('transcripts detected by ORFquant')\n",
    "\n",
    "            plot.spines['right'].set_visible(False)\n",
    "            plot.spines['top'].set_visible(False)\n",
    "            plot.set_xticks(range(11))\n",
    "            #plot.set_ylim(0, 1)\n",
    "            plot.set_xlim(0.5, 10)\n",
    "            plot_index += 1\n",
    "            lg=plt.legend(prop={'size':12}, labelspacing=0.2, bbox_to_anchor=(1.04,1), loc=\"upper left\")\n",
    "            lg.draw_frame(False)\n",
    "#plt.tight_layout()\n",
    "plt.savefig('transcripts_per_gene_orfquant.pdf', transparent='True', format='pdf')"
   ]
  },
  {
   "cell_type": "code",
   "execution_count": 35,
   "metadata": {
    "ExecuteTime": {
     "end_time": "2020-11-23T22:14:04.804628Z",
     "start_time": "2020-11-23T22:14:04.583912Z"
    }
   },
   "outputs": [
    {
     "data": {
      "image/png": "[encoded data removed]",
      "text/plain": [
       "<Figure size 432x432 with 1 Axes>"
      ]
     },
     "metadata": {
      "needs_background": "light"
     },
     "output_type": "display_data"
    }
   ],
   "source": [
    "#histograms of transcript numbers\n",
    "#with and w/o zeros\n",
    "\n",
    "plot_index = 1\n",
    "num_plots_wide = 1\n",
    "num_plots_high = 1\n",
    "\n",
    "fig = plt.figure(figsize=(6*num_plots_wide, 6*num_plots_high))\n",
    "plot = fig.add_subplot(num_plots_high, num_plots_wide, plot_index)\n",
    "color_index = 0\n",
    "for dataset in sorted(sample_tx_histograms.keys()):\n",
    "        #if dataset not in [\"all\"]:\n",
    "            x, y = hist_to_step(sample_tx_histograms[dataset], exclude=[0], normalize=True)\n",
    "            plot.step([0.5]+x, [y[0]]+y, color=colors[color_index], label='%s' %(dataset), lw=2, where='mid')\n",
    "            color_index += 1\n",
    "\n",
    "            plot.set_xlabel(\"# transcripts detected per gene\")\n",
    "            plot.set_ylabel(\"fraction of detected genes\")\n",
    "            plot.set_title('transcripts detected by ORFquant')\n",
    "\n",
    "            plot.spines['right'].set_visible(False)\n",
    "            plot.spines['top'].set_visible(False)\n",
    "            plot.set_xticks(range(11))\n",
    "            #plot.set_ylim(0, 1)\n",
    "            plot.set_xlim(0.5, 10)\n",
    "            plot_index += 1\n",
    "            lg=plt.legend(prop={'size':12}, labelspacing=0.2, bbox_to_anchor=(1.04,1), loc=\"upper left\")\n",
    "            lg.draw_frame(False)\n",
    "#plt.tight_layout()\n",
    "plt.savefig('frac_transcripts_per_gene_orfquant.pdf', transparent='True', format='pdf')"
   ]
  },
  {
   "cell_type": "code",
   "execution_count": 36,
   "metadata": {
    "ExecuteTime": {
     "end_time": "2020-11-23T22:14:07.304705Z",
     "start_time": "2020-11-23T22:14:07.298326Z"
    }
   },
   "outputs": [
    {
     "name": "stdout",
     "output_type": "stream",
     "text": [
      "('mono', 38389)\n"
     ]
    }
   ],
   "source": [
    "for sample in sample_to_tx.keys():\n",
    "    print(sample, len(sample_to_tx[sample]))"
   ]
  },
  {
   "cell_type": "code",
   "execution_count": 37,
   "metadata": {
    "ExecuteTime": {
     "end_time": "2020-11-23T22:14:13.521635Z",
     "start_time": "2020-11-23T22:14:13.510743Z"
    }
   },
   "outputs": [],
   "source": [
    "def get_genomic_stop_coords(x):\n",
    "    stop_entry = comprehensive_gtf_data.sorted_exons(x, exon_type='stop_codon')\n",
    "    if len(stop_entry) == 0:\n",
    "        return 'not annotated'\n",
    "    stop = '%s %s %s %s' % (stop_entry[0].get_value('chr'), stop_entry[0].get_value('strand'), \n",
    "                             stop_entry[0].get_value('start'), stop_entry[0].get_value('end'))\n",
    "    return stop"
   ]
  },
  {
   "cell_type": "markdown",
   "metadata": {},
   "source": [
    "## output gene sets to file"
   ]
  },
  {
   "cell_type": "code",
   "execution_count": 38,
   "metadata": {
    "ExecuteTime": {
     "end_time": "2020-11-23T22:14:25.836285Z",
     "start_time": "2020-11-23T22:14:17.014084Z"
    }
   },
   "outputs": [],
   "source": [
    "comprehensive_gtf_data.write_transcript_entries_to_file(os.path.join('orfquant_chosen_tx.gtf'), transcript_ids=sample_to_tx['mono'])"
   ]
  },
  {
   "cell_type": "markdown",
   "metadata": {},
   "source": [
    "## generate annotation with all tx with same stop combined"
   ]
  },
  {
   "cell_type": "code",
   "execution_count": 39,
   "metadata": {
    "ExecuteTime": {
     "end_time": "2020-11-23T22:14:29.026185Z",
     "start_time": "2020-11-23T22:14:29.013686Z"
    }
   },
   "outputs": [],
   "source": [
    "def get_genomic_stop_coords(x):\n",
    "    #if given a |-seperated list of tx, will only return value for first one\n",
    "    if '|' in x:\n",
    "        return get_genomic_stop_coords(x.split('|')[0])\n",
    "    stop_entry = comprehensive_gtf_data.sorted_exons(x, exon_type='stop_codon')\n",
    "    if len(stop_entry) == 0:\n",
    "        return 'not annotated'\n",
    "    stop = '%s %s %s %s' % (stop_entry[0].get_value('chr'), stop_entry[0].get_value('strand'), \n",
    "                             stop_entry[0].get_value('start'), stop_entry[0].get_value('end'))\n",
    "    return stop"
   ]
  },
  {
   "cell_type": "code",
   "execution_count": 40,
   "metadata": {
    "ExecuteTime": {
     "end_time": "2020-11-23T22:14:32.568479Z",
     "start_time": "2020-11-23T22:14:30.396839Z"
    }
   },
   "outputs": [],
   "source": [
    "#take superset transcript set, combine all transcripts with same stop codon, and make new set files\n",
    "#first, make nested dict grouping transcripts first by gene then by stop\n",
    "from collections import defaultdict\n",
    "tx_by_stop = defaultdict(lambda: defaultdict(list))\n",
    "for transcript in sample_to_tx['mono']:\n",
    "    parent_gene = comprehensive_gtf_data.tx_to_genes[transcript]\n",
    "    stop_codon = get_genomic_stop_coords(transcript)\n",
    "    tx_by_stop[parent_gene][stop_codon].append(transcript)"
   ]
  },
  {
   "cell_type": "code",
   "execution_count": 42,
   "metadata": {
    "ExecuteTime": {
     "end_time": "2020-11-23T22:14:54.481524Z",
     "start_time": "2020-11-23T22:14:50.880978Z"
    }
   },
   "outputs": [
    {
     "name": "stdout",
     "output_type": "stream",
     "text": [
      "['ENST00000395123.6', 'ENST00000529554.5', 'ENST00000395124.6', 'ENST00000533524.5']\n",
      "double tie ENSG00000134802.18 chr11 - 57407792 57407794 ENST00000395123.6 ENST00000395124.6\n",
      "['ENST00000496817.5', 'ENST00000368719.9', 'ENST00000368720.6']\n",
      "double tie ENSG00000197956.10 chr1 - 153534696 153534698 ENST00000496817.5 ENST00000368720.6\n",
      "['ENST00000494992.5', 'ENST00000605679.5', 'ENST00000483386.5']\n",
      "double tie ENSG00000176273.15 chr10 + 93906263 93906265 ENST00000494992.5 ENST00000605679.5\n",
      "['ENST00000583522.5', 'ENST00000577682.5', 'ENST00000581381.5', 'ENST00000582266.5', 'ENST00000583953.5']\n",
      "double tie ENSG00000173065.13 chr17 - 28759760 28759762 ENST00000583522.5 ENST00000581381.5\n",
      "['ENST00000360243.6', 'ENST00000393920.5', 'ENST00000276344.6', 'ENST00000370340.7', 'ENST00000370335.5', 'ENST00000393921.5']\n",
      "double tie ENSG00000147381.11 chrX + 151924616 151924618 ENST00000360243.6 ENST00000370340.7\n",
      "['ENST00000360243.6', 'ENST00000393920.5', 'ENST00000276344.6', 'ENST00000370340.7', 'ENST00000370335.5', 'ENST00000393921.5']\n",
      "double tie ENSG00000147381.11 chrX + 151924616 151924618 ENST00000360243.6 ENST00000370335.5\n",
      "['ENST00000397345.7', 'ENST00000427231.6']\n",
      "double tie ENSG00000183091.19 chr2 - 151485760 151485762 ENST00000397345.7 ENST00000427231.6\n",
      "['ENST00000361531.6', 'ENST00000368211.8']\n",
      "double tie ENSG00000143314.12 chr1 - 156737398 156737400 ENST00000361531.6 ENST00000368211.8\n",
      "['ENST00000528011.2', 'ENST00000397420.9', 'ENST00000322008.9', 'ENST00000397421.5']\n",
      "double tie ENSG00000177697.19 chr11 + 838190 838192 ENST00000397420.9 ENST00000322008.9\n",
      "['ENST00000263556.3', 'ENST00000307116.6', 'ENST00000373008.6', 'ENST00000394890.6']\n",
      "double tie ENSG00000122884.12 chr10 - 73008222 73008224 ENST00000263556.3 ENST00000394890.6\n",
      "['ENST00000409871.6', 'ENST00000343936.4']\n",
      "double tie ENSG00000188177.14 chr2 + 112332486 112332488 ENST00000409871.6 ENST00000343936.4\n",
      "['ENST00000446868.7', 'ENST00000361101.8']\n",
      "double tie ENSG00000108669.16 chr17 - 78676091 78676093 ENST00000446868.7 ENST00000361101.8\n",
      "['ENST00000372901.1', 'ENST00000372899.5']\n",
      "double tie ENSG00000024048.10 chr6 + 42691171 42691173 ENST00000372901.1 ENST00000372899.5\n"
     ]
    }
   ],
   "source": [
    "stops_collapsed = []\n",
    "for gene in tx_by_stop:\n",
    "    for stop in tx_by_stop[gene]:\n",
    "        transcripts = tx_by_stop[gene][stop]\n",
    "        longest_cds_tx = transcripts[0]\n",
    "        for transcript in transcripts[1:]:\n",
    "            if comprehensive_gtf_data.spliced_length(transcript, exon_type=['CDS', 'stop_codon']) > comprehensive_gtf_data.spliced_length(longest_cds_tx, exon_type=['CDS', 'stop_codon']):\n",
    "                longest_cds_tx = transcript\n",
    "            elif comprehensive_gtf_data.spliced_length(transcript, exon_type=['CDS', 'stop_codon']) == comprehensive_gtf_data.spliced_length(longest_cds_tx, exon_type=['CDS', 'stop_codon']):\n",
    "                if comprehensive_gtf_data.spliced_length(transcript, exon_type=['exon']) > comprehensive_gtf_data.spliced_length(longest_cds_tx, exon_type=['exon']):\n",
    "                    longest_cds_tx = transcript\n",
    "                elif comprehensive_gtf_data.spliced_length(transcript, exon_type=['exon']) == comprehensive_gtf_data.spliced_length(longest_cds_tx, exon_type=['exon']):\n",
    "                    print transcripts\n",
    "                    print \"double tie\", gene, stop, longest_cds_tx, transcript\n",
    "        stops_collapsed.append(longest_cds_tx)"
   ]
  },
  {
   "cell_type": "code",
   "execution_count": 44,
   "metadata": {
    "ExecuteTime": {
     "end_time": "2020-11-23T22:24:55.553865Z",
     "start_time": "2020-11-23T22:24:55.550286Z"
    }
   },
   "outputs": [
    {
     "name": "stdout",
     "output_type": "stream",
     "text": [
      "24337\n"
     ]
    }
   ],
   "source": [
    "print len(stops_collapsed)"
   ]
  },
  {
   "cell_type": "code",
   "execution_count": 45,
   "metadata": {
    "ExecuteTime": {
     "end_time": "2020-11-23T22:25:57.638472Z",
     "start_time": "2020-11-23T22:25:57.630260Z"
    }
   },
   "outputs": [],
   "source": [
    "def write_tx_to_file(tx_set, file_name):\n",
    "    f = open(file_name, 'w')\n",
    "    for tx_id in tx_set:\n",
    "        f.write('%s\\n' % tx_id)\n",
    "    f.close()\n"
   ]
  },
  {
   "cell_type": "code",
   "execution_count": 47,
   "metadata": {
    "ExecuteTime": {
     "end_time": "2020-11-23T22:26:17.557987Z",
     "start_time": "2020-11-23T22:26:17.536887Z"
    }
   },
   "outputs": [],
   "source": [
    "write_tx_to_file(stops_collapsed, os.path.join('orfquant_tx_stops_collapsed.txt'))"
   ]
  },
  {
   "cell_type": "code",
   "execution_count": 48,
   "metadata": {
    "ExecuteTime": {
     "end_time": "2020-11-23T22:26:55.301811Z",
     "start_time": "2020-11-23T22:26:51.096155Z"
    }
   },
   "outputs": [],
   "source": [
    "comprehensive_gtf_data.write_transcript_entries_to_file(os.path.join('../annotations/orfquant_stops_collapsed.gtf'), transcript_ids=stops_collapsed)"
   ]
  },
  {
   "cell_type": "markdown",
   "metadata": {},
   "source": []
  }
 ],
 "metadata": {
  "kernelspec": {
   "display_name": "Python 2",
   "language": "python",
   "name": "python2"
  },
  "language_info": {
   "codemirror_mode": {
    "name": "ipython",
    "version": 2
   },
   "file_extension": ".py",
   "mimetype": "text/x-python",
   "name": "python",
   "nbconvert_exporter": "python",
   "pygments_lexer": "ipython2",
   "version": "2.7.12"
  }
 },
 "nbformat": 4,
 "nbformat_minor": 2
}
