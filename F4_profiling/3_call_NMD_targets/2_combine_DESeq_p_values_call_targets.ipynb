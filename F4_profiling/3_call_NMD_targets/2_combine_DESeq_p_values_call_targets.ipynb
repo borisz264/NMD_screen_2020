{
 "cells": [
  {
   "cell_type": "markdown",
   "metadata": {},
   "source": [
    "Using the methods of Colombo et al 2017 to get joint p-values from my single-experiment DESeq results for the RNA-seq experiments and call a group of NMD target transcripts"
   ]
  },
  {
   "cell_type": "code",
   "execution_count": 1,
   "metadata": {
    "ExecuteTime": {
     "end_time": "2020-11-25T15:06:02.705602Z",
     "start_time": "2020-11-25T15:06:01.649167Z"
    }
   },
   "outputs": [],
   "source": [
    "#combine adjusted p values into a single dataframe\n",
    "import os\n",
    "import pandas as pd\n",
    "data_file_names = [file_name for file_name in os.listdir('DESeq_results/') if file_name.endswith('.txt') and not file_name.startswith('.')]\n",
    "dfs = []\n",
    "for data_file_name in data_file_names:\n",
    "    data_file = os.path.join('DESeq_results/', data_file_name)\n",
    "    df = pd.read_csv(data_file, sep='\\t')\n",
    "    df = df[['Unnamed: 0', 'padj', 'log2FoldChange']]\n",
    "    df.rename(columns = {'Unnamed: 0':'tx_id', 'padj':'%s padj' % data_file_name[:-4], 'log2FoldChange':'%s log2FoldChange' % data_file_name[:-4]}, inplace = True)\n",
    "    dfs.append(df)\n",
    "combined_padj_df = reduce(lambda x, y: pd.merge(x, y, on = 'tx_id', how='outer'), dfs)\n",
    "combined_padj_df.to_csv('all_padj_log2FC.tsv', sep='\\t')"
   ]
  },
  {
   "cell_type": "code",
   "execution_count": 2,
   "metadata": {
    "ExecuteTime": {
     "end_time": "2020-11-25T15:06:05.976522Z",
     "start_time": "2020-11-25T15:06:05.203824Z"
    },
    "code_folding": []
   },
   "outputs": [],
   "source": [
    "from scipy.special import comb\n",
    "import math\n",
    "\n",
    "def sum_of_p_values(p_values):\n",
    "    '''\n",
    "    Uses the sum of p values method (Edgington 1972, Journal of Psychology)\n",
    "    To produce a joint p value from a list of p values\n",
    "    '''\n",
    "    n = len(p_values)\n",
    "    s = sum(p_values)\n",
    "    n_factorial = math.factorial(n)\n",
    "    summation_terms = [((-1)**i)*comb(n, i)*((s-i)**n) for i in range(n) if (s-i)>0]\n",
    "    new_p = sum(summation_terms)/n_factorial\n",
    "    return new_p\n",
    "\n",
    "def sum_of_2_p_values(p1, p2):\n",
    "    return sum_of_p_values([p1, p2])\n",
    "\n",
    "def sum_of_p_values_kd_rescue(kd_p, kd_l2fc, res_p, res_log2FC):\n",
    "    \"\"\"\n",
    "    if kd_l2fc is < 0, set kd_p to 1\n",
    "    if res_log2FC is > 0, set res_p to 1\n",
    "    then run sum_of_p_values on the result\n",
    "    \"\"\"\n",
    "    \n",
    "    if kd_l2fc < 0:\n",
    "        new_kd_p = 1\n",
    "    else:\n",
    "        new_kd_p = kd_p\n",
    "    if res_log2FC > 0:\n",
    "        new_res_p = 1\n",
    "    else:\n",
    "        new_res_p = res_p\n",
    "    \n",
    "    return sum_of_p_values([new_kd_p, new_res_p])"
   ]
  },
  {
   "cell_type": "code",
   "execution_count": 3,
   "metadata": {
    "ExecuteTime": {
     "end_time": "2020-11-25T15:06:07.608824Z",
     "start_time": "2020-11-25T15:06:06.734069Z"
    }
   },
   "outputs": [],
   "source": [
    "#combine p values from knockdown and rescues\n",
    "import numpy as np\n",
    "combined_padj_df = combined_padj_df.dropna()\n",
    "meta_p = pd.DataFrame(combined_padj_df['tx_id'])\n",
    "kd_rescue_pairs = [('UPF1_kd_vs_scr', 'UPF1_rescue_vs_kd', 'UPF1'),('SMG6_kd_vs_scr', 'SMG6_rescue_vs_kd', 'SMG6'), \n",
    "                  ('SMG7_kd_vs_scr', 'SMG7_rescue_vs_dSMG_kd', 'SMG7'), ('dSMG_kd_vs_scr', 'SMG6_rescue_vs_dSMG_kd', 'dKD_SMG6'),\n",
    "                   ('dSMG_kd_vs_scr', 'SMG7_rescue_vs_dSMG_kd', 'dKD_SMG7')]\n",
    "for pair in kd_rescue_pairs:\n",
    "    meta_p[pair[2]] = np.vectorize(sum_of_p_values_kd_rescue)(combined_padj_df['%s padj'%pair[0]], \n",
    "                                                              combined_padj_df['%s log2FoldChange'%pair[0]],\n",
    "                                                              combined_padj_df['%s padj'%pair[1]], \n",
    "                                                              combined_padj_df['%s log2FoldChange'%pair[1]])"
   ]
  },
  {
   "cell_type": "code",
   "execution_count": 4,
   "metadata": {
    "ExecuteTime": {
     "end_time": "2020-11-25T15:06:12.148121Z",
     "start_time": "2020-11-25T15:06:08.716502Z"
    }
   },
   "outputs": [],
   "source": [
    "\"The results from SMG6 and dKD_SMG6 were combined with Fisher’s method in a single meta_SMG6 score.\"\n",
    "import scipy.stats as stats\n",
    "import numpy as np\n",
    "\n",
    "def fishers_method(p1, p2):\n",
    "    pvalues = [p1, p2]\n",
    "    return stats.combine_pvalues(pvalues, method='fisher')[1]\n",
    "\n",
    "meta_p['meta_SMG6'] = np.vectorize(fishers_method)(meta_p['SMG6'], meta_p['dKD_SMG6'])\n",
    "meta_p['meta_SMG7'] = np.vectorize(fishers_method)(meta_p['SMG7'], meta_p['dKD_SMG7'])"
   ]
  },
  {
   "cell_type": "code",
   "execution_count": 5,
   "metadata": {
    "ExecuteTime": {
     "end_time": "2020-11-25T15:06:12.333493Z",
     "start_time": "2020-11-25T15:06:12.152042Z"
    }
   },
   "outputs": [],
   "source": [
    "\"A meta_SMGs significance score was then computed with a sum ofP-value from meta_SMG6 and meta_SMG7\"\n",
    "meta_p['meta_SMGs'] = np.vectorize(sum_of_2_p_values)(meta_p['meta_SMG6'], meta_p['meta_SMG7'])"
   ]
  },
  {
   "cell_type": "code",
   "execution_count": 6,
   "metadata": {
    "ExecuteTime": {
     "end_time": "2020-11-25T15:06:13.151779Z",
     "start_time": "2020-11-25T15:06:12.336386Z"
    }
   },
   "outputs": [],
   "source": [
    "\"\"\"\n",
    "The final significance parameter used to determine the list \n",
    "of most significant NMD targets was calculated with a Fisher’s method from meta_SMGs and UPF1_FDR (meta_meta).\n",
    "\"\"\"\n",
    "meta_p['meta_meta'] = np.vectorize(fishers_method)(meta_p['meta_SMGs'], meta_p['UPF1'])"
   ]
  },
  {
   "cell_type": "code",
   "execution_count": 7,
   "metadata": {
    "ExecuteTime": {
     "end_time": "2020-11-25T15:07:27.574847Z",
     "start_time": "2020-11-25T15:07:14.484307Z"
    }
   },
   "outputs": [],
   "source": [
    "import sys\n",
    "\n",
    "pipeline_dir = '../ribo_seq/'\n",
    "if pipeline_dir not in sys.path:\n",
    "    sys.path.append(pipeline_dir)\n",
    "\n",
    "\n",
    "import ribo_utils\n",
    "\n",
    "comprehensive_gtf_data = ribo_utils.gtf_data('../annotations/orfquant_stops_collapsed.gtf')"
   ]
  },
  {
   "cell_type": "code",
   "execution_count": 8,
   "metadata": {
    "ExecuteTime": {
     "end_time": "2020-11-25T15:07:27.590999Z",
     "start_time": "2020-11-25T15:07:27.578056Z"
    }
   },
   "outputs": [],
   "source": [
    "def get_nmd_status(x):\n",
    "    if '|' in x:\n",
    "        return any([get_nmd_status(tx) for tx in x.split('|')])\n",
    "    return sorted(comprehensive_gtf_data.transcript_to_entries[x])[0].get_value('transcript_type') == 'nonsense_mediated_decay'\n",
    "\n",
    "def get_nmd_status_all(x):\n",
    "    if '|' in x:\n",
    "        return all([get_nmd_status(tx) for tx in x.split('|')])\n",
    "    return sorted(comprehensive_gtf_data.transcript_to_entries[x])[0].get_value('transcript_type') == 'nonsense_mediated_decay'\n",
    "\n",
    "\n",
    "def get_gene_id(x):\n",
    "    if '|' in x:\n",
    "        return get_gene_id(x.split('|')[0])\n",
    "    return comprehensive_gtf_data.tx_to_genes[x]\n",
    "\n",
    "def get_gene_name(x):\n",
    "    if '|' in x:\n",
    "        return get_gene_name(x.split('|')[0])\n",
    "    return comprehensive_gtf_data.tx_to_gene_names[x]"
   ]
  },
  {
   "cell_type": "code",
   "execution_count": 9,
   "metadata": {
    "ExecuteTime": {
     "end_time": "2020-11-25T15:07:29.482301Z",
     "start_time": "2020-11-25T15:07:27.595157Z"
    }
   },
   "outputs": [
    {
     "data": {
      "text/plain": [
       "2159"
      ]
     },
     "execution_count": 9,
     "metadata": {},
     "output_type": "execute_result"
    }
   ],
   "source": [
    "meta_p['gene_name'] = meta_p['tx_id'].apply(get_gene_name)\n",
    "meta_p['gene_id'] = meta_p['tx_id'].apply(get_gene_id)\n",
    "\n",
    "#meta_p['tx_id'] = meta_p['Transcript'].apply(extract_tx_id)\n",
    "#meta_p['gene_id'] = meta_p['Transcript'].apply(extract_gene_id)\n",
    "meta_p['GENCODE nmd annotation'] = meta_p['tx_id'].apply(get_nmd_status)\n",
    "#meta_p['GENCODE nmd annotation all'] = meta_p['tx_id'].apply(get_nmd_status_all)\n",
    "\n",
    "len(meta_p[meta_p['meta_meta']<0.01])"
   ]
  },
  {
   "cell_type": "code",
   "execution_count": 10,
   "metadata": {
    "ExecuteTime": {
     "end_time": "2020-11-25T15:07:35.283504Z",
     "start_time": "2020-11-25T15:07:35.128397Z"
    }
   },
   "outputs": [],
   "source": [
    "meta_p.to_csv('colombo_NMD_meta_pvalues.tsv', sep='\\t', index=False)"
   ]
  }
 ],
 "metadata": {
  "kernelspec": {
   "display_name": "Python 3",
   "language": "python",
   "name": "python3"
  },
  "language_info": {
   "codemirror_mode": {
    "name": "ipython",
    "version": 2
   },
   "file_extension": ".py",
   "mimetype": "text/x-python",
   "name": "python",
   "nbconvert_exporter": "python",
   "pygments_lexer": "ipython2",
   "version": "2.7.12"
  }
 },
 "nbformat": 4,
 "nbformat_minor": 2
}
