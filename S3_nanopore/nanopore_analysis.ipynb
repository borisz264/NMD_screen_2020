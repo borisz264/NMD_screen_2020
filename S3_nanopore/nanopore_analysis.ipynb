{
 "cells": [
  {
   "cell_type": "markdown",
   "metadata": {},
   "source": [
    "# mapping of reads"
   ]
  },
  {
   "cell_type": "code",
   "execution_count": 1,
   "metadata": {
    "ExecuteTime": {
     "end_time": "2020-11-20T19:03:32.919044Z",
     "start_time": "2020-11-20T19:02:14.539942Z"
    }
   },
   "outputs": [
    {
     "name": "stdout",
     "output_type": "stream",
     "text": [
      "[M::mm_idx_gen::0.003*0.00] collected minimizers\n",
      "[M::mm_idx_gen::0.006*3.18] sorted minimizers\n",
      "[M::main::0.006*3.16] loaded/built the index for 2 target sequence(s)\n",
      "[M::mm_mapopt_update::0.007*2.96] mid_occ = 5\n",
      "[M::mm_idx_stat] kmer size: 14; skip: 5; is_hpc: 0; #seq: 2\n",
      "[M::mm_idx_stat::0.007*2.80] distinct minimizers: 5134 (85.02% are singletons); average occurrences: 1.177; average spacing: 2.979\n",
      "[M::worker_pipeline::13.130*7.96] mapped 480049 sequences\n",
      "[M::worker_pipeline::26.522*7.45] mapped 491276 sequences\n",
      "[M::worker_pipeline::30.501*7.53] mapped 235573 sequences\n",
      "[M::main] Version: 2.16-r922\n",
      "[M::main] CMD: minimap2 -ax splice -uf -k14 -t 48 --secondary=no reporter_seqs/pBZ105_and_K0.fa fastq/HEK293FT_pBZ105_UGAC.fastq.gz\n",
      "[M::main] Real time: 30.508 sec; CPU: 229.528 sec; Peak RSS: 2.691 GB\n",
      "Converting sam output to bed\n",
      "[bam_sort_core] merging from 0 files and 48 in-memory blocks...\n"
     ]
    }
   ],
   "source": [
    "!python flair/flair.py align -r fastq/HEK293FT_pBZ105_UGAC.fastq.gz -g reporter_seqs/pBZ105_and_K0.fa -v1.3 --nvrna --threads 48 --output HEK293FT_pBZ105_UGAC"
   ]
  },
  {
   "cell_type": "code",
   "execution_count": 2,
   "metadata": {
    "ExecuteTime": {
     "end_time": "2020-11-20T19:04:20.167918Z",
     "start_time": "2020-11-20T19:03:32.926449Z"
    }
   },
   "outputs": [
    {
     "name": "stdout",
     "output_type": "stream",
     "text": [
      "[M::mm_idx_gen::0.004*1.08] collected minimizers\n",
      "[M::mm_idx_gen::0.008*4.41] sorted minimizers\n",
      "[M::main::0.008*4.39] loaded/built the index for 2 target sequence(s)\n",
      "[M::mm_mapopt_update::0.009*4.02] mid_occ = 5\n",
      "[M::mm_idx_stat] kmer size: 14; skip: 5; is_hpc: 0; #seq: 2\n",
      "[M::mm_idx_stat::0.009*3.79] distinct minimizers: 5154 (85.06% are singletons); average occurrences: 1.185; average spacing: 2.961\n",
      "[M::worker_pipeline::14.800*5.93] mapped 528111 sequences\n",
      "[M::worker_pipeline::21.919*6.46] mapped 341414 sequences\n",
      "[M::main] Version: 2.16-r922\n",
      "[M::main] CMD: minimap2 -ax splice -uf -k14 -t 48 --secondary=no reporter_seqs/pBZ147_and_K20.fa fastq/HEK293FT_pBZ147_AQP4.fastq.gz\n",
      "[M::main] Real time: 21.932 sec; CPU: 141.612 sec; Peak RSS: 2.127 GB\n",
      "Converting sam output to bed\n",
      "[bam_sort_core] merging from 0 files and 48 in-memory blocks...\n"
     ]
    }
   ],
   "source": [
    "!python flair/flair.py align -r fastq/HEK293FT_pBZ147_AQP4.fastq.gz -g reporter_seqs/pBZ147_and_K20.fa  -v1.3 --nvrna --threads 48 --output HEK293FT_pBZ147_AQP4"
   ]
  },
  {
   "cell_type": "code",
   "execution_count": 3,
   "metadata": {
    "ExecuteTime": {
     "end_time": "2020-11-20T19:04:20.190313Z",
     "start_time": "2020-11-20T19:04:20.174707Z"
    },
    "code_folding": [
     0
    ]
   },
   "outputs": [],
   "source": [
    "def convertFastaToDict(fastaFile):\n",
    "    '''\n",
    "    converts a fasta file to a dict of {sequenceName:sequence}\n",
    "    can take extra files in * args\n",
    "    '''\n",
    "    if isinstance(fastaFile, list):\n",
    "        files = fastaFile\n",
    "    else:\n",
    "        files = [fastaFile]\n",
    "    currentName = None\n",
    "    currentSequence = None\n",
    "    seqDict = {}\n",
    "    for currentFile in files:\n",
    "        if currentFile.endswith('.gz'):\n",
    "            f = gzip.open(currentFile)\n",
    "        else:\n",
    "            f = open(currentFile)\n",
    "        for line in f:\n",
    "            if not line.strip() == '' and not line.startswith('#'):  # ignore empty lines and commented out lines\n",
    "                if line.startswith('>'):  # > marks the start of a new sequence\n",
    "                    if not currentName == None:  # after we've reached the firtst > line, we know what the sequence corresponds to\n",
    "                        seqDict[currentName] = currentSequence\n",
    "                    currentName = line.strip()[1:].split()[\n",
    "                        0]  # i've noticed the gencode names have extraneous numbering after some whitespace. This doens't match the GTF files, so I'm removing it.\n",
    "                    currentSequence = ''\n",
    "                else:\n",
    "                    currentSequence += line.strip()\n",
    "        f.close()\n",
    "    seqDict[currentName] = currentSequence\n",
    "    return seqDict\n"
   ]
  },
  {
   "cell_type": "code",
   "execution_count": 4,
   "metadata": {
    "ExecuteTime": {
     "end_time": "2020-11-20T19:04:20.220773Z",
     "start_time": "2020-11-20T19:04:20.194012Z"
    },
    "code_folding": []
   },
   "outputs": [
    {
     "name": "stdout",
     "output_type": "stream",
     "text": [
      "['pBZ105_lenti_tagBF_2A_UGAC_2A_tdTomato', 'pmGFP_P2A_K0_P2A_RFP']\n",
      "['pBZ147_lenti_tagBF_2A_AQP4_2A_tdTomato', 'pmGFP_P2A_K20_P2A_RFP']\n"
     ]
    }
   ],
   "source": [
    "#import reads\n",
    "import pysam\n",
    "from collections import defaultdict\n",
    "\n",
    "pBZ105_seqs = convertFastaToDict('reporter_seqs/pBZ105_and_K0.fa')\n",
    "pBZ147_seqs = convertFastaToDict('reporter_seqs/pBZ147_and_K20.fa')\n",
    "print(pBZ105_seqs.keys())\n",
    "print(pBZ147_seqs.keys())\n",
    "\n",
    "pBZ105_bam = pysam.AlignmentFile('HEK293FT_pBZ105_UGAC.bam', \"rb\")\n",
    "pBZ147_bam = pysam.AlignmentFile('HEK293FT_pBZ147_AQP4.bam', \"rb\")"
   ]
  },
  {
   "cell_type": "markdown",
   "metadata": {},
   "source": [
    "Parse reads"
   ]
  },
  {
   "cell_type": "code",
   "execution_count": 5,
   "metadata": {
    "ExecuteTime": {
     "end_time": "2020-11-20T19:04:20.687367Z",
     "start_time": "2020-11-20T19:04:20.224566Z"
    },
    "code_folding": []
   },
   "outputs": [],
   "source": [
    "#get read ends\n",
    "pBZ105_reads = [r for r in pBZ105_bam.fetch(reference = 'pBZ105_lenti_tagBF_2A_UGAC_2A_tdTomato') if (not r.is_secondary) and (not r.is_reverse)]\n",
    "pBZ147_reads = [r for r in pBZ147_bam.fetch(reference='pBZ147_lenti_tagBF_2A_AQP4_2A_tdTomato') if (not r.is_secondary) and (not r.is_reverse)]\n",
    "\n",
    "pBZ105_5p_ends = defaultdict(int)\n",
    "pBZ105_3p_ends = defaultdict(int)\n",
    "for read in [r for r in pBZ105_reads if (not r.is_secondary) and (not r.is_reverse)]:\n",
    "    pBZ105_5p_ends[read.reference_start] = pBZ105_5p_ends[read.reference_start] + 1 #0-based start of fragment\n",
    "    pBZ105_3p_ends[read.reference_end-1] = pBZ105_3p_ends[read.reference_end-1] + 1\n",
    "\n",
    "pBZ147_5p_ends = defaultdict(int)\n",
    "pBZ147_3p_ends = defaultdict(int)\n",
    "for read in [r for r in pBZ147_reads if (not r.is_secondary) and (not r.is_reverse)]:\n",
    "    pBZ147_5p_ends[read.reference_start] = pBZ147_5p_ends[read.reference_start] + 1 #0-based start of fragment\n",
    "    pBZ147_3p_ends[read.reference_end-1] = pBZ147_3p_ends[read.reference_end-1] + 1"
   ]
  },
  {
   "cell_type": "code",
   "execution_count": 6,
   "metadata": {
    "ExecuteTime": {
     "end_time": "2020-11-20T19:04:42.485724Z",
     "start_time": "2020-11-20T19:04:20.691101Z"
    },
    "code_folding": []
   },
   "outputs": [],
   "source": [
    "#get coverage\n",
    "def check_read(r):\n",
    "    if (not r.is_secondary) and (not r.is_reverse):\n",
    "        return True\n",
    "    return False\n",
    "\n",
    "def get_coverage(bam, reference):\n",
    "    coverage_dict = defaultdict(int)\n",
    "    for pileupcolumn in bam.pileup(reference):\n",
    "        pos = pileupcolumn.pos\n",
    "        coverage = len([pileupread for pileupread in pileupcolumn.pileups if check_read(pileupread.alignment)])\n",
    "        coverage_dict[pos] = coverage\n",
    "    return coverage_dict\n",
    "\n",
    "pBZ105_coverage = get_coverage(pBZ105_bam, 'pBZ105_lenti_tagBF_2A_UGAC_2A_tdTomato')\n",
    "pBZ147_coverage = get_coverage(pBZ147_bam, 'pBZ147_lenti_tagBF_2A_AQP4_2A_tdTomato')"
   ]
  },
  {
   "cell_type": "code",
   "execution_count": 7,
   "metadata": {
    "ExecuteTime": {
     "end_time": "2020-11-20T19:04:42.916775Z",
     "start_time": "2020-11-20T19:04:42.488930Z"
    },
    "code_folding": []
   },
   "outputs": [
    {
     "name": "stdout",
     "output_type": "stream",
     "text": [
      "8064\n"
     ]
    },
    {
     "data": {
      "text/plain": [
       "1.2009368545358385"
      ]
     },
     "execution_count": 7,
     "metadata": {},
     "output_type": "execute_result"
    }
   ],
   "source": [
    "#get introns\n",
    "import operator\n",
    "print (len(pBZ105_reads))\n",
    "introns = pBZ105_bam.find_introns(pBZ105_reads)\n",
    "\n",
    "seq = pBZ105_seqs['pBZ105_lenti_tagBF_2A_UGAC_2A_tdTomato']\n",
    "filtered_introns = dict()\n",
    "for intron in introns:\n",
    "    if intron[1] is not None and intron[0] is not None and (intron[1] - intron[0]) > 24:\n",
    "        #The shortest intron sequence is 30 bp long and belongs to the MST1L gene of H. sapiens \n",
    "        #(Gene ID: 11223, Taxonomy ID: 9606), encoding for the putative macrophage stimulating 1-like protein.\n",
    "        #PMC4675715\n",
    "        splice_5p_seq = seq[intron[0] : intron[0]+2]\n",
    "        splice_3p_seq = seq[intron[1]-2 : intron[1]]\n",
    "        if splice_5p_seq.upper() == 'GT' and splice_3p_seq.upper() == 'AG' and introns[intron]>1:\n",
    "            filtered_introns.update({intron:introns[intron]})\n",
    "            #print(intron, introns[intron], splice_5p_seq, splice_3p_seq)\n",
    "#sorted_filtered_introns = sorted(filtered_introns.items(), key=operator.itemgetter(1))\n",
    "#list(reversed(sorted_filtered_introns))\n",
    "\n",
    "#normalize each intron by the number of reads spanning it\n",
    "\n",
    "normalized_introns = {}\n",
    "for intron in filtered_introns.keys():\n",
    "    num_overlapping_reads = len([r for r in pBZ105_reads if (r.reference_start<intron[0] and r.reference_end>intron[1])])\n",
    "    if filtered_introns[intron]/float(num_overlapping_reads)>=0.01:\n",
    "        normalized_introns.update({intron:filtered_introns[intron]/float(num_overlapping_reads)})\n",
    "\n",
    "pBZ105_normalized_introns = normalized_introns\n",
    "   \n",
    "sorted_normalized_introns = sorted(normalized_introns.items(), key=operator.itemgetter(1))\n",
    "#list(reversed(sorted_normalized_introns))\n",
    "sum([i[1] for i in list(reversed(sorted_normalized_introns))[1:]])"
   ]
  },
  {
   "cell_type": "code",
   "execution_count": 8,
   "metadata": {
    "ExecuteTime": {
     "end_time": "2020-11-20T19:04:43.256968Z",
     "start_time": "2020-11-20T19:04:42.920742Z"
    },
    "code_folding": []
   },
   "outputs": [
    {
     "name": "stdout",
     "output_type": "stream",
     "text": [
      "7777\n"
     ]
    },
    {
     "data": {
      "text/plain": [
       "1.610748022239938"
      ]
     },
     "execution_count": 8,
     "metadata": {},
     "output_type": "execute_result"
    }
   ],
   "source": [
    "#get introns\n",
    "\n",
    "import operator\n",
    "print (len(pBZ147_reads))\n",
    "introns = pBZ147_bam.find_introns(pBZ147_reads)\n",
    "\n",
    "seq = pBZ147_seqs['pBZ147_lenti_tagBF_2A_AQP4_2A_tdTomato']\n",
    "filtered_introns = dict()\n",
    "for intron in introns:\n",
    "    if intron[1] is not None and intron[0] is not None and (intron[1] - intron[0]) > 24:\n",
    "        #The shortest intron sequence is 30 bp long and belongs to the MST1L gene of H. sapiens \n",
    "        #(Gene ID: 11223, Taxonomy ID: 9606), encoding for the putative macrophage stimulating 1-like protein.\n",
    "        #PMC4675715\n",
    "        splice_5p_seq = seq[intron[0] : intron[0]+2]\n",
    "        splice_3p_seq = seq[intron[1]-2 : intron[1]]\n",
    "        if splice_5p_seq.upper() == 'GT' and splice_3p_seq.upper() == 'AG' and introns[intron]>1:\n",
    "            filtered_introns.update({intron:introns[intron]})\n",
    "            #print(intron, introns[intron], splice_5p_seq, splice_3p_seq)\n",
    "#sorted_filtered_introns = sorted(filtered_introns.items(), key=operator.itemgetter(1))\n",
    "#list(reversed(sorted_filtered_introns))\n",
    "\n",
    "#normalize each intron by the number of reads spanning it\n",
    "\n",
    "normalized_introns = {}\n",
    "for intron in filtered_introns.keys():\n",
    "    num_overlapping_reads = len([r for r in pBZ147_reads if (r.reference_start<intron[0] and r.reference_end>intron[1])])\n",
    "    if filtered_introns[intron]/float(num_overlapping_reads)>=0.01:\n",
    "        normalized_introns.update({intron:filtered_introns[intron]/float(num_overlapping_reads)})\n",
    "\n",
    "pBZ147_normalized_introns = normalized_introns\n",
    "   \n",
    "sorted_normalized_introns = sorted(normalized_introns.items(), key=operator.itemgetter(1))\n",
    "#list(reversed(sorted_normalized_introns))\n",
    "sum([i[1] for i in list(reversed(sorted_normalized_introns))[1:]])"
   ]
  },
  {
   "cell_type": "markdown",
   "metadata": {},
   "source": [
    "plot reads"
   ]
  },
  {
   "cell_type": "code",
   "execution_count": 9,
   "metadata": {
    "ExecuteTime": {
     "end_time": "2020-11-20T19:04:43.267256Z",
     "start_time": "2020-11-20T19:04:43.260609Z"
    },
    "code_folding": [
     0
    ]
   },
   "outputs": [],
   "source": [
    "#colors - colorblind safe\n",
    "black = (0,0,0)\n",
    "gray = (0.6,0.6,0.6)\n",
    "orange = (230/255.0,159/255.0,0)\n",
    "skyBlue = (86/255.0,180/255.0,233/255.0)\n",
    "bluishGreen = (0,158/255.0,115/255.0)\n",
    "yellow = (240/255.0,228/255.0,66/255.0)\n",
    "blue = (0,114/255.0,178/255.0)\n",
    "vermillion = (213/255.0,94/255.0,0)\n",
    "reddishPurple = (204/255.0,121/255.0,167/255.0)\n",
    "colors = [black, vermillion, orange, skyBlue, bluishGreen, blue, reddishPurple, yellow, gray]"
   ]
  },
  {
   "cell_type": "code",
   "execution_count": 10,
   "metadata": {
    "ExecuteTime": {
     "end_time": "2020-11-20T19:04:59.585128Z",
     "start_time": "2020-11-20T19:04:43.270814Z"
    }
   },
   "outputs": [
    {
     "data": {
      "image/png": "[encoded data removed]",
      "text/plain": [
       "<Figure size 720x288 with 5 Axes>"
      ]
     },
     "metadata": {
      "needs_background": "light"
     },
     "output_type": "display_data"
    }
   ],
   "source": [
    "%matplotlib inline\n",
    "import warnings\n",
    "warnings.filterwarnings(\"ignore\")\n",
    "\n",
    "import matplotlib.pyplot as plt\n",
    "import matplotlib.patches as patches\n",
    "import scipy.stats as stats\n",
    "import numpy as np\n",
    "plt.rcParams['pdf.fonttype'] = 42 #leaves most text as actual text in PDFs, not outlines\n",
    "plt.rc('font',**{'family':'sans-serif','sans-serif':['Helvetica']})\n",
    "\n",
    "plots=[]\n",
    "num_plots_wide = 1\n",
    "num_plots_high = 4\n",
    "fig, plots = plt.subplots(num_plots_high, figsize=(10*num_plots_wide, 1*num_plots_high), sharex=True)\n",
    "\n",
    "positions = np.arange(5200)\n",
    "\n",
    "ends_5p = np.array([float(pBZ105_5p_ends[pos]) for pos in positions])\n",
    "ends_3p = np.array([float(pBZ105_3p_ends[pos]) for pos in positions])\n",
    "\n",
    "plots[0].bar(positions-0.5, ends_5p/sum(ends_5p), color=black, linewidth=0, width=2, align='edge', alpha=1, snap=False, label='fraction 5prime ends')\n",
    "plots[0].set_ylabel(u'fraction\\n5′ ends', fontsize=8)\n",
    "plots[0].set_ylim(0,0.01)\n",
    "\n",
    "plots[1].bar(positions-0.5, ends_3p/sum(ends_3p), color=black, linewidth=0, width=2, align='edge', alpha=1, snap=False, label='fraction 3prime ends')\n",
    "plots[1].set_ylabel(u'fraction\\n3′ ends', fontsize=8)\n",
    "plots[1].set_ylim(0,0.08)\n",
    "\n",
    "\n",
    "coverage = np.array([float(pBZ105_coverage[pos]) for pos in positions])\n",
    "#plots[2].bar(positions-0.5, coverage, color=gray, linewidth=0, width=1, align='edge', alpha=0.5, snap=False, label='fractional coverage')\n",
    "plots[2].fill_between(positions, coverage, color=gray, linewidth=0, alpha=0.5, label='fractional coverage')\n",
    "plots[2].set_ylabel('read\\ncoverage', fontsize=8)\n",
    "plots[2].set_ylim(0,6000)\n",
    "\n",
    "#plots[2].set_yscale('log')\n",
    "\n",
    "ax2 = plots[2].twinx()\n",
    "\n",
    "for intron in pBZ105_normalized_introns.keys():\n",
    "    arc = patches.Arc(((intron[1]+intron[0])/2., 0), intron[1]-intron[0], 2*pBZ105_normalized_introns[intron], linewidth=1)\n",
    "    ax2.add_patch(arc)\n",
    "    \n",
    "ax2.set_ylabel('intron\\nfraction')\n",
    "\n",
    "\n",
    "\n",
    "for plot in plots:\n",
    "    plot.spines[\"top\"].set_visible(False)\n",
    "    plot.spines[\"right\"].set_visible(False)\n",
    "ax2.spines[\"top\"].set_visible(False)\n",
    "ax2.spines[\"right\"].set_visible(False)\n",
    "\n",
    "#draw transcript\n",
    "plots[3].set_ylim(0, 100)\n",
    "transcript_bottom = 50\n",
    "\n",
    "plots[3].plot([136, 4046], [transcript_bottom+15, transcript_bottom+15], color=black)\n",
    "plots[3].add_patch(patches.Rectangle((136, transcript_bottom), (577+1)-(136), 35, facecolor=\"white\", edgecolor = \"black\", zorder=10))\n",
    "plots[3].add_patch(patches.Rectangle((1516, transcript_bottom), (5064+1)-(1516), 35, facecolor=\"white\", edgecolor = \"black\", zorder=10))\n",
    "plots[3].add_patch(patches.Rectangle((1724, transcript_bottom), (2422+1)-(1724), 35, facecolor=blue, edgecolor = \"black\", zorder=10)) \n",
    "plots[3].add_patch(patches.Rectangle((2609, transcript_bottom), 753+684, 35, facecolor=vermillion, edgecolor = \"black\", zorder=10)) \n",
    "#plots[3].add_patch(patches.Rectangle((3362, transcript_bottom), 684, 35, facecolor=vermillion, edgecolor = \"black\", zorder=10, hatch='\\\\\\\\\\\\')) \n",
    "plots[3].plot([1724], [85], marker=7, color=\"green\")\n",
    "plots[3].plot([2521], [85], marker=7, color=\"red\")\n",
    "plots[3].plot([4045], [85], marker=7, color=\"red\")\n",
    "\n",
    "\n",
    "plots[3].spines[\"bottom\"].set_visible(False)\n",
    "plots[3].spines[\"left\"].set_visible(False)\n",
    "plots[3].set_xlabel('UGAC reporter')\n",
    "plots[3].set_yticks([])\n",
    "plots[3].set_xticks([])\n",
    "\n",
    "plots[3].set_xlim(0, 5100)\n",
    "size_of_scale = 1000\n",
    "plots[3].plot([136, 136+size_of_scale], [40, 40], color=black)\n",
    "plots[3].text(136+(size_of_scale/2),  0, \"{} kbp\".format(size_of_scale/1000), size=9, horizontalalignment='center', verticalalignment='bottom')\n",
    "\n",
    "plt.savefig('pBZ105_UGAC_coverage.pdf', transparent=True)"
   ]
  },
  {
   "cell_type": "code",
   "execution_count": 11,
   "metadata": {
    "ExecuteTime": {
     "end_time": "2020-11-20T19:05:16.896099Z",
     "start_time": "2020-11-20T19:04:59.590236Z"
    }
   },
   "outputs": [
    {
     "data": {
      "image/png": "[encoded data removed]",
      "text/plain": [
       "<Figure size 720x288 with 5 Axes>"
      ]
     },
     "metadata": {
      "needs_background": "light"
     },
     "output_type": "display_data"
    }
   ],
   "source": [
    "%matplotlib inline\n",
    "import warnings\n",
    "warnings.filterwarnings(\"ignore\")\n",
    "\n",
    "import matplotlib.pyplot as plt\n",
    "import matplotlib.patches as patches\n",
    "import scipy.stats as stats\n",
    "import numpy as np\n",
    "plt.rcParams['pdf.fonttype'] = 42 #leaves most text as actual text in PDFs, not outlines\n",
    "plt.rc('font',**{'family':'sans-serif','sans-serif':['Helvetica']})\n",
    "\n",
    "plots=[]\n",
    "num_plots_wide = 1\n",
    "num_plots_high = 4\n",
    "fig, plots = plt.subplots(num_plots_high, figsize=(10*num_plots_wide, 1*num_plots_high), sharex=True)\n",
    "\n",
    "positions = np.arange(5200)\n",
    "\n",
    "ends_5p = np.array([float(pBZ147_5p_ends[pos]) for pos in positions])\n",
    "ends_3p = np.array([float(pBZ147_3p_ends[pos]) for pos in positions])\n",
    "\n",
    "plots[0].bar(positions-0.5, ends_5p/sum(ends_5p), color=black, linewidth=0, width=2, align='edge', alpha=1, snap=False, label='fraction 5prime ends')\n",
    "plots[0].set_ylabel(u'fraction\\n5′ ends', fontsize=8)\n",
    "plots[0].set_ylim(0,0.01)\n",
    "\n",
    "plots[1].bar(positions-0.5, ends_3p/sum(ends_3p), color=black, linewidth=0, width=2, align='edge', alpha=1, snap=False, label='fraction 3prime ends')\n",
    "plots[1].set_ylabel(u'fraction\\n3′ ends', fontsize=8)\n",
    "plots[1].set_ylim(0,0.08)\n",
    "\n",
    "\n",
    "coverage = np.array([float(pBZ147_coverage[pos]) for pos in positions])\n",
    "#plots[2].bar(positions-0.5, coverage, color=gray, linewidth=0, width=1, align='edge', alpha=0.5, snap=False, label='fractional coverage')\n",
    "plots[2].fill_between(positions, coverage, color=gray, linewidth=0, alpha=0.5, label='fractional coverage')\n",
    "plots[2].set_ylabel('read\\ncoverage', fontsize=8)\n",
    "plots[2].set_ylim(0,6000)\n",
    "\n",
    "#plots[2].set_yscale('log')\n",
    "\n",
    "ax2 = plots[2].twinx()\n",
    "\n",
    "for intron in pBZ147_normalized_introns.keys():\n",
    "    arc = patches.Arc(((intron[1]+intron[0])/2., 0), intron[1]-intron[0], 2*pBZ147_normalized_introns[intron], linewidth=1)\n",
    "    ax2.add_patch(arc)\n",
    "    \n",
    "ax2.set_ylabel('intron\\nfraction')\n",
    "\n",
    "\n",
    "\n",
    "for plot in plots:\n",
    "    plot.spines[\"top\"].set_visible(False)\n",
    "    plot.spines[\"right\"].set_visible(False)\n",
    "ax2.spines[\"top\"].set_visible(False)\n",
    "ax2.spines[\"right\"].set_visible(False)\n",
    "\n",
    "#draw transcript\n",
    "plots[3].set_ylim(0, 100)\n",
    "transcript_bottom = 50\n",
    "\n",
    "plots[3].plot([136, 4046], [transcript_bottom+15, transcript_bottom+15], color=black)\n",
    "plots[3].add_patch(patches.Rectangle((136, transcript_bottom), (577+1)-(136), 35, facecolor=\"white\", edgecolor = \"black\", zorder=10))\n",
    "plots[3].add_patch(patches.Rectangle((1516, transcript_bottom), (5088+1)-(1516), 35, facecolor=\"white\", edgecolor = \"black\", zorder=10))\n",
    "plots[3].add_patch(patches.Rectangle((1724, transcript_bottom), (2422+1)-(1724), 35, facecolor=blue, edgecolor = \"black\", zorder=10)) \n",
    "plots[3].add_patch(patches.Rectangle((2633, transcript_bottom), 753+684, 35, facecolor=vermillion, edgecolor = \"black\", zorder=10)) \n",
    "#plots[3].add_patch(patches.Rectangle((3386, transcript_bottom), 684, 35, facecolor=vermillion, edgecolor = \"black\", zorder=10, hatch='\\\\\\\\\\\\')) \n",
    "plots[3].plot([1724], [85], marker=7, color=\"green\")\n",
    "plots[3].plot([2536], [85], marker=7, color=\"red\")\n",
    "plots[3].plot([4069], [85], marker=7, color=\"red\")\n",
    "\n",
    "plots[3].spines[\"bottom\"].set_visible(False)\n",
    "plots[3].spines[\"left\"].set_visible(False)\n",
    "plots[3].set_xlabel('AQP4 reporter')\n",
    "plots[3].set_yticks([])\n",
    "plots[3].set_xticks([])\n",
    "\n",
    "plots[3].set_xlim(0, 5100)\n",
    "size_of_scale = 1000\n",
    "plots[3].plot([136, 136+size_of_scale], [40, 40], color=black)\n",
    "plots[3].text(136+(size_of_scale/2),  0, \"{} kbp\".format(size_of_scale/1000), size=9, horizontalalignment='center', verticalalignment='bottom')\n",
    "\n",
    "plt.savefig('pBZ147_AQP4_coverage.pdf', transparent=True)"
   ]
  },
  {
   "cell_type": "markdown",
   "metadata": {},
   "source": [
    "use bedtools to compute genome coverage"
   ]
  },
  {
   "cell_type": "code",
   "execution_count": 12,
   "metadata": {
    "ExecuteTime": {
     "end_time": "2020-11-20T19:05:17.768934Z",
     "start_time": "2020-11-20T19:05:16.900299Z"
    }
   },
   "outputs": [
    {
     "name": "stdout",
     "output_type": "stream",
     "text": [
      "samtools view -u HEK293FT_pBZ105_UGAC.bam \"pBZ105_lenti_tagBF_2A_UGAC_2A_tdTomato\" | bedtools genomecov -ibam stdin -dz -split -strand + | grep pBZ > UGAC_reporter.cov.txt\n"
     ]
    },
    {
     "data": {
      "text/plain": [
       "0"
      ]
     },
     "execution_count": 12,
     "metadata": {},
     "output_type": "execute_result"
    }
   ],
   "source": [
    "import subprocess\n",
    "reference = 'pBZ105_lenti_tagBF_2A_UGAC_2A_tdTomato'\n",
    "bam_file = 'HEK293FT_pBZ105_UGAC.bam'\n",
    "name = 'UGAC_reporter'\n",
    "cmd='samtools view -u {bam_file} \"{reference}\" | bedtools genomecov -ibam stdin -dz -split -strand + | grep pBZ > {name}.cov.txt'.format(**locals())\n",
    "print(cmd)\n",
    "subprocess.Popen(cmd, shell=True).wait()\n",
    "#bedtools genomecov -ibam NA18152.bam -bg -strand + | head"
   ]
  },
  {
   "cell_type": "code",
   "execution_count": 13,
   "metadata": {
    "ExecuteTime": {
     "end_time": "2020-11-20T19:05:18.608523Z",
     "start_time": "2020-11-20T19:05:17.773542Z"
    }
   },
   "outputs": [
    {
     "name": "stdout",
     "output_type": "stream",
     "text": [
      "samtools view -u HEK293FT_pBZ147_AQP4.bam \"pBZ147_lenti_tagBF_2A_AQP4_2A_tdTomato\" | bedtools genomecov -ibam stdin -dz -split -strand + | grep pBZ > AQP4_reporter.cov.txt\n"
     ]
    },
    {
     "data": {
      "text/plain": [
       "0"
      ]
     },
     "execution_count": 13,
     "metadata": {},
     "output_type": "execute_result"
    }
   ],
   "source": [
    "import subprocess\n",
    "reference = 'pBZ147_lenti_tagBF_2A_AQP4_2A_tdTomato'\n",
    "bam_file = 'HEK293FT_pBZ147_AQP4.bam'\n",
    "name = 'AQP4_reporter'\n",
    "cmd='samtools view -u {bam_file} \"{reference}\" | bedtools genomecov -ibam stdin -dz -split -strand + | grep pBZ > {name}.cov.txt'.format(**locals())\n",
    "print(cmd)\n",
    "subprocess.Popen(cmd, shell=True).wait()\n",
    "#bedtools genomecov -ibam NA18152.bam -bg -strand + | head"
   ]
  },
  {
   "cell_type": "code",
   "execution_count": 14,
   "metadata": {
    "ExecuteTime": {
     "end_time": "2020-11-20T19:05:18.661759Z",
     "start_time": "2020-11-20T19:05:18.614675Z"
    }
   },
   "outputs": [],
   "source": [
    "from collections import defaultdict\n",
    "def get_coverage(coverage_file, reference):\n",
    "    coverage_dict = defaultdict(int)\n",
    "    f = open(coverage_file)\n",
    "    for line in f:\n",
    "        chrom, position, coverage = line.strip().split()\n",
    "        if chrom == reference:\n",
    "            coverage_dict[int(position)] = int(coverage)\n",
    "    return coverage_dict\n",
    "pBZ105_coverage = {}\n",
    "name = 'UGAC_reporter'\n",
    "cov_file = '{name}.cov.txt'.format(**locals())\n",
    "pBZ105_coverage[name] = get_coverage(cov_file, 'pBZ105_lenti_tagBF_2A_UGAC_2A_tdTomato')\n",
    "pBZ147_coverage = {}\n",
    "name = 'AQP4_reporter'\n",
    "cov_file = '{name}.cov.txt'.format(**locals())\n",
    "pBZ147_coverage[name] = get_coverage(cov_file, 'pBZ147_lenti_tagBF_2A_AQP4_2A_tdTomato')"
   ]
  },
  {
   "cell_type": "code",
   "execution_count": 15,
   "metadata": {
    "ExecuteTime": {
     "end_time": "2020-11-20T19:05:19.349963Z",
     "start_time": "2020-11-20T19:05:18.664865Z"
    }
   },
   "outputs": [
    {
     "data": {
      "image/png": "[encoded data removed]",
      "text/plain": [
       "<Figure size 720x144 with 3 Axes>"
      ]
     },
     "metadata": {
      "needs_background": "light"
     },
     "output_type": "display_data"
    }
   ],
   "source": [
    "%matplotlib inline\n",
    "import warnings\n",
    "warnings.filterwarnings(\"ignore\")\n",
    "\n",
    "import matplotlib.pyplot as plt\n",
    "import matplotlib.patches as patches\n",
    "import scipy.stats as stats\n",
    "import numpy as np\n",
    "plt.rcParams['pdf.fonttype'] = 42 #leaves most text as actual text in PDFs, not outlines\n",
    "plt.rc('font',**{'family':'sans-serif','sans-serif':['Helvetica']})\n",
    "\n",
    "plots=[]\n",
    "num_plots_wide = 1\n",
    "num_plots_high = 2\n",
    "fig, plots = plt.subplots(num_plots_high, figsize=(10*num_plots_wide, 1*num_plots_high), sharex=True)\n",
    "\n",
    "positions = np.arange(5200)\n",
    "\n",
    "\n",
    "coverage = np.array([float(pBZ105_coverage['UGAC_reporter'][pos]) for pos in positions])\n",
    "#plots[2].bar(positions-0.5, coverage, color=gray, linewidth=0, width=1, align='edge', alpha=0.5, snap=False, label='fractional coverage')\n",
    "plots[0].fill_between(positions, coverage, color=gray, linewidth=0, alpha=0.5, label='fractional coverage')\n",
    "plots[0].set_ylabel('read\\ncoverage', fontsize=8)\n",
    "plots[0].set_ylim(0,6000)\n",
    "\n",
    "#plots[2].set_yscale('log')\n",
    "\n",
    "ax2 = plots[0].twinx()\n",
    "\n",
    "for intron in pBZ105_normalized_introns.keys():\n",
    "    arc = patches.Arc(((intron[1]+intron[0])/2., 0), intron[1]-intron[0], 2*pBZ105_normalized_introns[intron], linewidth=1)\n",
    "    ax2.add_patch(arc)\n",
    "    \n",
    "ax2.set_ylabel('intron\\nfraction')\n",
    "\n",
    "for plot in plots:\n",
    "    plot.spines[\"top\"].set_visible(False)\n",
    "    plot.spines[\"right\"].set_visible(False)\n",
    "ax2.spines[\"top\"].set_visible(False)\n",
    "ax2.spines[\"right\"].set_visible(False)\n",
    "\n",
    "#draw transcript\n",
    "plots[1].set_ylim(0, 100)\n",
    "transcript_bottom = 50\n",
    "\n",
    "plots[1].plot([136, 4046], [transcript_bottom+15, transcript_bottom+15], color=black)\n",
    "plots[1].add_patch(patches.Rectangle((136, transcript_bottom), (577+1)-(136), 35, facecolor=\"white\", edgecolor = \"black\", zorder=10))\n",
    "plots[1].add_patch(patches.Rectangle((1516, transcript_bottom), (5064+1)-(1516), 35, facecolor=\"white\", edgecolor = \"black\", zorder=10))\n",
    "plots[1].add_patch(patches.Rectangle((1724, transcript_bottom), (2422+1)-(1724), 35, facecolor=blue, edgecolor = \"black\", zorder=10)) \n",
    "plots[1].add_patch(patches.Rectangle((2609, transcript_bottom), 753+684, 35, facecolor=vermillion, edgecolor = \"black\", zorder=10)) \n",
    "#plots[3].add_patch(patches.Rectangle((3362, transcript_bottom), 684, 35, facecolor=vermillion, edgecolor = \"black\", zorder=10, hatch='\\\\\\\\\\\\')) \n",
    "plots[1].plot([1724], [85], marker=7, color=\"green\")\n",
    "plots[1].plot([2521], [85], marker=7, color=\"red\")\n",
    "plots[1].plot([4045], [85], marker=7, color=\"red\")\n",
    "\n",
    "\n",
    "plots[1].spines[\"bottom\"].set_visible(False)\n",
    "plots[1].spines[\"left\"].set_visible(False)\n",
    "plots[1].set_xlabel('UGAC reporter')\n",
    "plots[1].set_yticks([])\n",
    "plots[1].set_xticks([])\n",
    "\n",
    "plots[1].set_xlim(0, 5100)\n",
    "size_of_scale = 1000\n",
    "plots[1].plot([136, 136+size_of_scale], [40, 40], color=black)\n",
    "plots[1].text(136+(size_of_scale/2),  0, \"{} kbp\".format(size_of_scale/1000), size=9, horizontalalignment='center', verticalalignment='bottom')\n",
    "\n",
    "plt.savefig('pBZ105_UGAC_coverage2.pdf', transparent=True)"
   ]
  },
  {
   "cell_type": "code",
   "execution_count": 16,
   "metadata": {
    "ExecuteTime": {
     "end_time": "2020-11-20T19:05:19.994789Z",
     "start_time": "2020-11-20T19:05:19.353553Z"
    }
   },
   "outputs": [
    {
     "data": {
      "image/png": "[encoded data removed]",
      "text/plain": [
       "<Figure size 720x144 with 3 Axes>"
      ]
     },
     "metadata": {
      "needs_background": "light"
     },
     "output_type": "display_data"
    }
   ],
   "source": [
    "%matplotlib inline\n",
    "import warnings\n",
    "warnings.filterwarnings(\"ignore\")\n",
    "\n",
    "import matplotlib.pyplot as plt\n",
    "import matplotlib.patches as patches\n",
    "import scipy.stats as stats\n",
    "import numpy as np\n",
    "plt.rcParams['pdf.fonttype'] = 42 #leaves most text as actual text in PDFs, not outlines\n",
    "plt.rc('font',**{'family':'sans-serif','sans-serif':['Helvetica']})\n",
    "\n",
    "plots=[]\n",
    "num_plots_wide = 1\n",
    "num_plots_high = 2\n",
    "fig, plots = plt.subplots(num_plots_high, figsize=(10*num_plots_wide, 1*num_plots_high), sharex=True)\n",
    "\n",
    "positions = np.arange(5200)\n",
    "\n",
    "\n",
    "coverage = np.array([float(pBZ147_coverage['AQP4_reporter'][pos]) for pos in positions])\n",
    "#plots[2].bar(positions-0.5, coverage, color=gray, linewidth=0, width=1, align='edge', alpha=0.5, snap=False, label='fractional coverage')\n",
    "plots[0].fill_between(positions, coverage, color=gray, linewidth=0, alpha=0.5, label='fractional coverage')\n",
    "plots[0].set_ylabel('read\\ncoverage', fontsize=8)\n",
    "plots[0].set_ylim(0,6000)\n",
    "\n",
    "#plots[2].set_yscale('log')\n",
    "\n",
    "ax2 = plots[0].twinx()\n",
    "\n",
    "for intron in pBZ147_normalized_introns.keys():\n",
    "    arc = patches.Arc(((intron[1]+intron[0])/2., 0), intron[1]-intron[0], 2*pBZ147_normalized_introns[intron], linewidth=1)\n",
    "    ax2.add_patch(arc)\n",
    "    \n",
    "ax2.set_ylabel('intron\\nfraction')\n",
    "\n",
    "for plot in plots:\n",
    "    plot.spines[\"top\"].set_visible(False)\n",
    "    plot.spines[\"right\"].set_visible(False)\n",
    "ax2.spines[\"top\"].set_visible(False)\n",
    "ax2.spines[\"right\"].set_visible(False)\n",
    "\n",
    "#draw transcript\n",
    "plots[1].set_ylim(0, 100)\n",
    "transcript_bottom = 50\n",
    "\n",
    "plots[1].plot([136, 4046], [transcript_bottom+15, transcript_bottom+15], color=black)\n",
    "plots[1].add_patch(patches.Rectangle((136, transcript_bottom), (577+1)-(136), 35, facecolor=\"white\", edgecolor = \"black\", zorder=10))\n",
    "plots[1].add_patch(patches.Rectangle((1516, transcript_bottom), (5064+1)-(1516), 35, facecolor=\"white\", edgecolor = \"black\", zorder=10))\n",
    "plots[1].add_patch(patches.Rectangle((1724, transcript_bottom), (2422+1)-(1724), 35, facecolor=blue, edgecolor = \"black\", zorder=10)) \n",
    "plots[1].add_patch(patches.Rectangle((2609, transcript_bottom), 753+684, 35, facecolor=vermillion, edgecolor = \"black\", zorder=10)) \n",
    "#plots[3].add_patch(patches.Rectangle((3362, transcript_bottom), 684, 35, facecolor=vermillion, edgecolor = \"black\", zorder=10, hatch='\\\\\\\\\\\\')) \n",
    "plots[1].plot([1724], [85], marker=7, color=\"green\")\n",
    "plots[1].plot([2521], [85], marker=7, color=\"red\")\n",
    "plots[1].plot([4045], [85], marker=7, color=\"red\")\n",
    "\n",
    "\n",
    "plots[1].spines[\"bottom\"].set_visible(False)\n",
    "plots[1].spines[\"left\"].set_visible(False)\n",
    "plots[1].set_xlabel('AQP4 reporter')\n",
    "plots[1].set_yticks([])\n",
    "plots[1].set_xticks([])\n",
    "\n",
    "plots[1].set_xlim(0, 5100)\n",
    "size_of_scale = 1000\n",
    "plots[1].plot([136, 136+size_of_scale], [40, 40], color=black)\n",
    "plots[1].text(136+(size_of_scale/2),  0, \"{} kbp\".format(size_of_scale/1000), size=9, horizontalalignment='center', verticalalignment='bottom')\n",
    "\n",
    "plt.savefig('pBZ147_AQP4_coverage2.pdf', transparent=True)"
   ]
  },
  {
   "cell_type": "code",
   "execution_count": null,
   "metadata": {},
   "outputs": [],
   "source": []
  }
 ],
 "metadata": {
  "kernelspec": {
   "display_name": "Python 2",
   "language": "python",
   "name": "python2"
  },
  "language_info": {
   "codemirror_mode": {
    "name": "ipython",
    "version": 2
   },
   "file_extension": ".py",
   "mimetype": "text/x-python",
   "name": "python",
   "nbconvert_exporter": "python",
   "pygments_lexer": "ipython2",
   "version": "2.7.12"
  }
 },
 "nbformat": 4,
 "nbformat_minor": 2
}
