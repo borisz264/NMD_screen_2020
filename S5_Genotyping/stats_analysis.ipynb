{
 "cells": [
  {
   "cell_type": "markdown",
   "metadata": {},
   "source": [
    "Run indel calculation\n",
    "    * Most of this code is written by Syed Usman Enam"
   ]
  },
  {
   "cell_type": "code",
   "execution_count": 1,
   "metadata": {
    "ExecuteTime": {
     "end_time": "2020-11-11T16:35:43.755516Z",
     "start_time": "2020-11-11T16:32:50.336823Z"
    }
   },
   "outputs": [
    {
     "name": "stdout",
     "output_type": "stream",
     "text": [
      "Reading input sheet from eIF4E2_sample_sheet.csv\n",
      "Applying MLE correction\n"
     ]
    }
   ],
   "source": [
    "!python calculate_indel_edited_sue.py -i eIF4E2_sample_sheet.csv\n",
    "!mv stats_﻿cBZ056_K562_UGAC_CRISPRx stats_cBZ056_K562_UGAC_CRISPRx_eIF4E2"
   ]
  },
  {
   "cell_type": "code",
   "execution_count": 2,
   "metadata": {
    "ExecuteTime": {
     "end_time": "2020-11-11T16:38:45.700436Z",
     "start_time": "2020-11-11T16:35:43.763683Z"
    }
   },
   "outputs": [
    {
     "name": "stdout",
     "output_type": "stream",
     "text": [
      "Reading input sheet from GIGYF2_sample_sheet.csv\n",
      "Applying MLE correction\n"
     ]
    }
   ],
   "source": [
    "!python calculate_indel_edited_sue.py -i GIGYF2_sample_sheet.csv\n",
    "!mv stats_﻿cBZ056_K562_UGAC_CRISPRx stats_cBZ056_K562_UGAC_CRISPRx_GIGYF2"
   ]
  },
  {
   "cell_type": "code",
   "execution_count": 3,
   "metadata": {
    "ExecuteTime": {
     "end_time": "2020-11-11T16:38:46.004697Z",
     "start_time": "2020-11-11T16:38:45.707266Z"
    }
   },
   "outputs": [],
   "source": [
    "from collections import Counter\n",
    "import matplotlib.pyplot as plt\n",
    "import numpy as np"
   ]
  },
  {
   "cell_type": "code",
   "execution_count": 4,
   "metadata": {
    "ExecuteTime": {
     "end_time": "2020-11-11T16:38:46.012515Z",
     "start_time": "2020-11-11T16:38:46.007536Z"
    }
   },
   "outputs": [],
   "source": [
    "frame_dict_eIF4E2 = {\"Cell_line\":[], \"No_indels\":[], \"In_frame\":[], \"+1\":[], \"+2\":[], \"Total\":[], \"No_indel_frac\":[], \"In_frame_frac\":[], \"Out-of-frame_frac\":[]}\n",
    "frame_dict_GIGYF2 = {\"Cell_line\":[], \"No_indels\":[], \"In_frame\":[], \"+1\":[], \"+2\":[], \"Total\":[], \"No_indel_frac\":[], \"In_frame_frac\":[], \"Out-of-frame_frac\":[]}"
   ]
  },
  {
   "cell_type": "code",
   "execution_count": 5,
   "metadata": {
    "ExecuteTime": {
     "end_time": "2020-11-11T16:38:46.030059Z",
     "start_time": "2020-11-11T16:38:46.016916Z"
    }
   },
   "outputs": [],
   "source": [
    "f = open(\"stats_cBZ056_K562_UGAC_CRISPRx_eIF4E2\", 'r' )\n",
    "f_readlines = f.readlines()\n",
    "\n",
    "hist_list = []\n",
    "for line in f_readlines[:-4]:\n",
    "    value = int(line.strip())\n",
    "    hist_list.append(value)\n",
    "perf_total = int(f_readlines[-4].strip().split(\" \")[1])\n",
    "indel_total = int(f_readlines[-3].strip().split(\" \")[1])\n",
    "miscall_total = int(f_readlines[-2].strip().split(\" \")[1])\n",
    "replace_total = int(f_readlines[-1].strip().split(\" \")[1])\n",
    "total_reads = perf_total + indel_total + miscall_total + replace_total\n",
    "hist_count = Counter(hist_list)\n",
    "keys = hist_count.keys()\n",
    "indel_size = [(x*-1) for x in keys]\n",
    "indel_frame = [(x%3) for x in hist_list]"
   ]
  },
  {
   "cell_type": "code",
   "execution_count": 6,
   "metadata": {
    "ExecuteTime": {
     "end_time": "2020-11-11T16:38:46.147626Z",
     "start_time": "2020-11-11T16:38:46.033913Z"
    },
    "scrolled": true
   },
   "outputs": [
    {
     "data": {
      "image/png": "[encoded data removed]",
      "text/plain": [
       "<Figure size 432x288 with 1 Axes>"
      ]
     },
     "metadata": {
      "needs_background": "light"
     },
     "output_type": "display_data"
    },
    {
     "name": "stdout",
     "output_type": "stream",
     "text": [
      "[5, 7, 3, 28, 1, 1, 1, 17, 12, 1, 7, 1, 1, 1, 1, 2, 7, 2, 6]\n"
     ]
    }
   ],
   "source": [
    "cBZ056 = plt.bar(indel_size, hist_count.values())\n",
    "plt.xlabel('Indel')\n",
    "plt.ylabel('Number of reads')\n",
    "plt.title('cBZ056 indels')\n",
    "plt.show()\n",
    "print(hist_count.values())\n"
   ]
  },
  {
   "cell_type": "code",
   "execution_count": 7,
   "metadata": {
    "ExecuteTime": {
     "end_time": "2020-11-11T16:38:46.243908Z",
     "start_time": "2020-11-11T16:38:46.150061Z"
    }
   },
   "outputs": [
    {
     "data": {
      "text/plain": [
       "Text(0.5,1,'cBZ056 indel frame')"
      ]
     },
     "execution_count": 7,
     "metadata": {},
     "output_type": "execute_result"
    },
    {
     "data": {
      "image/png": "[encoded data removed]",
      "text/plain": [
       "<Figure size 432x288 with 1 Axes>"
      ]
     },
     "metadata": {
      "needs_background": "light"
     },
     "output_type": "display_data"
    }
   ],
   "source": [
    "indel_frame = [(x%3) for x in hist_list]\n",
    "frame_count = Counter(indel_frame)\n",
    "plt.bar(frame_count.keys(), frame_count.values(), 1)\n",
    "plt.xticks(np.arange(0, 3, 1))\n",
    "plt.xlabel(\"indel frame\")\n",
    "plt.ylabel(\"reads\")\n",
    "plt.title(\"cBZ056 indel frame\")"
   ]
  },
  {
   "cell_type": "code",
   "execution_count": 8,
   "metadata": {
    "ExecuteTime": {
     "end_time": "2020-11-11T16:38:46.256512Z",
     "start_time": "2020-11-11T16:38:46.247950Z"
    }
   },
   "outputs": [],
   "source": [
    "frame_dict_eIF4E2[\"Cell_line\"].append(\"cBZ056\")\n",
    "# no_indel_reads = 0\n",
    "# for x in range(len(indel_size)):\n",
    "#     if indel_size[x] == 0:\n",
    "#         no_indel_reads = hist_count.values()[x]\n",
    "frame_dict_eIF4E2[\"No_indels\"].append(perf_total + miscall_total)\n",
    "frame_dict_eIF4E2[\"In_frame\"].append(frame_count[0] + replace_total)\n",
    "frame_dict_eIF4E2[\"+1\"].append(frame_count[1])\n",
    "frame_dict_eIF4E2[\"+2\"].append(frame_count[2])\n",
    "frame_dict_eIF4E2[\"Total\"].append(total_reads)\n",
    "frame_dict_eIF4E2[\"No_indel_frac\"].append(float(perf_total + miscall_total)/total_reads)\n",
    "frame_dict_eIF4E2[\"In_frame_frac\"].append(float(frame_count[0] + replace_total)/total_reads)\n",
    "frame_dict_eIF4E2[\"Out-of-frame_frac\"].append(float(frame_count[1] + frame_count[2])/total_reads)"
   ]
  },
  {
   "cell_type": "markdown",
   "metadata": {},
   "source": [
    "# --------------------------------"
   ]
  },
  {
   "cell_type": "code",
   "execution_count": 9,
   "metadata": {
    "ExecuteTime": {
     "end_time": "2020-11-11T16:38:46.272455Z",
     "start_time": "2020-11-11T16:38:46.260609Z"
    }
   },
   "outputs": [],
   "source": [
    "f = open(\"stats_cBZ082_UGAC_eIF4E2_sorted\", 'r' )\n",
    "f_readlines = f.readlines()\n",
    "\n",
    "hist_list = []\n",
    "for line in f_readlines[:-4]:\n",
    "    value = int(line.strip())\n",
    "    hist_list.append(value)\n",
    "perf_total = int(f_readlines[-4].strip().split(\" \")[1])\n",
    "indel_total = int(f_readlines[-3].strip().split(\" \")[1])\n",
    "miscall_total = int(f_readlines[-2].strip().split(\" \")[1])\n",
    "replace_total = int(f_readlines[-1].strip().split(\" \")[1])\n",
    "total_reads = perf_total + indel_total + miscall_total + replace_total\n",
    "hist_count = Counter(hist_list)\n",
    "keys = hist_count.keys()\n",
    "indel_size = [(x*-1) for x in keys]\n",
    "indel_frame = [(x%3) for x in hist_list]"
   ]
  },
  {
   "cell_type": "code",
   "execution_count": 10,
   "metadata": {
    "ExecuteTime": {
     "end_time": "2020-11-11T16:38:46.411778Z",
     "start_time": "2020-11-11T16:38:46.276051Z"
    }
   },
   "outputs": [
    {
     "data": {
      "image/png": "[encoded data removed]",
      "text/plain": [
       "<Figure size 432x288 with 1 Axes>"
      ]
     },
     "metadata": {
      "needs_background": "light"
     },
     "output_type": "display_data"
    },
    {
     "name": "stdout",
     "output_type": "stream",
     "text": [
      "[46, 103, 16, 2, 1, 6, 2, 1, 3, 2, 4, 1, 2, 13, 2, 1, 1, 1, 5, 4, 1, 1, 1, 1, 1, 38, 51, 3, 114, 9, 1, 12, 4, 1, 1, 1, 1, 1, 1, 233, 1, 1, 2, 1, 2, 1, 1, 1, 2, 1, 1, 116, 2, 47, 1, 39, 1, 2, 4, 3, 5]\n"
     ]
    }
   ],
   "source": [
    "cBZ082 = plt.bar(indel_size, hist_count.values())\n",
    "plt.xlabel('Indel')\n",
    "plt.ylabel('Number of reads')\n",
    "plt.title('cBZ082 indels')\n",
    "plt.show()\n",
    "print(hist_count.values())"
   ]
  },
  {
   "cell_type": "code",
   "execution_count": 11,
   "metadata": {
    "ExecuteTime": {
     "end_time": "2020-11-11T16:38:46.501182Z",
     "start_time": "2020-11-11T16:38:46.415085Z"
    }
   },
   "outputs": [
    {
     "data": {
      "text/plain": [
       "Text(0.5,1,'cBZ082 indel frame')"
      ]
     },
     "execution_count": 11,
     "metadata": {},
     "output_type": "execute_result"
    },
    {
     "data": {
      "image/png": "[encoded data removed]",
      "text/plain": [
       "<Figure size 432x288 with 1 Axes>"
      ]
     },
     "metadata": {
      "needs_background": "light"
     },
     "output_type": "display_data"
    }
   ],
   "source": [
    "indel_frame = [(x%3) for x in hist_list]\n",
    "frame_count = Counter(indel_frame)\n",
    "plt.bar(frame_count.keys(), frame_count.values(), 1)\n",
    "plt.xticks(np.arange(0, 3, 1))\n",
    "plt.xlabel(\"indel frame\")\n",
    "plt.ylabel(\"reads\")\n",
    "plt.title(\"cBZ082 indel frame\")"
   ]
  },
  {
   "cell_type": "code",
   "execution_count": 12,
   "metadata": {
    "ExecuteTime": {
     "end_time": "2020-11-11T16:38:46.511426Z",
     "start_time": "2020-11-11T16:38:46.504750Z"
    }
   },
   "outputs": [],
   "source": [
    "frame_dict_eIF4E2[\"Cell_line\"].append(\"cBZ082\")\n",
    "# no_indel_reads = 0\n",
    "# for x in range(len(indel_size)):\n",
    "#     if indel_size[x] == 0:\n",
    "#         no_indel_reads = hist_count.values()[x]\n",
    "frame_dict_eIF4E2[\"No_indels\"].append(perf_total + miscall_total)\n",
    "frame_dict_eIF4E2[\"In_frame\"].append(frame_count[0] + replace_total)\n",
    "frame_dict_eIF4E2[\"+1\"].append(frame_count[1])\n",
    "frame_dict_eIF4E2[\"+2\"].append(frame_count[2])\n",
    "frame_dict_eIF4E2[\"Total\"].append(total_reads)\n",
    "frame_dict_eIF4E2[\"No_indel_frac\"].append(float(perf_total + miscall_total)/total_reads)\n",
    "frame_dict_eIF4E2[\"In_frame_frac\"].append(float(frame_count[0] + replace_total)/total_reads)\n",
    "frame_dict_eIF4E2[\"Out-of-frame_frac\"].append(float(frame_count[1] + frame_count[2])/total_reads)"
   ]
  },
  {
   "cell_type": "markdown",
   "metadata": {},
   "source": [
    "# --------------------------------"
   ]
  },
  {
   "cell_type": "code",
   "execution_count": 13,
   "metadata": {
    "ExecuteTime": {
     "end_time": "2020-11-11T16:38:46.523388Z",
     "start_time": "2020-11-11T16:38:46.514898Z"
    }
   },
   "outputs": [],
   "source": [
    "f = open(\"stats_cBZ090_eIF4E2-4\", 'r' )\n",
    "f_readlines = f.readlines()\n",
    "\n",
    "hist_list = []\n",
    "for line in f_readlines[:-4]:\n",
    "    value = int(line.strip())\n",
    "    hist_list.append(value)\n",
    "perf_total = int(f_readlines[-4].strip().split(\" \")[1])\n",
    "indel_total = int(f_readlines[-3].strip().split(\" \")[1])\n",
    "miscall_total = int(f_readlines[-2].strip().split(\" \")[1])\n",
    "replace_total = int(f_readlines[-1].strip().split(\" \")[1])\n",
    "total_reads = perf_total + indel_total + miscall_total + replace_total\n",
    "hist_count = Counter(hist_list)\n",
    "keys = hist_count.keys()\n",
    "indel_size = [(x*-1) for x in keys]\n",
    "indel_frame = [(x%3) for x in hist_list]"
   ]
  },
  {
   "cell_type": "code",
   "execution_count": 14,
   "metadata": {
    "ExecuteTime": {
     "end_time": "2020-11-11T16:38:46.645405Z",
     "start_time": "2020-11-11T16:38:46.527525Z"
    }
   },
   "outputs": [
    {
     "data": {
      "image/png": "[encoded data removed]",
      "text/plain": [
       "<Figure size 432x288 with 1 Axes>"
      ]
     },
     "metadata": {
      "needs_background": "light"
     },
     "output_type": "display_data"
    },
    {
     "name": "stdout",
     "output_type": "stream",
     "text": [
      "[1, 3, 2, 1, 3, 4, 5, 1, 1, 2, 5]\n"
     ]
    }
   ],
   "source": [
    "cBZ090 = plt.bar(indel_size, hist_count.values())\n",
    "plt.xlabel('Indel')\n",
    "plt.ylabel('Number of reads')\n",
    "plt.title('cBZ090 indels')\n",
    "plt.show()\n",
    "print(hist_count.values())"
   ]
  },
  {
   "cell_type": "code",
   "execution_count": 15,
   "metadata": {
    "ExecuteTime": {
     "end_time": "2020-11-11T16:38:46.751451Z",
     "start_time": "2020-11-11T16:38:46.648841Z"
    }
   },
   "outputs": [
    {
     "data": {
      "text/plain": [
       "Text(0.5,1,'cBZ090 indel frame')"
      ]
     },
     "execution_count": 15,
     "metadata": {},
     "output_type": "execute_result"
    },
    {
     "data": {
      "image/png": "[encoded data removed]",
      "text/plain": [
       "<Figure size 432x288 with 1 Axes>"
      ]
     },
     "metadata": {
      "needs_background": "light"
     },
     "output_type": "display_data"
    }
   ],
   "source": [
    "indel_frame = [(x%3) for x in hist_list]\n",
    "frame_count = Counter(indel_frame)\n",
    "plt.bar(frame_count.keys(), frame_count.values(), 1)\n",
    "plt.xticks(np.arange(0, 3, 1))\n",
    "plt.xlabel(\"indel frame\")\n",
    "plt.ylabel(\"reads\")\n",
    "plt.title(\"cBZ090 indel frame\")"
   ]
  },
  {
   "cell_type": "code",
   "execution_count": 16,
   "metadata": {
    "ExecuteTime": {
     "end_time": "2020-11-11T16:38:46.761359Z",
     "start_time": "2020-11-11T16:38:46.754844Z"
    }
   },
   "outputs": [],
   "source": [
    "frame_dict_eIF4E2[\"Cell_line\"].append(\"cBZ090\")\n",
    "# no_indel_reads = 0\n",
    "# for x in range(len(indel_size)):\n",
    "#     if indel_size[x] == 0:\n",
    "#         no_indel_reads = hist_count.values()[x]\n",
    "frame_dict_eIF4E2[\"No_indels\"].append(perf_total + miscall_total)\n",
    "frame_dict_eIF4E2[\"In_frame\"].append(frame_count[0] + replace_total)\n",
    "frame_dict_eIF4E2[\"+1\"].append(frame_count[1])\n",
    "frame_dict_eIF4E2[\"+2\"].append(frame_count[2])\n",
    "frame_dict_eIF4E2[\"Total\"].append(total_reads)\n",
    "frame_dict_eIF4E2[\"No_indel_frac\"].append(float(perf_total + miscall_total)/total_reads)\n",
    "frame_dict_eIF4E2[\"In_frame_frac\"].append(float(frame_count[0] + replace_total)/total_reads)\n",
    "frame_dict_eIF4E2[\"Out-of-frame_frac\"].append(float(frame_count[1] + frame_count[2])/total_reads)"
   ]
  },
  {
   "cell_type": "markdown",
   "metadata": {},
   "source": [
    "# --------------------------------"
   ]
  },
  {
   "cell_type": "code",
   "execution_count": 17,
   "metadata": {
    "ExecuteTime": {
     "end_time": "2020-11-11T16:38:46.777501Z",
     "start_time": "2020-11-11T16:38:46.765474Z"
    }
   },
   "outputs": [],
   "source": [
    "f = open(\"stats_cBZ091_eIF4E2-5\", 'r' )\n",
    "f_readlines = f.readlines()\n",
    "\n",
    "hist_list = []\n",
    "for line in f_readlines[:-4]:\n",
    "    value = int(line.strip())\n",
    "    hist_list.append(value)\n",
    "perf_total = int(f_readlines[-4].strip().split(\" \")[1])\n",
    "indel_total = int(f_readlines[-3].strip().split(\" \")[1])\n",
    "miscall_total = int(f_readlines[-2].strip().split(\" \")[1])\n",
    "replace_total = int(f_readlines[-1].strip().split(\" \")[1])\n",
    "total_reads = perf_total + indel_total + miscall_total + replace_total\n",
    "hist_count = Counter(hist_list)\n",
    "keys = hist_count.keys()\n",
    "indel_size = [(x*-1) for x in keys]\n",
    "indel_frame = [(x%3) for x in hist_list]"
   ]
  },
  {
   "cell_type": "code",
   "execution_count": 18,
   "metadata": {
    "ExecuteTime": {
     "end_time": "2020-11-11T16:38:46.910514Z",
     "start_time": "2020-11-11T16:38:46.780172Z"
    }
   },
   "outputs": [
    {
     "data": {
      "image/png": "[encoded data removed]",
      "text/plain": [
       "<Figure size 432x288 with 1 Axes>"
      ]
     },
     "metadata": {
      "needs_background": "light"
     },
     "output_type": "display_data"
    },
    {
     "name": "stdout",
     "output_type": "stream",
     "text": [
      "[1, 5, 1, 1, 2, 1, 3, 1, 6, 1, 1, 7, 3, 8, 1, 1, 1, 1, 14]\n"
     ]
    }
   ],
   "source": [
    "cBZ091 = plt.bar(indel_size, hist_count.values())\n",
    "plt.xlabel('Indel')\n",
    "plt.ylabel('Number of reads')\n",
    "plt.title('cBZ091 indels')\n",
    "plt.show()\n",
    "print(hist_count.values())"
   ]
  },
  {
   "cell_type": "code",
   "execution_count": 19,
   "metadata": {
    "ExecuteTime": {
     "end_time": "2020-11-11T16:38:47.015840Z",
     "start_time": "2020-11-11T16:38:46.914123Z"
    }
   },
   "outputs": [
    {
     "data": {
      "text/plain": [
       "Text(0.5,1,'cBZ091 indel frame')"
      ]
     },
     "execution_count": 19,
     "metadata": {},
     "output_type": "execute_result"
    },
    {
     "data": {
      "image/png": "[encoded data removed]",
      "text/plain": [
       "<Figure size 432x288 with 1 Axes>"
      ]
     },
     "metadata": {
      "needs_background": "light"
     },
     "output_type": "display_data"
    }
   ],
   "source": [
    "indel_frame = [(x%3) for x in hist_list]\n",
    "frame_count = Counter(indel_frame)\n",
    "plt.bar(frame_count.keys(), frame_count.values(), 1)\n",
    "plt.xticks(np.arange(0, 3, 1))\n",
    "plt.xlabel(\"indel frame\")\n",
    "plt.ylabel(\"reads\")\n",
    "plt.title(\"cBZ091 indel frame\")"
   ]
  },
  {
   "cell_type": "code",
   "execution_count": 20,
   "metadata": {
    "ExecuteTime": {
     "end_time": "2020-11-11T16:38:47.024110Z",
     "start_time": "2020-11-11T16:38:47.019397Z"
    }
   },
   "outputs": [],
   "source": [
    "# in_frame_indels = []\n",
    "# for x in hist_list:\n",
    "#     if x%3 == 0:\n",
    "#         in_frame_indels.append(x)\n",
    "# in_frame_indel_count = Counter(in_frame_indels)\n",
    "# indel_keys = in_frame_indel_count.keys()\n",
    "# in_frame_indel_size = [(x*-1) for x in indel_keys]\n",
    "# plt.bar(in_frame_indel_size, in_frame_indel_count.values())\n",
    "# plt.xlabel(\"indel size\")\n",
    "# plt.ylabel(\"reads\")\n",
    "# plt.title(\"size of indels that are in frame in cBZ082\")\n",
    "# print(in_frame_indel_count)"
   ]
  },
  {
   "cell_type": "code",
   "execution_count": 21,
   "metadata": {
    "ExecuteTime": {
     "end_time": "2020-11-11T16:38:47.034252Z",
     "start_time": "2020-11-11T16:38:47.027608Z"
    }
   },
   "outputs": [],
   "source": [
    "frame_dict_eIF4E2[\"Cell_line\"].append(\"cBZ091\")\n",
    "# no_indel_reads = 0\n",
    "# for x in range(len(indel_size)):\n",
    "#     if indel_size[x] == 0:\n",
    "#         no_indel_reads = hist_count.values()[x]\n",
    "frame_dict_eIF4E2[\"No_indels\"].append(perf_total + miscall_total)\n",
    "frame_dict_eIF4E2[\"In_frame\"].append(frame_count[0] + replace_total)\n",
    "frame_dict_eIF4E2[\"+1\"].append(frame_count[1])\n",
    "frame_dict_eIF4E2[\"+2\"].append(frame_count[2])\n",
    "frame_dict_eIF4E2[\"Total\"].append(total_reads)\n",
    "frame_dict_eIF4E2[\"No_indel_frac\"].append(float(perf_total + miscall_total)/total_reads)\n",
    "frame_dict_eIF4E2[\"In_frame_frac\"].append(float(frame_count[0] + replace_total)/total_reads)\n",
    "frame_dict_eIF4E2[\"Out-of-frame_frac\"].append(float(frame_count[1] + frame_count[2])/total_reads)"
   ]
  },
  {
   "cell_type": "markdown",
   "metadata": {},
   "source": [
    "# --------------------------------"
   ]
  },
  {
   "cell_type": "code",
   "execution_count": 22,
   "metadata": {
    "ExecuteTime": {
     "end_time": "2020-11-11T16:38:47.048589Z",
     "start_time": "2020-11-11T16:38:47.037547Z"
    }
   },
   "outputs": [],
   "source": [
    "f = open(\"stats_cBZ056_K562_UGAC_CRISPRx_GIGYF2\", 'r' )\n",
    "f_readlines = f.readlines()\n",
    "\n",
    "hist_list = []\n",
    "for line in f_readlines[:-4]:\n",
    "    value = int(line.strip())\n",
    "    hist_list.append(value)\n",
    "perf_total = int(f_readlines[-4].strip().split(\" \")[1])\n",
    "indel_total = int(f_readlines[-3].strip().split(\" \")[1])\n",
    "miscall_total = int(f_readlines[-2].strip().split(\" \")[1])\n",
    "replace_total = int(f_readlines[-1].strip().split(\" \")[1])\n",
    "total_reads = perf_total + indel_total + miscall_total + replace_total\n",
    "hist_count = Counter(hist_list)\n",
    "keys = hist_count.keys()\n",
    "indel_size = [(x*-1) for x in keys]\n",
    "indel_frame = [(x%3) for x in hist_list]"
   ]
  },
  {
   "cell_type": "code",
   "execution_count": 23,
   "metadata": {
    "ExecuteTime": {
     "end_time": "2020-11-11T16:38:47.165045Z",
     "start_time": "2020-11-11T16:38:47.052227Z"
    }
   },
   "outputs": [
    {
     "data": {
      "image/png": "[encoded data removed]",
      "text/plain": [
       "<Figure size 432x288 with 1 Axes>"
      ]
     },
     "metadata": {
      "needs_background": "light"
     },
     "output_type": "display_data"
    },
    {
     "name": "stdout",
     "output_type": "stream",
     "text": [
      "[2, 4, 1, 1, 1, 3, 2, 1, 5, 1, 2, 2, 5, 2, 2, 8]\n"
     ]
    }
   ],
   "source": [
    "cBZ056 = plt.bar(indel_size, hist_count.values())\n",
    "plt.xlabel('Indel')\n",
    "plt.ylabel('Number of reads')\n",
    "plt.title('cBZ056 indels')\n",
    "plt.show()\n",
    "print(hist_count.values())"
   ]
  },
  {
   "cell_type": "code",
   "execution_count": 24,
   "metadata": {
    "ExecuteTime": {
     "end_time": "2020-11-11T16:38:47.255548Z",
     "start_time": "2020-11-11T16:38:47.168386Z"
    }
   },
   "outputs": [
    {
     "data": {
      "text/plain": [
       "Text(0.5,1,'cBZ056 indel frame')"
      ]
     },
     "execution_count": 24,
     "metadata": {},
     "output_type": "execute_result"
    },
    {
     "data": {
      "image/png": "[encoded data removed]",
      "text/plain": [
       "<Figure size 432x288 with 1 Axes>"
      ]
     },
     "metadata": {
      "needs_background": "light"
     },
     "output_type": "display_data"
    }
   ],
   "source": [
    "indel_frame = [(x%3) for x in hist_list]\n",
    "frame_count = Counter(indel_frame)\n",
    "plt.bar(frame_count.keys(), frame_count.values(), 1)\n",
    "plt.xticks(np.arange(0, 3, 1))\n",
    "plt.xlabel(\"indel frame\")\n",
    "plt.ylabel(\"reads\")\n",
    "plt.title(\"cBZ056 indel frame\")"
   ]
  },
  {
   "cell_type": "code",
   "execution_count": 25,
   "metadata": {
    "ExecuteTime": {
     "end_time": "2020-11-11T16:38:47.267927Z",
     "start_time": "2020-11-11T16:38:47.259526Z"
    }
   },
   "outputs": [],
   "source": [
    "frame_dict_GIGYF2[\"Cell_line\"].append(\"cBZ056\")\n",
    "# no_indel_reads = 0\n",
    "# for x in range(len(indel_size)):\n",
    "#     if indel_size[x] == 0:\n",
    "#         no_indel_reads = hist_count.values()[x]\n",
    "frame_dict_GIGYF2[\"No_indels\"].append(perf_total + miscall_total)\n",
    "frame_dict_GIGYF2[\"In_frame\"].append(frame_count[0] + replace_total)\n",
    "frame_dict_GIGYF2[\"+1\"].append(frame_count[1])\n",
    "frame_dict_GIGYF2[\"+2\"].append(frame_count[2])\n",
    "frame_dict_GIGYF2[\"Total\"].append(total_reads)\n",
    "frame_dict_GIGYF2[\"No_indel_frac\"].append(float(perf_total + miscall_total)/total_reads)\n",
    "frame_dict_GIGYF2[\"In_frame_frac\"].append(float(frame_count[0] + replace_total)/total_reads)\n",
    "frame_dict_GIGYF2[\"Out-of-frame_frac\"].append(float(frame_count[1] + frame_count[2])/total_reads)"
   ]
  },
  {
   "cell_type": "markdown",
   "metadata": {},
   "source": [
    "# --------------------------------"
   ]
  },
  {
   "cell_type": "code",
   "execution_count": 26,
   "metadata": {
    "ExecuteTime": {
     "end_time": "2020-11-11T16:38:47.383542Z",
     "start_time": "2020-11-11T16:38:47.271168Z"
    }
   },
   "outputs": [],
   "source": [
    "f = open(\"stats_cBZ083_UGAC_GIGYF2_sorted\", 'r' )\n",
    "f_readlines = f.readlines()\n",
    "\n",
    "hist_list = []\n",
    "for line in f_readlines[:-4]:\n",
    "    value = int(line.strip())\n",
    "    hist_list.append(value)\n",
    "perf_total = int(f_readlines[-4].strip().split(\" \")[1])\n",
    "indel_total = int(f_readlines[-3].strip().split(\" \")[1])\n",
    "miscall_total = int(f_readlines[-2].strip().split(\" \")[1])\n",
    "replace_total = int(f_readlines[-1].strip().split(\" \")[1])\n",
    "total_reads = perf_total + indel_total + miscall_total + replace_total\n",
    "hist_count = Counter(hist_list)\n",
    "keys = hist_count.keys()\n",
    "indel_size = [(x*-1) for x in keys]\n",
    "indel_frame = [(x%3) for x in hist_list]"
   ]
  },
  {
   "cell_type": "code",
   "execution_count": 27,
   "metadata": {
    "ExecuteTime": {
     "end_time": "2020-11-11T16:38:47.626327Z",
     "start_time": "2020-11-11T16:38:47.387718Z"
    }
   },
   "outputs": [
    {
     "data": {
      "image/png": "[encoded data removed]",
      "text/plain": [
       "<Figure size 432x288 with 1 Axes>"
      ]
     },
     "metadata": {
      "needs_background": "light"
     },
     "output_type": "display_data"
    },
    {
     "name": "stdout",
     "output_type": "stream",
     "text": [
      "[720, 16788, 4199, 398, 5836, 2716, 47, 5655, 30782, 144, 2401, 1376, 257, 1239, 4912, 340, 3774, 6773, 4, 1038, 5013, 142, 3107, 3333, 1113, 3066, 2, 1189, 620, 1, 131, 860, 1232, 772, 1, 305, 314, 348, 2, 1, 10, 34, 17, 12, 10, 16, 14, 91, 208, 250, 94, 199, 76, 30, 37, 185, 63, 48, 189, 246, 65, 22, 8, 1, 11, 6, 9, 12, 8, 11, 23, 190, 54, 15, 1, 1, 3, 3, 2, 126, 2, 1, 4, 1, 1, 2, 1, 1, 1, 2, 2, 1, 4, 1, 1, 2, 1, 5, 4, 4, 1, 1, 1, 1, 2, 1, 1, 6, 9, 3, 3, 2, 1, 119, 2, 16, 8, 9, 5, 8, 4, 2, 1, 4, 1, 1, 3, 1, 1, 4, 2, 2, 1, 3, 2, 1, 1, 2, 2, 3, 4, 7, 32, 9, 16, 10, 4, 12, 13, 9, 17, 27, 4, 3, 4, 7, 4, 3, 3, 30, 85, 13, 1402, 5, 10, 156, 10, 4, 25, 3, 1, 2, 4, 227, 68, 3, 5, 8, 11, 2, 12, 2, 20578, 11, 225, 197, 22, 302, 3, 107, 7, 78]\n"
     ]
    }
   ],
   "source": [
    "cBZ083 = plt.bar(indel_size, hist_count.values())\n",
    "plt.xlabel('Indel')\n",
    "plt.ylabel('Number of reads')\n",
    "plt.title('cBZ083 indels')\n",
    "plt.show()\n",
    "print(hist_count.values())"
   ]
  },
  {
   "cell_type": "code",
   "execution_count": 28,
   "metadata": {
    "ExecuteTime": {
     "end_time": "2020-11-11T16:38:47.756050Z",
     "start_time": "2020-11-11T16:38:47.630264Z"
    }
   },
   "outputs": [
    {
     "data": {
      "text/plain": [
       "Text(0.5,1,'cBZ083 indel frame')"
      ]
     },
     "execution_count": 28,
     "metadata": {},
     "output_type": "execute_result"
    },
    {
     "data": {
      "image/png": "[encoded data removed]",
      "text/plain": [
       "<Figure size 432x288 with 1 Axes>"
      ]
     },
     "metadata": {
      "needs_background": "light"
     },
     "output_type": "display_data"
    }
   ],
   "source": [
    "indel_frame = [(x%3) for x in hist_list]\n",
    "frame_count = Counter(indel_frame)\n",
    "plt.bar(frame_count.keys(), frame_count.values(), 1)\n",
    "plt.xticks(np.arange(0, 3, 1))\n",
    "plt.xlabel(\"indel frame\")\n",
    "plt.ylabel(\"reads\")\n",
    "plt.title(\"cBZ083 indel frame\")"
   ]
  },
  {
   "cell_type": "code",
   "execution_count": 29,
   "metadata": {
    "ExecuteTime": {
     "end_time": "2020-11-11T16:38:47.767550Z",
     "start_time": "2020-11-11T16:38:47.759854Z"
    }
   },
   "outputs": [],
   "source": [
    "frame_dict_GIGYF2[\"Cell_line\"].append(\"cBZ083\")\n",
    "# no_indel_reads = 0\n",
    "# for x in range(len(indel_size)):\n",
    "#     if indel_size[x] == 0:\n",
    "#         no_indel_reads = hist_count.values()[x]\n",
    "frame_dict_GIGYF2[\"No_indels\"].append(perf_total + miscall_total)\n",
    "frame_dict_GIGYF2[\"In_frame\"].append(frame_count[0] + replace_total)\n",
    "frame_dict_GIGYF2[\"+1\"].append(frame_count[1])\n",
    "frame_dict_GIGYF2[\"+2\"].append(frame_count[2])\n",
    "frame_dict_GIGYF2[\"Total\"].append(total_reads)\n",
    "frame_dict_GIGYF2[\"No_indel_frac\"].append(float(perf_total + miscall_total)/total_reads)\n",
    "frame_dict_GIGYF2[\"In_frame_frac\"].append(float(frame_count[0] + replace_total)/total_reads)\n",
    "frame_dict_GIGYF2[\"Out-of-frame_frac\"].append(float(frame_count[1] + frame_count[2])/total_reads)"
   ]
  },
  {
   "cell_type": "markdown",
   "metadata": {},
   "source": [
    "# --------------------------------"
   ]
  },
  {
   "cell_type": "code",
   "execution_count": 30,
   "metadata": {
    "ExecuteTime": {
     "end_time": "2020-11-11T16:38:47.776432Z",
     "start_time": "2020-11-11T16:38:47.771648Z"
    }
   },
   "outputs": [],
   "source": [
    "# frame_dict[\"Cell_line\"].append(\"cBZ093\")\n",
    "# no_indel_reads = 0\n",
    "# for x in range(len(indel_size)):\n",
    "#     if indel_size[x] == 0:\n",
    "#         no_indel_reads = hist_count.values()[x]\n",
    "# frame_dict[\"No_indels\"].append(no_indel_reads)\n",
    "# frame_dict[\"In_frame\"].append(frame_count[0]-no_indel_reads)\n",
    "# frame_dict[\"+1\"].append(frame_count[1])\n",
    "# frame_dict[\"+2\"].append(frame_count[2])"
   ]
  },
  {
   "cell_type": "code",
   "execution_count": 31,
   "metadata": {
    "ExecuteTime": {
     "end_time": "2020-11-11T16:38:47.800554Z",
     "start_time": "2020-11-11T16:38:47.779429Z"
    }
   },
   "outputs": [],
   "source": [
    "f = open(\"stats_cBZ094_GIGYF2-4\", 'r' )\n",
    "f_readlines = f.readlines()\n",
    "\n",
    "hist_list = []\n",
    "for line in f_readlines[:-4]:\n",
    "    value = int(line.strip())\n",
    "    hist_list.append(value)\n",
    "perf_total = int(f_readlines[-4].strip().split(\" \")[1])\n",
    "indel_total = int(f_readlines[-3].strip().split(\" \")[1])\n",
    "miscall_total = int(f_readlines[-2].strip().split(\" \")[1])\n",
    "replace_total = int(f_readlines[-1].strip().split(\" \")[1])\n",
    "total_reads = perf_total + indel_total + miscall_total + replace_total\n",
    "hist_count = Counter(hist_list)\n",
    "keys = hist_count.keys()\n",
    "indel_size = [(x*-1) for x in keys]\n",
    "indel_frame = [(x%3) for x in hist_list]"
   ]
  },
  {
   "cell_type": "code",
   "execution_count": 32,
   "metadata": {
    "ExecuteTime": {
     "end_time": "2020-11-11T16:38:47.895641Z",
     "start_time": "2020-11-11T16:38:47.804368Z"
    }
   },
   "outputs": [
    {
     "data": {
      "image/png": "[encoded data removed]",
      "text/plain": [
       "<Figure size 432x288 with 1 Axes>"
      ]
     },
     "metadata": {
      "needs_background": "light"
     },
     "output_type": "display_data"
    },
    {
     "name": "stdout",
     "output_type": "stream",
     "text": [
      "[2, 1, 8, 5, 8675, 1, 6, 3, 1, 3, 2, 4, 1, 177]\n"
     ]
    }
   ],
   "source": [
    "cBZ094 = plt.bar(indel_size, hist_count.values())\n",
    "plt.xlabel('Indel')\n",
    "plt.ylabel('Number of reads')\n",
    "plt.title('cBZ094 indels')\n",
    "plt.show()\n",
    "print(hist_count.values())"
   ]
  },
  {
   "cell_type": "code",
   "execution_count": 33,
   "metadata": {
    "ExecuteTime": {
     "end_time": "2020-11-11T16:38:47.989882Z",
     "start_time": "2020-11-11T16:38:47.899396Z"
    }
   },
   "outputs": [
    {
     "data": {
      "text/plain": [
       "Text(0.5,1,'cBZ094 indel frame')"
      ]
     },
     "execution_count": 33,
     "metadata": {},
     "output_type": "execute_result"
    },
    {
     "data": {
      "image/png": "[encoded data removed]",
      "text/plain": [
       "<Figure size 432x288 with 1 Axes>"
      ]
     },
     "metadata": {
      "needs_background": "light"
     },
     "output_type": "display_data"
    }
   ],
   "source": [
    "indel_frame = [(x%3) for x in hist_list]\n",
    "frame_count = Counter(indel_frame)\n",
    "plt.bar(frame_count.keys(), frame_count.values(), 1)\n",
    "plt.xticks(np.arange(0, 3, 1))\n",
    "plt.xlabel(\"indel frame\")\n",
    "plt.ylabel(\"reads\")\n",
    "plt.title(\"cBZ094 indel frame\")"
   ]
  },
  {
   "cell_type": "code",
   "execution_count": 34,
   "metadata": {
    "ExecuteTime": {
     "end_time": "2020-11-11T16:38:48.002507Z",
     "start_time": "2020-11-11T16:38:47.993574Z"
    }
   },
   "outputs": [],
   "source": [
    "frame_dict_GIGYF2[\"Cell_line\"].append(\"cBZ094\")\n",
    "# no_indel_reads = 0\n",
    "# for x in range(len(indel_size)):\n",
    "#     if indel_size[x] == 0:\n",
    "#         no_indel_reads = hist_count.values()[x]\n",
    "frame_dict_GIGYF2[\"No_indels\"].append(perf_total + miscall_total)\n",
    "frame_dict_GIGYF2[\"In_frame\"].append(frame_count[0] + replace_total)\n",
    "frame_dict_GIGYF2[\"+1\"].append(frame_count[1])\n",
    "frame_dict_GIGYF2[\"+2\"].append(frame_count[2])\n",
    "frame_dict_GIGYF2[\"Total\"].append(total_reads)\n",
    "frame_dict_GIGYF2[\"No_indel_frac\"].append(float(perf_total + miscall_total)/total_reads)\n",
    "frame_dict_GIGYF2[\"In_frame_frac\"].append(float(frame_count[0] + replace_total)/total_reads)\n",
    "frame_dict_GIGYF2[\"Out-of-frame_frac\"].append(float(frame_count[1] + frame_count[2])/total_reads)"
   ]
  },
  {
   "cell_type": "code",
   "execution_count": 35,
   "metadata": {
    "ExecuteTime": {
     "end_time": "2020-11-11T16:38:48.661448Z",
     "start_time": "2020-11-11T16:38:48.005801Z"
    },
    "scrolled": false
   },
   "outputs": [],
   "source": [
    "import pandas as pd\n",
    "frame_df_eIF4E2 = pd.DataFrame(frame_dict_eIF4E2)\n",
    "frame_df_GIGYF2 = pd.DataFrame(frame_dict_GIGYF2)\n",
    "frame_df_eIF4E2 = frame_df_eIF4E2[[\"Cell_line\", \"No_indels\", \"In_frame\", \"+1\", \"+2\", \"Total\", \"No_indel_frac\", \"In_frame_frac\", \"Out-of-frame_frac\"]]\n",
    "frame_df_GIGYF2 = frame_df_GIGYF2[[\"Cell_line\", \"No_indels\", \"In_frame\", \"+1\", \"+2\", \"Total\", \"No_indel_frac\", \"In_frame_frac\", \"Out-of-frame_frac\"]]"
   ]
  },
  {
   "cell_type": "code",
   "execution_count": 36,
   "metadata": {
    "ExecuteTime": {
     "end_time": "2020-11-11T16:38:48.687694Z",
     "start_time": "2020-11-11T16:38:48.665209Z"
    },
    "scrolled": true
   },
   "outputs": [
    {
     "data": {
      "text/html": [
       "<div>\n",
       "<style scoped>\n",
       "    .dataframe tbody tr th:only-of-type {\n",
       "        vertical-align: middle;\n",
       "    }\n",
       "\n",
       "    .dataframe tbody tr th {\n",
       "        vertical-align: top;\n",
       "    }\n",
       "\n",
       "    .dataframe thead th {\n",
       "        text-align: right;\n",
       "    }\n",
       "</style>\n",
       "<table border=\"1\" class=\"dataframe\">\n",
       "  <thead>\n",
       "    <tr style=\"text-align: right;\">\n",
       "      <th></th>\n",
       "      <th>Cell_line</th>\n",
       "      <th>No_indels</th>\n",
       "      <th>In_frame</th>\n",
       "      <th>+1</th>\n",
       "      <th>+2</th>\n",
       "      <th>Total</th>\n",
       "      <th>No_indel_frac</th>\n",
       "      <th>In_frame_frac</th>\n",
       "      <th>Out-of-frame_frac</th>\n",
       "    </tr>\n",
       "  </thead>\n",
       "  <tbody>\n",
       "    <tr>\n",
       "      <th>0</th>\n",
       "      <td>cBZ056</td>\n",
       "      <td>14298</td>\n",
       "      <td>42</td>\n",
       "      <td>54</td>\n",
       "      <td>9</td>\n",
       "      <td>14403</td>\n",
       "      <td>0.992710</td>\n",
       "      <td>0.002916</td>\n",
       "      <td>0.004374</td>\n",
       "    </tr>\n",
       "    <tr>\n",
       "      <th>1</th>\n",
       "      <td>cBZ082</td>\n",
       "      <td>227184</td>\n",
       "      <td>346</td>\n",
       "      <td>450</td>\n",
       "      <td>171</td>\n",
       "      <td>228151</td>\n",
       "      <td>0.995762</td>\n",
       "      <td>0.001517</td>\n",
       "      <td>0.002722</td>\n",
       "    </tr>\n",
       "    <tr>\n",
       "      <th>2</th>\n",
       "      <td>cBZ090</td>\n",
       "      <td>10267</td>\n",
       "      <td>8</td>\n",
       "      <td>15</td>\n",
       "      <td>7</td>\n",
       "      <td>10297</td>\n",
       "      <td>0.997087</td>\n",
       "      <td>0.000777</td>\n",
       "      <td>0.002137</td>\n",
       "    </tr>\n",
       "    <tr>\n",
       "      <th>3</th>\n",
       "      <td>cBZ091</td>\n",
       "      <td>18814</td>\n",
       "      <td>23</td>\n",
       "      <td>30</td>\n",
       "      <td>10</td>\n",
       "      <td>18877</td>\n",
       "      <td>0.996663</td>\n",
       "      <td>0.001218</td>\n",
       "      <td>0.002119</td>\n",
       "    </tr>\n",
       "  </tbody>\n",
       "</table>\n",
       "</div>"
      ],
      "text/plain": [
       "  Cell_line  No_indels  In_frame   +1   +2   Total  No_indel_frac  \\\n",
       "0    cBZ056      14298        42   54    9   14403       0.992710   \n",
       "1    cBZ082     227184       346  450  171  228151       0.995762   \n",
       "2    cBZ090      10267         8   15    7   10297       0.997087   \n",
       "3    cBZ091      18814        23   30   10   18877       0.996663   \n",
       "\n",
       "   In_frame_frac  Out-of-frame_frac  \n",
       "0       0.002916           0.004374  \n",
       "1       0.001517           0.002722  \n",
       "2       0.000777           0.002137  \n",
       "3       0.001218           0.002119  "
      ]
     },
     "execution_count": 36,
     "metadata": {},
     "output_type": "execute_result"
    }
   ],
   "source": [
    "frame_df_eIF4E2"
   ]
  },
  {
   "cell_type": "code",
   "execution_count": 37,
   "metadata": {
    "ExecuteTime": {
     "end_time": "2020-11-11T16:38:48.710599Z",
     "start_time": "2020-11-11T16:38:48.691583Z"
    },
    "scrolled": true
   },
   "outputs": [
    {
     "data": {
      "text/html": [
       "<div>\n",
       "<style scoped>\n",
       "    .dataframe tbody tr th:only-of-type {\n",
       "        vertical-align: middle;\n",
       "    }\n",
       "\n",
       "    .dataframe tbody tr th {\n",
       "        vertical-align: top;\n",
       "    }\n",
       "\n",
       "    .dataframe thead th {\n",
       "        text-align: right;\n",
       "    }\n",
       "</style>\n",
       "<table border=\"1\" class=\"dataframe\">\n",
       "  <thead>\n",
       "    <tr style=\"text-align: right;\">\n",
       "      <th></th>\n",
       "      <th>Cell_line</th>\n",
       "      <th>No_indels</th>\n",
       "      <th>In_frame</th>\n",
       "      <th>+1</th>\n",
       "      <th>+2</th>\n",
       "      <th>Total</th>\n",
       "      <th>No_indel_frac</th>\n",
       "      <th>In_frame_frac</th>\n",
       "      <th>Out-of-frame_frac</th>\n",
       "    </tr>\n",
       "  </thead>\n",
       "  <tbody>\n",
       "    <tr>\n",
       "      <th>0</th>\n",
       "      <td>cBZ056</td>\n",
       "      <td>8915</td>\n",
       "      <td>15</td>\n",
       "      <td>22</td>\n",
       "      <td>6</td>\n",
       "      <td>8958</td>\n",
       "      <td>0.995200</td>\n",
       "      <td>0.001674</td>\n",
       "      <td>0.003126</td>\n",
       "    </tr>\n",
       "    <tr>\n",
       "      <th>1</th>\n",
       "      <td>cBZ083</td>\n",
       "      <td>1249</td>\n",
       "      <td>4405</td>\n",
       "      <td>45575</td>\n",
       "      <td>88092</td>\n",
       "      <td>139321</td>\n",
       "      <td>0.008965</td>\n",
       "      <td>0.031618</td>\n",
       "      <td>0.959417</td>\n",
       "    </tr>\n",
       "    <tr>\n",
       "      <th>2</th>\n",
       "      <td>cBZ094</td>\n",
       "      <td>17</td>\n",
       "      <td>16</td>\n",
       "      <td>8</td>\n",
       "      <td>8865</td>\n",
       "      <td>8906</td>\n",
       "      <td>0.001909</td>\n",
       "      <td>0.001797</td>\n",
       "      <td>0.996295</td>\n",
       "    </tr>\n",
       "  </tbody>\n",
       "</table>\n",
       "</div>"
      ],
      "text/plain": [
       "  Cell_line  No_indels  In_frame     +1     +2   Total  No_indel_frac  \\\n",
       "0    cBZ056       8915        15     22      6    8958       0.995200   \n",
       "1    cBZ083       1249      4405  45575  88092  139321       0.008965   \n",
       "2    cBZ094         17        16      8   8865    8906       0.001909   \n",
       "\n",
       "   In_frame_frac  Out-of-frame_frac  \n",
       "0       0.001674           0.003126  \n",
       "1       0.031618           0.959417  \n",
       "2       0.001797           0.996295  "
      ]
     },
     "execution_count": 37,
     "metadata": {},
     "output_type": "execute_result"
    }
   ],
   "source": [
    "frame_df_GIGYF2"
   ]
  }
 ],
 "metadata": {
  "kernelspec": {
   "display_name": "Python 2",
   "language": "python",
   "name": "python2"
  },
  "language_info": {
   "codemirror_mode": {
    "name": "ipython",
    "version": 2
   },
   "file_extension": ".py",
   "mimetype": "text/x-python",
   "name": "python",
   "nbconvert_exporter": "python",
   "pygments_lexer": "ipython2",
   "version": "2.7.12"
  }
 },
 "nbformat": 4,
 "nbformat_minor": 2
}
